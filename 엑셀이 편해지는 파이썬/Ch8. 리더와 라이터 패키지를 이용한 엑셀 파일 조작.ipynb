{
 "cells": [
  {
   "cell_type": "markdown",
   "id": "70908c28",
   "metadata": {},
   "source": [
    "# 리더와 라이터 패키지"
   ]
  },
  {
   "cell_type": "markdown",
   "id": "8c753a36",
   "metadata": {},
   "source": [
    "## OpenPyXL"
   ]
  },
  {
   "cell_type": "code",
   "execution_count": 1,
   "id": "17aef0d3",
   "metadata": {},
   "outputs": [],
   "source": [
    "import pandas as pd\n",
    "import openpyxl\n",
    "import excel\n",
    "import datetime as dt"
   ]
  },
  {
   "cell_type": "code",
   "execution_count": 2,
   "id": "35fa0c59",
   "metadata": {},
   "outputs": [],
   "source": [
    "# 셀 값을 읽도록 워크북을 엽니다.\n",
    "# 데이터를 모두 읽으면 파일은 자동으로 닫힙니다.\n",
    "book = openpyxl.load_workbook(\"xl/stores.xlsx\", data_only=True)"
   ]
  },
  {
   "cell_type": "code",
   "execution_count": 3,
   "id": "4ccfc085",
   "metadata": {},
   "outputs": [],
   "source": [
    "# 이름 또는 0으로 시작하는 인덱스로 워크시트 객체를 가져옵니다\n",
    "sheet = book[\"2019\"]\n",
    "sheet = book.worksheets[0]"
   ]
  },
  {
   "cell_type": "code",
   "execution_count": 4,
   "id": "1eba22e9",
   "metadata": {},
   "outputs": [
    {
     "data": {
      "text/plain": [
       "['2019', '2020', '2019-2020']"
      ]
     },
     "execution_count": 4,
     "metadata": {},
     "output_type": "execute_result"
    }
   ],
   "source": [
    "# 시트 이름 리스트를 가져옵니다.\n",
    "book.sheetnames"
   ]
  },
  {
   "cell_type": "code",
   "execution_count": 5,
   "id": "0fe536dd",
   "metadata": {},
   "outputs": [
    {
     "name": "stdout",
     "output_type": "stream",
     "text": [
      "2019\n",
      "2020\n",
      "2019-2020\n"
     ]
    }
   ],
   "source": [
    "# 시트 객체를 순회합니다\n",
    "# OpenPyXL은 \"name\" 대신 \"title\"을 사용합니다\n",
    "for i in book.worksheets:\n",
    "    print(i.title)"
   ]
  },
  {
   "cell_type": "code",
   "execution_count": 6,
   "id": "75db67cc",
   "metadata": {},
   "outputs": [
    {
     "data": {
      "text/plain": [
       "(8, 6)"
      ]
     },
     "execution_count": 6,
     "metadata": {},
     "output_type": "execute_result"
    }
   ],
   "source": [
    "# 크기, 즉 시트의 '사용된 영역'을 가져옵니다\n",
    "sheet.max_row, sheet.max_column"
   ]
  },
  {
   "cell_type": "code",
   "execution_count": 7,
   "id": "09027a1b",
   "metadata": {},
   "outputs": [
    {
     "data": {
      "text/plain": [
       "'Boston'"
      ]
     },
     "execution_count": 7,
     "metadata": {},
     "output_type": "execute_result"
    }
   ],
   "source": [
    "# A1 표기법과 셀 인덱스 (1에서 시작)을 써서 셀 값을 읽습니다\n",
    "sheet[\"B6\"].value\n",
    "sheet.cell(row=6, column=2).value"
   ]
  },
  {
   "cell_type": "code",
   "execution_count": 8,
   "id": "9a36703f",
   "metadata": {},
   "outputs": [
    {
     "data": {
      "text/plain": [
       "[['Store', 'Employees', 'Manager', 'Since', 'Flagship'],\n",
       " ['New York', 10, 'Sarah', datetime.datetime(2018, 7, 20, 0, 0), False]]"
      ]
     },
     "execution_count": 8,
     "metadata": {},
     "output_type": "execute_result"
    }
   ],
   "source": [
    "# excel 모듈을 써서 셀 값 범위를 읽습니다\n",
    "data = excel.read(book[\"2019\"], (2, 2), (8, 6))\n",
    "data[:2] # 첫 번째와 두번 째 행을 출력합니다"
   ]
  },
  {
   "cell_type": "code",
   "execution_count": 9,
   "id": "3467c57c",
   "metadata": {},
   "outputs": [],
   "source": [
    "import openpyxl\n",
    "from openpyxl.drawing.image import Image\n",
    "from openpyxl.chart import BarChart, Reference\n",
    "from openpyxl.styles import Font, colors\n",
    "from openpyxl.styles.borders import Border, Side\n",
    "from openpyxl.styles.alignment import Alignment\n",
    "from openpyxl.styles.fills import PatternFill\n",
    "import excel"
   ]
  },
  {
   "cell_type": "code",
   "execution_count": 10,
   "id": "1adf2ac1",
   "metadata": {},
   "outputs": [],
   "source": [
    "# 워크북 인스턴스를 만듭니다\n",
    "book = openpyxl.Workbook()\n",
    "\n",
    "# 첫 번째 시트를 가져와 이름을 붙입니다\n",
    "sheet = book.active\n",
    "sheet.title = \"Sheet1\"\n",
    "\n",
    "# A1 표기법과 셀 인덱스 (1에서 시작)를 시용해\n",
    "# 각 셀에 기록합니다\n",
    "sheet[\"A1\"].value = \"Hello 1\"\n",
    "sheet.cell(row=2, column=1, value=\"Hello 2\")\n",
    "\n",
    "# 스타일: 채우기 색깔, 정렬, 보더, 폰트\n",
    "font_format = Font(color=\"FF0000\", bold=True)\n",
    "thin = Side(border_style=\"thin\", color=\"FF0000\")\n",
    "sheet[\"A3\"].value = \"Hello 3\"\n",
    "sheet[\"A3\"].font = font_format\n",
    "sheet[\"A3\"].border = Border(top=thin, left=thin,\n",
    "                            right=thin, bottom=thin)\n",
    "sheet[\"A3\"].alignment = Alignment(horizontal=\"center\")\n",
    "sheet[\"A3\"].fill = PatternFill(fgColor=\"FFFF00\", fill_type=\"solid\")\n",
    "\n",
    "# 숫자 형식 지정 (엑셀의 형식 문자열을 사용합니다)\n",
    "sheet[\"A4\"].value = 3.3333\n",
    "sheet[\"A4\"].number_format =\"0.00\"\n",
    "\n",
    "# 날짜 형식 \n",
    "sheet[\"A5\"].value = dt.date(2016, 10, 13)\n",
    "sheet[\"A5\"].number_format = \"mm/dd/yy\"\n",
    "\n",
    "# 공식을 쓸 때는 반드시 공식의 영어 이름을\n",
    "# 콤마로 구분해서 써야 합니다\n",
    "sheet[\"A6\"].value = \"=SUM(A4, 2)\"\n",
    "\n",
    "# 이미지\n",
    "sheet.add_image(Image(\"images/python.png\"), \"C1\")\n",
    "\n",
    "# 2차원 리스트 (excel 모듈을 쓸고 있습니다)\n",
    "data = [[None, \"North\", \"South\"],\n",
    "        [\"Last Year\", 2, 5],\n",
    "        [\"This Year\", 3, 6]]\n",
    "excel.write(sheet, data, \"A10\")\n",
    "\n",
    "# 차트\n",
    "chart = BarChart()\n",
    "chart.type = \"col\"\n",
    "chart.title = \"Sales Per Region\"\n",
    "chart.x_axis.title = \"Regions\"\n",
    "chart.y_axis.title = \"Sales\"\n",
    "chart_data = Reference(sheet, min_row=11, min_col=1,\n",
    "                       max_row=12, max_col=3)\n",
    "chart_categories = Reference(sheet, min_row=10, min_col=2,\n",
    "                             max_row=10, max_col=3)\n",
    "# from_rows는 엑셀에서 차트를 직접 추가하는 것과\n",
    "# 마찬가지 방법으로 데이터를 해석합니다\n",
    "chart.add_data(chart_data, titles_from_data=True, from_rows=True)\n",
    "chart.set_categories(chart_categories)\n",
    "sheet.add_chart(chart, \"A15\")\n",
    "\n",
    "# 워크북을 저장하면 디스크에 파일이 생성됩니다\n",
    "book.save(\"openpyxl.xlsx\")"
   ]
  },
  {
   "cell_type": "code",
   "execution_count": 11,
   "id": "ecf7e078",
   "metadata": {},
   "outputs": [],
   "source": [
    "book = openpyxl.Workbook()\n",
    "sheet = book.active\n",
    "sheet[\"A1\"]. value = \"This is a template\"\n",
    "book.template = True\n",
    "book.save(\"template.xltx\")"
   ]
  },
  {
   "cell_type": "code",
   "execution_count": 12,
   "id": "774c26d3",
   "metadata": {},
   "outputs": [],
   "source": [
    "# stores.xlsx 파일을 읽고 셀 한의 값을 바꾼 다음\n",
    "# 다른이름으로 저장합니다.\n",
    "book = openpyxl.load_workbook(\"xl/stores.xlsx\")\n",
    "book[\"2019\"][\"A1\"].value = \"modified\"\n",
    "book.save(\"stores_edited.xlsx\")"
   ]
  },
  {
   "cell_type": "code",
   "execution_count": 13,
   "id": "ff14d705",
   "metadata": {},
   "outputs": [],
   "source": [
    "book = openpyxl.load_workbook(\"xl/macro.xlsm\", keep_vba=True)\n",
    "book[\"Sheet1\"][\"A1\"].value = \"Click the button!\"\n",
    "book.save(\"macro_openpyxl.xlsm\")"
   ]
  },
  {
   "cell_type": "markdown",
   "id": "82081bff",
   "metadata": {},
   "source": [
    "## XlsxWriter"
   ]
  },
  {
   "cell_type": "code",
   "execution_count": 14,
   "id": "10a3e1df",
   "metadata": {},
   "outputs": [],
   "source": [
    "import datetime as dt\n",
    "import xlsxwriter\n",
    "import excel"
   ]
  },
  {
   "cell_type": "code",
   "execution_count": 15,
   "id": "98ce08b3",
   "metadata": {},
   "outputs": [],
   "source": [
    "# 워크북 인스턴스를 만듭니다\n",
    "book = xlsxwriter.Workbook(\"xlsxwriter.xlsx\")\n",
    "\n",
    "# 시트를 추가하고 이름을 붙입니다\n",
    "sheet = book.add_worksheet(\"Sheet1\")\n",
    "\n",
    "# A1 표기법과 셀 인덱스 (0으로 시작)를 써서 셀세 기록합니다\n",
    "sheet.write(\"A1\", \"Hello 1\")\n",
    "sheet.write(1, 0, \"Hello 2\")\n",
    "\n",
    "# 스타일: 채우기 색깔, 정렬, 보드 ,폰트\n",
    "formatting = book.add_format({\"font_color\": \"#FF0000\",\n",
    "                              \"bg_color\": \"#FFFF00\",\n",
    "                              \"bold\": True, \"align\": \"center\",\n",
    "                              \"border\": 1, \"border_color\": \"#FF0000\"})\n",
    "sheet.write(\"A3\", \"Hello 3\", formatting)\n",
    "\n",
    "# 숫자 형식 지정 (엑셀의 형식 문자열을 사용합니다)\n",
    "number_format = book.add_format({\"num_format\": \"0.00\"})\n",
    "sheet.write(\"A4\", 3.3333, number_format)\n",
    "\n",
    "# 날짜 형식 (엑셀의 형식 문자열을 사용합니다)\n",
    "date_format = book.add_format({\"num_format\": \"mm/dd/yy\"})\n",
    "sheet.write(\"A5\", dt.date(2016, 10, 13), date_format)\n",
    "\n",
    "# 공식을 쓸 때는 반드시 공식의 영어 이름을\n",
    "# 콤마로 구분해서 써야 합니다\n",
    "sheet.write(\"A6\", \"=SUM(A4, 2)\")\n",
    "\n",
    "# 이미지\n",
    "sheet.insert_image(0, 2, \"images/python.png\")\n",
    "\n",
    "# 2차원 리스트 (excel 모듈을 쓰고 있습니다)\n",
    "data = [[None, \"North\", \"South\"],\n",
    "        [\"Last Year\", 2, 5],\n",
    "        [\"This Year\", 3, 6]]\n",
    "excel.write(sheet, data, \"A10\")\n",
    "\n",
    "# 차트: 저장소에 있는 sales_report_xlsxwriter.py 파일을 보고\n",
    "# 셀 주소 대신 인덱스를 사용하는 방법을 알아보시오\n",
    "chart = book.add_chart({\"type\": \"column\"})\n",
    "chart.set_title({\"name\": \"Sales per Region\"})\n",
    "chart.add_series({\"name\": \"=Sheet1!A11\",\n",
    "                  \"categories\": \"=Sheet1!B10:C10\",\n",
    "                  \"values\": \"=Sheet1!B11:C11\"})\n",
    "chart.add_series({\"name\": \"=Sheet1!A12\",\n",
    "                  \"categories\": \"=Sheet1!B10:C10\",\n",
    "                  \"values\": \"=Sheet1!B12:C12\"})\n",
    "chart.set_x_axis({\"name\": \"Regions\"})\n",
    "chart.set_y_axis({\"name\": \"Sales\"})\n",
    "sheet.insert_chart(\"A15\", chart)\n",
    "\n",
    "# 워크북을 닫으면 디스크에 파일이 생성됩니다\n",
    "book.close()"
   ]
  },
  {
   "cell_type": "code",
   "execution_count": 16,
   "id": "f811a7fa",
   "metadata": {},
   "outputs": [],
   "source": [
    "book = xlsxwriter.Workbook(\"macro_xlsxwriter.xlsm\")\n",
    "sheet = book.add_worksheet(\"Sheet1\")\n",
    "sheet.write(\"A1\", \"Click the button!\")\n",
    "book.add_vba_project(\"xl/vbaProject.bin\")\n",
    "sheet.insert_button(\"A3\", {\"macro\": \"Hello\", \"caption\": \"Button 1\",\n",
    "                           \"width\": 130, \"height\": 35})\n",
    "book.close()"
   ]
  },
  {
   "cell_type": "markdown",
   "id": "c51d91c9",
   "metadata": {},
   "source": [
    "## pyxlsb"
   ]
  },
  {
   "cell_type": "code",
   "execution_count": 17,
   "id": "e57e707f",
   "metadata": {},
   "outputs": [
    {
     "name": "stdout",
     "output_type": "stream",
     "text": [
      "Requirement already satisfied: pyxlsb in c:\\users\\user\\anaconda3\\lib\\site-packages (1.0.9)\n",
      "Note: you may need to restart the kernel to use updated packages.\n"
     ]
    }
   ],
   "source": [
    "pip install pyxlsb"
   ]
  },
  {
   "cell_type": "code",
   "execution_count": 18,
   "id": "1b18d8ee",
   "metadata": {},
   "outputs": [],
   "source": [
    "import pyxlsb\n",
    "import excel"
   ]
  },
  {
   "cell_type": "code",
   "execution_count": 19,
   "id": "db1298f5",
   "metadata": {},
   "outputs": [
    {
     "name": "stdout",
     "output_type": "stream",
     "text": [
      "Sheet '2019' has 7 rows and 5 cols\n",
      "Sheet '2020' has 7 rows and 5 cols\n",
      "Sheet '2019-2020' has 20 rows and 5 cols\n"
     ]
    }
   ],
   "source": [
    "# 시트를 순회합니다. pyxlab에서는 워크북과\n",
    "# 시트 객체를 콘텍스트 관리자로 사용할 수 있습니다\n",
    "# book.sheets는 객체가 아니라 시트 이름 리스트를 반환합니다\n",
    "# 시트 객체를 얻으려면 use get_sheet()를 사용하십시오\n",
    "with pyxlsb.open_workbook(\"xl/stores.xlsb\") as book:\n",
    "    for sheet_name in book.sheets:\n",
    "        with book.get_sheet(sheet_name) as sheet:\n",
    "            dim = sheet.dimension\n",
    "            print(f\"Sheet '{sheet_name}' has \"\n",
    "                  f\"{dim.h} rows and {dim.w} cols\")"
   ]
  },
  {
   "cell_type": "code",
   "execution_count": 20,
   "id": "34238ad6",
   "metadata": {},
   "outputs": [
    {
     "data": {
      "text/plain": [
       "[['Store', 'Employees', 'Manager', 'Since', 'Flagship'],\n",
       " ['New York', 10.0, 'Sarah', 43301.0, False]]"
      ]
     },
     "execution_count": 20,
     "metadata": {},
     "output_type": "execute_result"
    }
   ],
   "source": [
    "# excel 모듈을 써서 셀 범위의 값을 읽습니다.\n",
    "# \"2019\" 대신 1에서 시작하는 인덱스를 써도 됩니다\n",
    "with pyxlsb.open_workbook(\"xl/stores.xlsb\") as book:\n",
    "    with book.get_sheet(\"2019\") as sheet:\n",
    "        data = excel.read(sheet, \"B2\")\n",
    "data[:2]  # 첫 번째와 두 번째 행을 출력합니다"
   ]
  },
  {
   "cell_type": "code",
   "execution_count": 21,
   "id": "300ccd35",
   "metadata": {},
   "outputs": [
    {
     "data": {
      "text/plain": [
       "datetime.datetime(2018, 7, 20, 0, 0)"
      ]
     },
     "execution_count": 21,
     "metadata": {},
     "output_type": "execute_result"
    }
   ],
   "source": [
    "from pyxlsb import convert_date\n",
    "convert_date(data[1][3])"
   ]
  },
  {
   "cell_type": "code",
   "execution_count": 23,
   "id": "6daab45b",
   "metadata": {},
   "outputs": [],
   "source": [
    "df = pd.read_excel(\"xl/stores.xlsb\", engine=\"pyxlsb\")"
   ]
  },
  {
   "cell_type": "markdown",
   "id": "9657cdef",
   "metadata": {},
   "source": [
    "## xlrd, xlwt, 엑셀 유틸"
   ]
  },
  {
   "cell_type": "code",
   "execution_count": 24,
   "id": "9926c4d8",
   "metadata": {},
   "outputs": [
    {
     "name": "stdout",
     "output_type": "stream",
     "text": [
      "Collecting package metadata (current_repodata.json): ...working... done\n",
      "Solving environment: ...working... done\n",
      "\n",
      "# All requested packages already installed.\n",
      "\n",
      "\n",
      "Note: you may need to restart the kernel to use updated packages.\n"
     ]
    }
   ],
   "source": [
    "conda install xlutils"
   ]
  },
  {
   "cell_type": "code",
   "execution_count": 25,
   "id": "9113c376",
   "metadata": {},
   "outputs": [],
   "source": [
    "import xlrd\n",
    "import xlwt\n",
    "from xlwt.Utils import cell_to_rowcol2\n",
    "import xlutils\n",
    "import excel"
   ]
  },
  {
   "cell_type": "code",
   "execution_count": 26,
   "id": "68bff733",
   "metadata": {},
   "outputs": [],
   "source": [
    "# 셀 값을 읽을 워크북을 엽니다\n",
    "# 데이터를 다 읽으면 파일은 자동으로 다시 닫힙니다\n",
    "book = xlrd.open_workbook(\"xl/stores.xls\")"
   ]
  },
  {
   "cell_type": "code",
   "execution_count": 27,
   "id": "0ef394e6",
   "metadata": {},
   "outputs": [
    {
     "data": {
      "text/plain": [
       "['2019', '2020', '2019-2020']"
      ]
     },
     "execution_count": 27,
     "metadata": {},
     "output_type": "execute_result"
    }
   ],
   "source": [
    "# 시트 이름 리스트를 가져옵니다\n",
    "book.sheet_names()"
   ]
  },
  {
   "cell_type": "code",
   "execution_count": 28,
   "id": "9aeb4510",
   "metadata": {},
   "outputs": [
    {
     "name": "stdout",
     "output_type": "stream",
     "text": [
      "2019\n",
      "2020\n",
      "2019-2020\n"
     ]
    }
   ],
   "source": [
    "# 시트 객체를 순회합니다\n",
    "for sheet in book.sheets():\n",
    "    print(sheet.name)"
   ]
  },
  {
   "cell_type": "code",
   "execution_count": 29,
   "id": "732d1aea",
   "metadata": {},
   "outputs": [],
   "source": [
    "# 이름이나 인덱스 (0으로 시작)로 시트 객체를 가져옵니다\n",
    "sheet = book.sheet_by_index(0)\n",
    "sheet = book.sheet_by_name(\"2019\")"
   ]
  },
  {
   "cell_type": "code",
   "execution_count": 30,
   "id": "f40e15b4",
   "metadata": {},
   "outputs": [
    {
     "data": {
      "text/plain": [
       "(8, 6)"
      ]
     },
     "execution_count": 30,
     "metadata": {},
     "output_type": "execute_result"
    }
   ],
   "source": [
    "# 크기\n",
    "sheet.nrows, sheet.ncols"
   ]
  },
  {
   "cell_type": "code",
   "execution_count": 31,
   "id": "c2f4e647",
   "metadata": {},
   "outputs": [
    {
     "data": {
      "text/plain": [
       "'New York'"
      ]
     },
     "execution_count": 31,
     "metadata": {},
     "output_type": "execute_result"
    }
   ],
   "source": [
    "# A1 표기법과 셀 인덱스(0으로 시작)로 셀 값을 읽습니다\n",
    "# *는 cell_to_rowcol2가 반환하는 튜플을 개별 인자로 분해합니다\n",
    "sheet.cell(*cell_to_rowcol2(\"B3\")).value\n",
    "sheet.cell(2, 1).value"
   ]
  },
  {
   "cell_type": "code",
   "execution_count": 32,
   "id": "4125ac40",
   "metadata": {},
   "outputs": [
    {
     "data": {
      "text/plain": [
       "[['Store', 'Employees', 'Manager', 'Since', 'Flagship'],\n",
       " ['New York', 10.0, 'Sarah', datetime.datetime(2018, 7, 20, 0, 0), False]]"
      ]
     },
     "execution_count": 32,
     "metadata": {},
     "output_type": "execute_result"
    }
   ],
   "source": [
    "# excel 모듈을 써서 셀 값 범위를 읽습니다\n",
    "data = excel.read(sheet, \"B2\")\n",
    "data[:2]  # 첫 번째와 두 번째 행을 출력합니다"
   ]
  },
  {
   "cell_type": "code",
   "execution_count": 33,
   "id": "f46422ef",
   "metadata": {},
   "outputs": [],
   "source": [
    "import xlwt\n",
    "from xlwt.Utils import cell_to_rowcol2\n",
    "import datetime as dt\n",
    "import excel"
   ]
  },
  {
   "cell_type": "code",
   "execution_count": 34,
   "id": "8c7c4ff0",
   "metadata": {},
   "outputs": [],
   "source": [
    "# 워크북 인스턴스를 만듭니다\n",
    "book = xlwt.Workbook()\n",
    "\n",
    "# 시트를 추가하고 이름을 붙입니다\n",
    "sheet = book.add_sheet(\"Sheet1\")\n",
    "\n",
    "# A1 표기법과 셀 인덱스 (0으로 시작)를 써서 셀에 기록합니다\n",
    "sheet.write(*cell_to_rowcol2(\"A1\"), \"Hello 1\")\n",
    "sheet.write(r=1, c=0, label=\"Hello 2\")\n",
    "\n",
    "# 스타일: 채우기, 색깔, 정렬, 보더, 폰트\n",
    "formatting = xlwt.easyxf(\"font: bold on, color red;\"\n",
    "                         \"align: horiz center;\"\n",
    "                         \"borders: top_color red, bottom_color red,\"\n",
    "                                  \"right_color red, left_color red,\"\n",
    "                                  \"left thin, right thin,\"\n",
    "                                  \"top thin, bottom thin;\"\n",
    "                         \"pattern: pattern solid, fore_color yellow;\")\n",
    "sheet.write(r=2, c=0, label=\"Hello 3\", style=formatting)\n",
    "\n",
    "# 숫자 형식 지정 (엑셀의 형식 문자열을 사용합니다)\n",
    "number_format = xlwt.easyxf(num_format_str=\"0.00\")\n",
    "sheet.write(3, 0, 3.3333, number_format)\n",
    "\n",
    "# 날짜 형식 지정 (엑셀의 형식 문자열을 사용합니다)\n",
    "date_format = xlwt.easyxf(num_format_str=\"mm/dd/yyyy\")\n",
    "sheet.write(4, 0, dt.datetime(2012, 2, 3), date_format)\n",
    "\n",
    "# 공식을 쓸 때는 반드시 공식의 영어 이름을 \n",
    "# 콤마로 구분해서 써야 합니다\n",
    "sheet.write(5, 0, xlwt.Formula(\"SUM(A4, 2)\"))\n",
    "\n",
    "# 2차원 리스트 (excel 모듈을 쓰고 있습니다)\n",
    "data = [[None, \"North\", \"South\"],\n",
    "        [\"Last Year\", 2, 5],\n",
    "        [\"This Year\", 3, 6]]\n",
    "excel.write(sheet, data, \"A10\")\n",
    "\n",
    "# 그림 (bmp 형식만 사용 가능)\n",
    "sheet.insert_bitmap(\"images/python.bmp\", 0, 2)\n",
    "\n",
    "# 파일을 디스크에 씁니다\n",
    "book.save(\"xlwt.xls\")"
   ]
  },
  {
   "cell_type": "code",
   "execution_count": 35,
   "id": "c0afdcc0",
   "metadata": {},
   "outputs": [],
   "source": [
    "import xlutils.copy"
   ]
  },
  {
   "cell_type": "code",
   "execution_count": 36,
   "id": "cdf7f252",
   "metadata": {},
   "outputs": [],
   "source": [
    "book = xlrd.open_workbook(\"xl/stores.xls\", formatting_info=True)\n",
    "book = xlutils.copy.copy(book)\n",
    "book.get_sheet(0).write(0, 0, \"changed!\")\n",
    "book.save(\"stores_edited.xls\")"
   ]
  },
  {
   "cell_type": "markdown",
   "id": "4efbd56e",
   "metadata": {},
   "source": [
    "# 고급주제"
   ]
  },
  {
   "cell_type": "markdown",
   "id": "26b4bc33",
   "metadata": {},
   "source": [
    "## 큰 엑셀 파일 다루기"
   ]
  },
  {
   "cell_type": "markdown",
   "id": "6c6e6f1b",
   "metadata": {},
   "source": [
    "### OpenPyXL로 쓰기"
   ]
  },
  {
   "cell_type": "code",
   "execution_count": 37,
   "id": "9448a3dd",
   "metadata": {},
   "outputs": [],
   "source": [
    "book = openpyxl.Workbook(write_only=True)\n",
    "# write_only=True를 사용하면 book.active는 작동하지 않습니다\n",
    "sheet = book.create_sheet()\n",
    "# 1000 * 200 셀로 구성된 시트를 만듭니다\n",
    "for row in range(1000):\n",
    "    sheet.append(list(range(200)))\n",
    "book.save(\"openpyxl_optimized.xlsx\")"
   ]
  },
  {
   "cell_type": "markdown",
   "id": "7aab3931",
   "metadata": {},
   "source": [
    "### XlsxWriter로 쓰기"
   ]
  },
  {
   "cell_type": "code",
   "execution_count": 38,
   "id": "2da3e637",
   "metadata": {},
   "outputs": [],
   "source": [
    "book = xlsxwriter.Workbook(\"xlsxwriter_optimized.xlsx\",\n",
    "                           options={\"constant_memory\": True})\n",
    "sheet = book.add_worksheet()\n",
    "# 1000 * 200 셀로 구성된 시트를 만듭니다\n",
    "for row in range(1000):\n",
    "    sheet.write_row(row , 0, list(range(200)))\n",
    "book.close()"
   ]
  },
  {
   "cell_type": "markdown",
   "id": "9d5d91d1",
   "metadata": {},
   "source": [
    "### xlrd로 읽기"
   ]
  },
  {
   "cell_type": "code",
   "execution_count": 39,
   "id": "6a41c0df",
   "metadata": {},
   "outputs": [],
   "source": [
    "with xlrd.open_workbook(\"xl/stores.xls\", on_demand=True) as book:\n",
    "    sheet = book.sheet_by_index(0)  # 첫 번째 시트만 불러옵니다"
   ]
  },
  {
   "cell_type": "code",
   "execution_count": 40,
   "id": "a60eb2c4",
   "metadata": {},
   "outputs": [],
   "source": [
    "with xlrd.open_workbook(\"xl/stores.xls\", on_demand=True) as book:\n",
    "    with pd.ExcelFile(book, engine=\"xlrd\") as f:\n",
    "        df = pd.read_excel(f, sheet_name=0)"
   ]
  },
  {
   "cell_type": "markdown",
   "id": "fb899b82",
   "metadata": {},
   "source": [
    "### OpenPyXL로 읽기"
   ]
  },
  {
   "cell_type": "code",
   "execution_count": 41,
   "id": "44316b64",
   "metadata": {},
   "outputs": [],
   "source": [
    "book = openpyxl.load_workbook(\"xl/big.xlsx\",\n",
    "                              data_only=True, read_only=True,\n",
    "                              keep_links=False)\n",
    "# 필요한 읽기 작업을 여기서 수행합니다\n",
    "book.close()  # read_only=True를 사용했다면 꼭 필요합니다"
   ]
  },
  {
   "cell_type": "markdown",
   "id": "202846bd",
   "metadata": {},
   "source": [
    "## 데이터프레임 서식 개선"
   ]
  },
  {
   "cell_type": "code",
   "execution_count": 49,
   "id": "2ec958a1",
   "metadata": {},
   "outputs": [],
   "source": [
    "with pd.ExcelFile(\"xl/stores.xlsx\", engine=\"openpyxl\") as xlfile:\n",
    "    # 데이터프레임 읽기\n",
    "    df = pd.read_excel(xlfile, sheet_name=\"2020\")\n",
    "\n",
    "    # OpenPyXL 워크북 객체를 가져옵니다\n",
    "    book = xlfile.book\n",
    "\n",
    "    # 여기서부터는 OpenPyXL 코드입니다\n",
    "    sheet = book[\"2019\"]\n",
    "    value = sheet[\"B3\"].value  # 값 하나를 읽습니다"
   ]
  },
  {
   "cell_type": "code",
   "execution_count": 50,
   "id": "93ce4304",
   "metadata": {},
   "outputs": [],
   "source": [
    "with pd.ExcelWriter(\"pandas_and_openpyxl.xlsx\",\n",
    "                    engine=\"openpyxl\") as writer:\n",
    "    df = pd.DataFrame({\"col1\": [1, 2, 3, 4], \"col2\": [5, 6, 7, 8]})\n",
    "    # 데이터 프레임을 씁니다\n",
    "    df.to_excel(writer, \"Sheet1\", startrow=4, startcol=2)\n",
    "\n",
    "    # OpenPyXL 워크북과 시트 객체를 가져옵니다\n",
    "    book = writer.book\n",
    "    sheet = writer.sheets[\"Sheet1\"]\n",
    "\n",
    "    # 여기서부터는 OpenPyXL 코드입니다\n",
    "    sheet[\"A1\"].value = \"This is a Title\"  # 셀 하나에 값을 씁니다"
   ]
  },
  {
   "cell_type": "markdown",
   "id": "bbdea73e",
   "metadata": {},
   "source": [
    "### 데이터프레임의 인덱스와 헤더에 서식 적용"
   ]
  },
  {
   "cell_type": "code",
   "execution_count": 51,
   "id": "2accc1bd",
   "metadata": {},
   "outputs": [
    {
     "data": {
      "text/html": [
       "<div>\n",
       "<style scoped>\n",
       "    .dataframe tbody tr th:only-of-type {\n",
       "        vertical-align: middle;\n",
       "    }\n",
       "\n",
       "    .dataframe tbody tr th {\n",
       "        vertical-align: top;\n",
       "    }\n",
       "\n",
       "    .dataframe thead th {\n",
       "        text-align: right;\n",
       "    }\n",
       "</style>\n",
       "<table border=\"1\" class=\"dataframe\">\n",
       "  <thead>\n",
       "    <tr style=\"text-align: right;\">\n",
       "      <th></th>\n",
       "      <th>col1</th>\n",
       "      <th>col2</th>\n",
       "    </tr>\n",
       "    <tr>\n",
       "      <th>ix</th>\n",
       "      <th></th>\n",
       "      <th></th>\n",
       "    </tr>\n",
       "  </thead>\n",
       "  <tbody>\n",
       "    <tr>\n",
       "      <th>row1</th>\n",
       "      <td>1</td>\n",
       "      <td>-3</td>\n",
       "    </tr>\n",
       "    <tr>\n",
       "      <th>row2</th>\n",
       "      <td>-2</td>\n",
       "      <td>4</td>\n",
       "    </tr>\n",
       "  </tbody>\n",
       "</table>\n",
       "</div>"
      ],
      "text/plain": [
       "      col1  col2\n",
       "ix              \n",
       "row1     1    -3\n",
       "row2    -2     4"
      ]
     },
     "execution_count": 51,
     "metadata": {},
     "output_type": "execute_result"
    }
   ],
   "source": [
    "df = pd.DataFrame({\"col1\": [1, -2], \"col2\": [-3, 4]},\n",
    "                   index=[\"row1\", \"row2\"])\n",
    "df.index.name = \"ix\"\n",
    "df"
   ]
  },
  {
   "cell_type": "code",
   "execution_count": 52,
   "id": "a23fd276",
   "metadata": {},
   "outputs": [],
   "source": [
    "from openpyxl.styles import PatternFill"
   ]
  },
  {
   "cell_type": "code",
   "execution_count": 53,
   "id": "86170f60",
   "metadata": {},
   "outputs": [],
   "source": [
    "with pd.ExcelWriter(\"formatting_openpyxl.xlsx\",\n",
    "                    engine=\"openpyxl\") as writer:\n",
    "    # 데이터프레임을 기본 서식으로 A1에 씁니다\n",
    "    df.to_excel(writer, startrow=0, startcol=0)\n",
    "\n",
    "    # 데이터프레임의 인덱스와 헤더에 커스텀 서식을 적용해 A6에 씁니다\n",
    "    startrow, startcol = 0, 5\n",
    "    # 1. 데이터프레임의 데이터 부분을 씁니다\n",
    "    df.to_excel(writer, header=False, index=False,\n",
    "                startrow=startrow + 1, startcol=startcol + 1)\n",
    "    # 시트 객체를 가져오고 스타일 객체를 생성합니다\n",
    "    sheet = writer.sheets[\"Sheet1\"]\n",
    "    style = PatternFill(fgColor=\"D9D9D9\", fill_type=\"solid\")\n",
    "\n",
    "    # 2. 스타일이 적용된 열 헤더를 씁니다\n",
    "    for i, col in enumerate(df.columns):\n",
    "        sheet.cell(row=startrow + 1, column=i + startcol + 2,\n",
    "                   value=col).fill = style\n",
    "\n",
    "    # 3. 스타일이 적용된 인덱스를 씁니다\n",
    "    index = [df.index.name if df.index.name else None] + list(df.index)\n",
    "    for i, row in enumerate(index):\n",
    "        sheet.cell(row=i + startrow + 1, column=startcol + 1,\n",
    "                   value=row).fill = style"
   ]
  },
  {
   "cell_type": "code",
   "execution_count": 54,
   "id": "4dde46ec",
   "metadata": {},
   "outputs": [],
   "source": [
    "# XlsxWriter를 사용한 인덱스/헤더 서식 사용\n",
    "with pd.ExcelWriter(\"formatting_xlsxwriter.xlsx\",\n",
    "                    engine=\"xlsxwriter\") as writer:\n",
    "    # 데이터 프레임을 기본 서식으로 A1에 씁니다\n",
    "    df.to_excel(writer, startrow=0, startcol=0)\n",
    "\n",
    "    # 데이터프레임의 인덱스와 헤더에 커스텀 서식을 적용해 A6에 씁니다\n",
    "    startrow, startcol = 0, 5\n",
    "    # 1. 데이터프레임의 데이터 부분을 씁니다\n",
    "    df.to_excel(writer, header=False, index=False,\n",
    "                startrow=startrow + 1, startcol=startcol + 1)\n",
    "    # 워크북과 시트 객체를 가져오고 스타일 객체를 생성합니다\n",
    "    book = writer.book\n",
    "    sheet = writer.sheets[\"Sheet1\"]\n",
    "    style = book.add_format({\"bg_color\": \"#D9D9D9\"})\n",
    "\n",
    "    # 2. 스타일이 적용된 열 헤더를 생성합니다\n",
    "    for i, col in enumerate(df.columns):\n",
    "        sheet.write(startrow, startcol + i + 1, col, style)\n",
    "\n",
    "    # 3. 스타일이 적용된 인덱스를 씁니다\n",
    "    index = [df.index.name if df.index.name else None] + list(df.index)\n",
    "    for i, row in enumerate(index):\n",
    "        sheet.write(startrow + i, startcol, row, style)"
   ]
  },
  {
   "cell_type": "markdown",
   "id": "6746d197",
   "metadata": {},
   "source": [
    "### 데이터프레임의 데이터 부분에 서식 적용"
   ]
  },
  {
   "cell_type": "code",
   "execution_count": 55,
   "id": "4aeecbda",
   "metadata": {},
   "outputs": [],
   "source": [
    "from openpyxl.styles import Alignment"
   ]
  },
  {
   "cell_type": "code",
   "execution_count": 56,
   "id": "00a27820",
   "metadata": {},
   "outputs": [],
   "source": [
    "\n",
    "with pd.ExcelWriter(\"data_format_openpyxl.xlsx\",\n",
    "                    engine=\"openpyxl\") as writer:\n",
    "    # 데이터 프레임을 씁니다\n",
    "    df.to_excel(writer)\n",
    "    \n",
    "    # 워크북과 시트 객체를 가져옵니다\n",
    "    book = writer.book\n",
    "    sheet = writer.sheets[\"Sheet1\"]\n",
    "    \n",
    "    # 각 셀에 서식을 적용합니다\n",
    "    nrows, ncols = df.shape\n",
    "    for row in range(nrows):\n",
    "        for col in range(ncols):\n",
    "            # 1을 더하는 이유는 헤더/인덱스 때문입니다\n",
    "            # OpenPyXL 인덱스는 1에서 시작하므로 1을 한번 더 더합니다\n",
    "            cell = sheet.cell(row=row + 2,\n",
    "                              column=col + 2)\n",
    "            cell.number_format = \"0.000\"\n",
    "            cell.alignment = Alignment(horizontal=\"center\")"
   ]
  },
  {
   "cell_type": "code",
   "execution_count": 57,
   "id": "b293f5dc",
   "metadata": {},
   "outputs": [],
   "source": [
    "with pd.ExcelWriter(\"data_format_xlsxwriter.xlsx\",\n",
    "                    engine=\"xlsxwriter\") as writer:\n",
    "    # 데이터프레임을 씁니다\n",
    "    df.to_excel(writer)\n",
    "\n",
    "    # 워크북과 시트 객체를 가져옵니다\n",
    "    book = writer.book\n",
    "    sheet = writer.sheets[\"Sheet1\"]\n",
    "    \n",
    "    # 열에 서식 적용 (개별 셀에 적용은 불가능합니다)\n",
    "    number_format = book.add_format({\"num_format\": \"0.000\",\n",
    "                                     \"align\": \"center\"})\n",
    "    sheet.set_column(first_col=1, last_col=2,\n",
    "                     cell_format=number_format)\n"
   ]
  },
  {
   "cell_type": "code",
   "execution_count": 58,
   "id": "8f5fd413",
   "metadata": {},
   "outputs": [],
   "source": [
    "df.style.applymap(lambda x: \"number-format: 0.000;\"\n",
    "                            \"text-align: center\")\\\n",
    "        .to_excel(\"styled.xlsx\")"
   ]
  },
  {
   "cell_type": "code",
   "execution_count": 59,
   "id": "5f4682b2",
   "metadata": {},
   "outputs": [],
   "source": [
    "df = pd.DataFrame({\"Date\": [dt.date(2020, 1, 1)],\n",
    "                   \"Datetime\": [dt.datetime(2020, 1, 1, 10)]})\n",
    "with pd.ExcelWriter(\"date.xlsx\",\n",
    "                    date_format=\"yyyy-mm-dd\",\n",
    "                    datetime_format=\"yyyy-mm-dd hh:mm:ss\") as writer:\n",
    "    df.to_excel(writer)"
   ]
  }
 ],
 "metadata": {
  "kernelspec": {
   "display_name": "Python 3 (ipykernel)",
   "language": "python",
   "name": "python3"
  },
  "language_info": {
   "codemirror_mode": {
    "name": "ipython",
    "version": 3
   },
   "file_extension": ".py",
   "mimetype": "text/x-python",
   "name": "python",
   "nbconvert_exporter": "python",
   "pygments_lexer": "ipython3",
   "version": "3.9.12"
  }
 },
 "nbformat": 4,
 "nbformat_minor": 5
}
