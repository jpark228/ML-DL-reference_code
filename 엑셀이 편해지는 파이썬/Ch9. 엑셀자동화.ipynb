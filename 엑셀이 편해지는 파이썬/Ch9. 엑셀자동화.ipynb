{
 "cells": [
  {
   "cell_type": "markdown",
   "metadata": {
    "id": "NZNXA9e6IqR5"
   },
   "source": [
    "# 엑셀윙스 시작하기"
   ]
  },
  {
   "cell_type": "markdown",
   "metadata": {
    "id": "af4usc_eIqR6"
   },
   "source": [
    "## 엑셀을 데이터 뷰어로 사용하기"
   ]
  },
  {
   "cell_type": "code",
   "execution_count": 1,
   "metadata": {
    "executionInfo": {
     "elapsed": 520,
     "status": "ok",
     "timestamp": 1653465283823,
     "user": {
      "displayName": "박준규",
      "userId": "16577167999398926509"
     },
     "user_tz": -540
    },
    "id": "ArNxc_4OIqR6"
   },
   "outputs": [],
   "source": [
    "# 먼저 이 장에서 사용할 패키지를 임포트합니다\n",
    "import datetime as dt\n",
    "import xlwings as xw\n",
    "import pandas as pd\n",
    "import numpy as np"
   ]
  },
  {
   "cell_type": "code",
   "execution_count": 2,
   "metadata": {
    "colab": {
     "base_uri": "https://localhost:8080/",
     "height": 424
    },
    "executionInfo": {
     "elapsed": 9,
     "status": "ok",
     "timestamp": 1653465283824,
     "user": {
      "displayName": "박준규",
      "userId": "16577167999398926509"
     },
     "user_tz": -540
    },
    "id": "_RYXB0y1IqR7",
    "outputId": "1443dd74-a0d4-4984-a4ec-9ee34e7a6052"
   },
   "outputs": [
    {
     "data": {
      "text/html": [
       "<div>\n",
       "<style scoped>\n",
       "    .dataframe tbody tr th:only-of-type {\n",
       "        vertical-align: middle;\n",
       "    }\n",
       "\n",
       "    .dataframe tbody tr th {\n",
       "        vertical-align: top;\n",
       "    }\n",
       "\n",
       "    .dataframe thead th {\n",
       "        text-align: right;\n",
       "    }\n",
       "</style>\n",
       "<table border=\"1\" class=\"dataframe\">\n",
       "  <thead>\n",
       "    <tr style=\"text-align: right;\">\n",
       "      <th></th>\n",
       "      <th>Trial 1</th>\n",
       "      <th>Trial 2</th>\n",
       "      <th>Trial 3</th>\n",
       "      <th>Trial 4</th>\n",
       "      <th>Trial 5</th>\n",
       "    </tr>\n",
       "  </thead>\n",
       "  <tbody>\n",
       "    <tr>\n",
       "      <th>0</th>\n",
       "      <td>0.047933</td>\n",
       "      <td>0.615144</td>\n",
       "      <td>-1.471050</td>\n",
       "      <td>-0.576397</td>\n",
       "      <td>1.265568</td>\n",
       "    </tr>\n",
       "    <tr>\n",
       "      <th>1</th>\n",
       "      <td>-2.111221</td>\n",
       "      <td>-0.628826</td>\n",
       "      <td>0.185540</td>\n",
       "      <td>1.159792</td>\n",
       "      <td>-0.704092</td>\n",
       "    </tr>\n",
       "    <tr>\n",
       "      <th>2</th>\n",
       "      <td>0.685833</td>\n",
       "      <td>0.288920</td>\n",
       "      <td>-0.866454</td>\n",
       "      <td>-0.262343</td>\n",
       "      <td>-0.142626</td>\n",
       "    </tr>\n",
       "    <tr>\n",
       "      <th>3</th>\n",
       "      <td>-0.521253</td>\n",
       "      <td>1.667248</td>\n",
       "      <td>0.556121</td>\n",
       "      <td>-0.859258</td>\n",
       "      <td>-0.311463</td>\n",
       "    </tr>\n",
       "    <tr>\n",
       "      <th>4</th>\n",
       "      <td>-0.207636</td>\n",
       "      <td>0.263507</td>\n",
       "      <td>-0.948421</td>\n",
       "      <td>-1.465001</td>\n",
       "      <td>1.187515</td>\n",
       "    </tr>\n",
       "    <tr>\n",
       "      <th>...</th>\n",
       "      <td>...</td>\n",
       "      <td>...</td>\n",
       "      <td>...</td>\n",
       "      <td>...</td>\n",
       "      <td>...</td>\n",
       "    </tr>\n",
       "    <tr>\n",
       "      <th>95</th>\n",
       "      <td>-0.474621</td>\n",
       "      <td>-0.397671</td>\n",
       "      <td>0.510521</td>\n",
       "      <td>1.044292</td>\n",
       "      <td>-0.399269</td>\n",
       "    </tr>\n",
       "    <tr>\n",
       "      <th>96</th>\n",
       "      <td>-0.870658</td>\n",
       "      <td>0.888190</td>\n",
       "      <td>0.353820</td>\n",
       "      <td>-0.208309</td>\n",
       "      <td>0.259661</td>\n",
       "    </tr>\n",
       "    <tr>\n",
       "      <th>97</th>\n",
       "      <td>-0.576956</td>\n",
       "      <td>-0.463071</td>\n",
       "      <td>1.956147</td>\n",
       "      <td>0.435258</td>\n",
       "      <td>-1.122232</td>\n",
       "    </tr>\n",
       "    <tr>\n",
       "      <th>98</th>\n",
       "      <td>-1.978362</td>\n",
       "      <td>-1.017442</td>\n",
       "      <td>1.226275</td>\n",
       "      <td>-1.215537</td>\n",
       "      <td>0.957907</td>\n",
       "    </tr>\n",
       "    <tr>\n",
       "      <th>99</th>\n",
       "      <td>-0.993609</td>\n",
       "      <td>0.330050</td>\n",
       "      <td>1.203600</td>\n",
       "      <td>2.004214</td>\n",
       "      <td>0.008011</td>\n",
       "    </tr>\n",
       "  </tbody>\n",
       "</table>\n",
       "<p>100 rows × 5 columns</p>\n",
       "</div>"
      ],
      "text/plain": [
       "     Trial 1   Trial 2   Trial 3   Trial 4   Trial 5\n",
       "0   0.047933  0.615144 -1.471050 -0.576397  1.265568\n",
       "1  -2.111221 -0.628826  0.185540  1.159792 -0.704092\n",
       "2   0.685833  0.288920 -0.866454 -0.262343 -0.142626\n",
       "3  -0.521253  1.667248  0.556121 -0.859258 -0.311463\n",
       "4  -0.207636  0.263507 -0.948421 -1.465001  1.187515\n",
       "..       ...       ...       ...       ...       ...\n",
       "95 -0.474621 -0.397671  0.510521  1.044292 -0.399269\n",
       "96 -0.870658  0.888190  0.353820 -0.208309  0.259661\n",
       "97 -0.576956 -0.463071  1.956147  0.435258 -1.122232\n",
       "98 -1.978362 -1.017442  1.226275 -1.215537  0.957907\n",
       "99 -0.993609  0.330050  1.203600  2.004214  0.008011\n",
       "\n",
       "[100 rows x 5 columns]"
      ]
     },
     "execution_count": 2,
     "metadata": {},
     "output_type": "execute_result"
    }
   ],
   "source": [
    "# 의사 난수로 데이터 프레임을 만듭니다\n",
    "# 맨 위와 맨 아래만 보이도록 행 수는 충분히 많게 합니다\n",
    "df = pd.DataFrame(data=np.random.randn(100, 5),\n",
    "                  columns=[f\"Trial {i}\" for i in range(1, 6)])\n",
    "df"
   ]
  },
  {
   "cell_type": "code",
   "execution_count": 3,
   "metadata": {
    "colab": {
     "base_uri": "https://localhost:8080/",
     "height": 345
    },
    "executionInfo": {
     "elapsed": 1096,
     "status": "error",
     "timestamp": 1653465284912,
     "user": {
      "displayName": "박준규",
      "userId": "16577167999398926509"
     },
     "user_tz": -540
    },
    "id": "IHZJIEwjIqR8",
    "outputId": "bb54b65b-2902-4064-8509-acaf3e07b65b"
   },
   "outputs": [],
   "source": [
    "# 데이터 프레임을 엑셀에서 봅니다\n",
    "xw.view(df)"
   ]
  },
  {
   "cell_type": "markdown",
   "metadata": {
    "id": "MJNS-vnEIqR8"
   },
   "source": [
    "## 엑셀 객체 모델"
   ]
  },
  {
   "cell_type": "code",
   "execution_count": 4,
   "metadata": {
    "executionInfo": {
     "elapsed": 398,
     "status": "aborted",
     "timestamp": 1653465284215,
     "user": {
      "displayName": "박준규",
      "userId": "16577167999398926509"
     },
     "user_tz": -540
    },
    "id": "Q5cayY-rIqR9"
   },
   "outputs": [
    {
     "data": {
      "text/plain": [
       "'통합 문서2'"
      ]
     },
     "execution_count": 4,
     "metadata": {},
     "output_type": "execute_result"
    }
   ],
   "source": [
    "# 빈 워크북을 새로 만들고 이름을 출력합니다\n",
    "# 이 워크북은 이 장의 예제 대부분에서 사용할 겁니다\n",
    "book = xw.Book()\n",
    "book.name"
   ]
  },
  {
   "cell_type": "code",
   "execution_count": 5,
   "metadata": {
    "executionInfo": {
     "elapsed": 8,
     "status": "aborted",
     "timestamp": 1653465284215,
     "user": {
      "displayName": "박준규",
      "userId": "16577167999398926509"
     },
     "user_tz": -540
    },
    "id": "W9KZ-aSkIqR9"
   },
   "outputs": [
    {
     "data": {
      "text/plain": [
       "Sheets([<Sheet [통합 문서2]Sheet1>])"
      ]
     },
     "execution_count": 5,
     "metadata": {},
     "output_type": "execute_result"
    }
   ],
   "source": [
    "# sheets 컬렉션에 접근합니다\n",
    "book.sheets"
   ]
  },
  {
   "cell_type": "code",
   "execution_count": 6,
   "metadata": {
    "executionInfo": {
     "elapsed": 8,
     "status": "aborted",
     "timestamp": 1653465284215,
     "user": {
      "displayName": "박준규",
      "userId": "16577167999398926509"
     },
     "user_tz": -540
    },
    "id": "mUIXsSQMIqR-"
   },
   "outputs": [],
   "source": [
    "# 인덱스나 이름으로 sheet 객체를 가져옵니다\n",
    "# 이름이 다를 경우 \"Sheet1\"을 바꿔야 할 수도 있습니다\n",
    "sheet1 = book.sheets[0]\n",
    "sheet1 = book.sheets[\"Sheet1\"]"
   ]
  },
  {
   "cell_type": "code",
   "execution_count": 7,
   "metadata": {
    "executionInfo": {
     "elapsed": 9,
     "status": "aborted",
     "timestamp": 1653465284216,
     "user": {
      "displayName": "박준규",
      "userId": "16577167999398926509"
     },
     "user_tz": -540
    },
    "id": "xyIP4eVtIqR-"
   },
   "outputs": [
    {
     "data": {
      "text/plain": [
       "<Range [통합 문서2]Sheet1!$A$1>"
      ]
     },
     "execution_count": 7,
     "metadata": {},
     "output_type": "execute_result"
    }
   ],
   "source": [
    "sheet1.range(\"A1\")"
   ]
  },
  {
   "cell_type": "code",
   "execution_count": 8,
   "metadata": {
    "executionInfo": {
     "elapsed": 8,
     "status": "aborted",
     "timestamp": 1653465284216,
     "user": {
      "displayName": "박준규",
      "userId": "16577167999398926509"
     },
     "user_tz": -540
    },
    "id": "QLMx499wIqR_"
   },
   "outputs": [],
   "source": [
    "# 가장 자주 하는 작업 - 값을 씁니다\n",
    "sheet1.range(\"A1\").value = [[1, 2],\n",
    "                            [3, 4]]\n",
    "sheet1.range(\"A4\").value = \"Hello!\""
   ]
  },
  {
   "cell_type": "code",
   "execution_count": 9,
   "metadata": {
    "executionInfo": {
     "elapsed": 8,
     "status": "aborted",
     "timestamp": 1653465284216,
     "user": {
      "displayName": "박준규",
      "userId": "16577167999398926509"
     },
     "user_tz": -540
    },
    "id": "GTyprb7vIqR_"
   },
   "outputs": [
    {
     "data": {
      "text/plain": [
       "[[1.0, 2.0], [3.0, 4.0]]"
      ]
     },
     "execution_count": 9,
     "metadata": {},
     "output_type": "execute_result"
    }
   ],
   "source": [
    "# 그리고 값을 읽습니다\n",
    "sheet1.range(\"A1:B2\").value"
   ]
  },
  {
   "cell_type": "code",
   "execution_count": 10,
   "metadata": {
    "executionInfo": {
     "elapsed": 8,
     "status": "aborted",
     "timestamp": 1653465284216,
     "user": {
      "displayName": "박준규",
      "userId": "16577167999398926509"
     },
     "user_tz": -540
    },
    "id": "2xm2boUxIqR_"
   },
   "outputs": [
    {
     "data": {
      "text/plain": [
       "'Hello!'"
      ]
     },
     "execution_count": 10,
     "metadata": {},
     "output_type": "execute_result"
    }
   ],
   "source": [
    "sheet1.range(\"A4\").value"
   ]
  },
  {
   "cell_type": "code",
   "execution_count": 11,
   "metadata": {
    "executionInfo": {
     "elapsed": 9,
     "status": "aborted",
     "timestamp": 1653465284217,
     "user": {
      "displayName": "박준규",
      "userId": "16577167999398926509"
     },
     "user_tz": -540
    },
    "id": "mNJldI24IqSA"
   },
   "outputs": [
    {
     "data": {
      "text/plain": [
       "<Range [통합 문서2]Sheet1!$A$1>"
      ]
     },
     "execution_count": 11,
     "metadata": {},
     "output_type": "execute_result"
    }
   ],
   "source": [
    "# 인덱스\n",
    "sheet1.range(\"A1:B2\")[0, 0]"
   ]
  },
  {
   "cell_type": "code",
   "execution_count": 12,
   "metadata": {
    "executionInfo": {
     "elapsed": 9,
     "status": "aborted",
     "timestamp": 1653465284217,
     "user": {
      "displayName": "박준규",
      "userId": "16577167999398926509"
     },
     "user_tz": -540
    },
    "id": "rv2kjaYbIqSA"
   },
   "outputs": [
    {
     "data": {
      "text/plain": [
       "<Range [통합 문서2]Sheet1!$B$1:$B$2>"
      ]
     },
     "execution_count": 12,
     "metadata": {},
     "output_type": "execute_result"
    }
   ],
   "source": [
    "# 슬라이스\n",
    "sheet1.range(\"A1:B2\")[:, 1]"
   ]
  },
  {
   "cell_type": "code",
   "execution_count": 13,
   "metadata": {
    "executionInfo": {
     "elapsed": 9,
     "status": "aborted",
     "timestamp": 1653465284217,
     "user": {
      "displayName": "박준규",
      "userId": "16577167999398926509"
     },
     "user_tz": -540
    },
    "id": "raNPTjaNIqSA"
   },
   "outputs": [
    {
     "data": {
      "text/plain": [
       "<Range [통합 문서2]Sheet1!$A$1>"
      ]
     },
     "execution_count": 13,
     "metadata": {},
     "output_type": "execute_result"
    }
   ],
   "source": [
    "# 셀 하나: A1 표기법\n",
    "sheet1[\"A1\"]"
   ]
  },
  {
   "cell_type": "code",
   "execution_count": 14,
   "metadata": {
    "executionInfo": {
     "elapsed": 9,
     "status": "aborted",
     "timestamp": 1653465284217,
     "user": {
      "displayName": "박준규",
      "userId": "16577167999398926509"
     },
     "user_tz": -540
    },
    "id": "3PI-pps0IqSA"
   },
   "outputs": [
    {
     "data": {
      "text/plain": [
       "<Range [통합 문서2]Sheet1!$A$1:$B$2>"
      ]
     },
     "execution_count": 14,
     "metadata": {},
     "output_type": "execute_result"
    }
   ],
   "source": [
    "# 셀 여러 개: A1 표기법\n",
    "sheet1[\"A1:B2\"]"
   ]
  },
  {
   "cell_type": "code",
   "execution_count": 15,
   "metadata": {
    "executionInfo": {
     "elapsed": 357,
     "status": "aborted",
     "timestamp": 1653465284565,
     "user": {
      "displayName": "박준규",
      "userId": "16577167999398926509"
     },
     "user_tz": -540
    },
    "id": "AZGpxt3mIqSB"
   },
   "outputs": [
    {
     "data": {
      "text/plain": [
       "<Range [통합 문서2]Sheet1!$A$1>"
      ]
     },
     "execution_count": 15,
     "metadata": {},
     "output_type": "execute_result"
    }
   ],
   "source": [
    "# 셀 하나: 인덱스\n",
    "sheet1[0, 0]"
   ]
  },
  {
   "cell_type": "code",
   "execution_count": 16,
   "metadata": {
    "executionInfo": {
     "elapsed": 357,
     "status": "aborted",
     "timestamp": 1653465284565,
     "user": {
      "displayName": "박준규",
      "userId": "16577167999398926509"
     },
     "user_tz": -540
    },
    "id": "9kGhqdcNIqSB"
   },
   "outputs": [
    {
     "data": {
      "text/plain": [
       "<Range [통합 문서2]Sheet1!$A$1:$B$2>"
      ]
     },
     "execution_count": 16,
     "metadata": {},
     "output_type": "execute_result"
    }
   ],
   "source": [
    "# 셀 여러 개: 슬라이스\n",
    "sheet1[:2, :2]"
   ]
  },
  {
   "cell_type": "code",
   "execution_count": 17,
   "metadata": {
    "executionInfo": {
     "elapsed": 357,
     "status": "aborted",
     "timestamp": 1653465284565,
     "user": {
      "displayName": "박준규",
      "userId": "16577167999398926509"
     },
     "user_tz": -540
    },
    "id": "_N29NgSPIqSB"
   },
   "outputs": [
    {
     "data": {
      "text/plain": [
       "<Range [통합 문서2]Sheet1!$D$10>"
      ]
     },
     "execution_count": 17,
     "metadata": {},
     "output_type": "execute_result"
    }
   ],
   "source": [
    "# D10: 시트 인덱스로 접근\n",
    "sheet1[9, 3]"
   ]
  },
  {
   "cell_type": "code",
   "execution_count": 18,
   "metadata": {
    "executionInfo": {
     "elapsed": 357,
     "status": "aborted",
     "timestamp": 1653465284565,
     "user": {
      "displayName": "박준규",
      "userId": "16577167999398926509"
     },
     "user_tz": -540
    },
    "id": "H3ds8BDlIqSB"
   },
   "outputs": [
    {
     "data": {
      "text/plain": [
       "<Range [통합 문서2]Sheet1!$D$10>"
      ]
     },
     "execution_count": 18,
     "metadata": {},
     "output_type": "execute_result"
    }
   ],
   "source": [
    "# D10: range 객체로 접근\n",
    "sheet1.range((10, 4))"
   ]
  },
  {
   "cell_type": "code",
   "execution_count": 19,
   "metadata": {
    "executionInfo": {
     "elapsed": 358,
     "status": "aborted",
     "timestamp": 1653465284566,
     "user": {
      "displayName": "박준규",
      "userId": "16577167999398926509"
     },
     "user_tz": -540
    },
    "id": "IOzKb9yhIqSB"
   },
   "outputs": [
    {
     "data": {
      "text/plain": [
       "<Range [통합 문서2]Sheet1!$D$10:$F$11>"
      ]
     },
     "execution_count": 19,
     "metadata": {},
     "output_type": "execute_result"
    }
   ],
   "source": [
    "# D10:F11 - 시트 슬라이스를 통해 접근\n",
    "sheet1[9:11, 3:6]"
   ]
  },
  {
   "cell_type": "code",
   "execution_count": 20,
   "metadata": {
    "executionInfo": {
     "elapsed": 358,
     "status": "aborted",
     "timestamp": 1653465284566,
     "user": {
      "displayName": "박준규",
      "userId": "16577167999398926509"
     },
     "user_tz": -540
    },
    "id": "I7QK66YVIqSC"
   },
   "outputs": [
    {
     "data": {
      "text/plain": [
       "<Range [통합 문서2]Sheet1!$D$10:$F$11>"
      ]
     },
     "execution_count": 20,
     "metadata": {},
     "output_type": "execute_result"
    }
   ],
   "source": [
    "# D10:F11 - range 객체를 통해 접근\n",
    "sheet1.range((10, 4), (11, 6))"
   ]
  },
  {
   "cell_type": "code",
   "execution_count": 21,
   "metadata": {
    "executionInfo": {
     "elapsed": 358,
     "status": "aborted",
     "timestamp": 1653465284566,
     "user": {
      "displayName": "박준규",
      "userId": "16577167999398926509"
     },
     "user_tz": -540
    },
    "id": "KI_3IyqDIqSC"
   },
   "outputs": [
    {
     "data": {
      "text/plain": [
       "<Excel App 16900>"
      ]
     },
     "execution_count": 21,
     "metadata": {},
     "output_type": "execute_result"
    }
   ],
   "source": [
    "sheet1[\"A1\"].sheet.book.app"
   ]
  },
  {
   "cell_type": "code",
   "execution_count": 22,
   "metadata": {
    "executionInfo": {
     "elapsed": 359,
     "status": "aborted",
     "timestamp": 1653465284567,
     "user": {
      "displayName": "박준규",
      "userId": "16577167999398926509"
     },
     "user_tz": -540
    },
    "id": "MlBZ0r2yIqSC"
   },
   "outputs": [],
   "source": [
    "# 열려 있는 워크북에서 app 객체를 가져옵니다\n",
    "# 보이지 않는 app 인스턴스를 추가로 생성합니다\n",
    "visible_app = sheet1.book.app\n",
    "invisible_app = xw.App(visible=False)"
   ]
  },
  {
   "cell_type": "code",
   "execution_count": 23,
   "metadata": {
    "executionInfo": {
     "elapsed": 359,
     "status": "aborted",
     "timestamp": 1653465284567,
     "user": {
      "displayName": "박준규",
      "userId": "16577167999398926509"
     },
     "user_tz": -540
    },
    "id": "WSQw_TInIqSC"
   },
   "outputs": [
    {
     "data": {
      "text/plain": [
       "['통합 문서1', '통합 문서2']"
      ]
     },
     "execution_count": 23,
     "metadata": {},
     "output_type": "execute_result"
    }
   ],
   "source": [
    "# 리스트 내포를 사용해 각 인스턴스마다 이름을 나열합니다\n",
    "[book.name for book in visible_app.books]"
   ]
  },
  {
   "cell_type": "code",
   "execution_count": 24,
   "metadata": {
    "executionInfo": {
     "elapsed": 358,
     "status": "aborted",
     "timestamp": 1653465284567,
     "user": {
      "displayName": "박준규",
      "userId": "16577167999398926509"
     },
     "user_tz": -540
    },
    "id": "nO32gaL-IqSC"
   },
   "outputs": [
    {
     "data": {
      "text/plain": [
       "['통합 문서3']"
      ]
     },
     "execution_count": 24,
     "metadata": {},
     "output_type": "execute_result"
    }
   ],
   "source": [
    "[book.name for book in invisible_app.books]"
   ]
  },
  {
   "cell_type": "code",
   "execution_count": 25,
   "metadata": {
    "executionInfo": {
     "elapsed": 358,
     "status": "aborted",
     "timestamp": 1653465284567,
     "user": {
      "displayName": "박준규",
      "userId": "16577167999398926509"
     },
     "user_tz": -540
    },
    "id": "M9QhbaQkIqSD"
   },
   "outputs": [
    {
     "data": {
      "text/plain": [
       "[16900, 16876]"
      ]
     },
     "execution_count": 25,
     "metadata": {},
     "output_type": "execute_result"
    }
   ],
   "source": [
    "# 프로세스 ID(PID)를 나타내는 애플리케이션 키\n",
    "xw.apps.keys()"
   ]
  },
  {
   "cell_type": "code",
   "execution_count": 26,
   "metadata": {
    "executionInfo": {
     "elapsed": 359,
     "status": "aborted",
     "timestamp": 1653465284568,
     "user": {
      "displayName": "박준규",
      "userId": "16577167999398926509"
     },
     "user_tz": -540
    },
    "id": "tOlUguCdIqSD"
   },
   "outputs": [
    {
     "data": {
      "text/plain": [
       "16900"
      ]
     },
     "execution_count": 26,
     "metadata": {},
     "output_type": "execute_result"
    }
   ],
   "source": [
    "# pid 속성으로 접근할 수도 있습니다\n",
    "xw.apps.active.pid"
   ]
  },
  {
   "cell_type": "code",
   "execution_count": 27,
   "metadata": {
    "executionInfo": {
     "elapsed": 359,
     "status": "aborted",
     "timestamp": 1653465284568,
     "user": {
      "displayName": "박준규",
      "userId": "16577167999398926509"
     },
     "user_tz": -540
    },
    "id": "e9wiZJavIqSD"
   },
   "outputs": [],
   "source": [
    "# 보이지 않는 액셀 인스턴스 워크북을 조작합니다\n",
    "invisible_book = invisible_app.books[0]\n",
    "invisible_book.sheets[0][\"A1\"].value = \"Created by an invisible app.\""
   ]
  },
  {
   "cell_type": "code",
   "execution_count": 28,
   "metadata": {
    "executionInfo": {
     "elapsed": 359,
     "status": "aborted",
     "timestamp": 1653465284568,
     "user": {
      "displayName": "박준규",
      "userId": "16577167999398926509"
     },
     "user_tz": -540
    },
    "id": "1GSpLXH3IqSD"
   },
   "outputs": [],
   "source": [
    "# 엑셀 워크북을 xl 디렉터리에 저장합니다\n",
    "invisible_book.save(\"xl/invisible.xlsx\")"
   ]
  },
  {
   "cell_type": "code",
   "execution_count": 29,
   "metadata": {
    "executionInfo": {
     "elapsed": 359,
     "status": "aborted",
     "timestamp": 1653465284568,
     "user": {
      "displayName": "박준규",
      "userId": "16577167999398926509"
     },
     "user_tz": -540
    },
    "id": "Fk3UOT6VIqSD"
   },
   "outputs": [],
   "source": [
    "# 보이지 않는 엑셀 인스턴스를 종료합니다\n",
    "invisible_app.quit()"
   ]
  },
  {
   "cell_type": "markdown",
   "metadata": {
    "id": "Fldc8gHWIqSD"
   },
   "source": [
    "## VBA 코드 실행"
   ]
  },
  {
   "cell_type": "code",
   "execution_count": 30,
   "metadata": {
    "executionInfo": {
     "elapsed": 359,
     "status": "aborted",
     "timestamp": 1653465284569,
     "user": {
      "displayName": "박준규",
      "userId": "16577167999398926509"
     },
     "user_tz": -540
    },
    "id": "yYOCJbKGIqSE"
   },
   "outputs": [],
   "source": [
    "vba_book = xw.Book(\"xl/vba.xlsm\")"
   ]
  },
  {
   "cell_type": "code",
   "execution_count": 31,
   "metadata": {
    "executionInfo": {
     "elapsed": 13,
     "status": "aborted",
     "timestamp": 1653465284570,
     "user": {
      "displayName": "박준규",
      "userId": "16577167999398926509"
     },
     "user_tz": -540
    },
    "id": "B2E5LuuyIqSE"
   },
   "outputs": [
    {
     "data": {
      "text/plain": [
       "9.0"
      ]
     },
     "execution_count": 31,
     "metadata": {},
     "output_type": "execute_result"
    }
   ],
   "source": [
    "# VA 함수로 매크로 객체 인스턴스를 만듭니다\n",
    "mysum = vba_book.macro(\"Module1.MySum\")\n",
    "# VBA 함수를 호출합니다\n",
    "mysum(5, 4)"
   ]
  },
  {
   "cell_type": "code",
   "execution_count": 32,
   "metadata": {
    "executionInfo": {
     "elapsed": 13,
     "status": "aborted",
     "timestamp": 1653465284570,
     "user": {
      "displayName": "박준규",
      "userId": "16577167999398926509"
     },
     "user_tz": -540
    },
    "id": "zb-wuCgaIqSE"
   },
   "outputs": [],
   "source": [
    "# 이 함수는 VBA 서브프로시저와 똑같이 동작합니다\n",
    "show_msgbox = vba_book.macro(\"Module1.ShowMsgBox\")\n",
    "show_msgbox(\"Hello xlwings!\")"
   ]
  },
  {
   "cell_type": "code",
   "execution_count": 33,
   "metadata": {
    "executionInfo": {
     "elapsed": 13,
     "status": "aborted",
     "timestamp": 1653465284570,
     "user": {
      "displayName": "박준규",
      "userId": "16577167999398926509"
     },
     "user_tz": -540
    },
    "id": "_wT0qONsIqSE"
   },
   "outputs": [],
   "source": [
    "# 다식 워크북을 닫습니다(MessageBox를 먼저 닫아야 합니다)\n",
    "vba_book.close()"
   ]
  },
  {
   "cell_type": "markdown",
   "metadata": {
    "id": "DdJqrbkzIqSF"
   },
   "source": [
    "# 변환기, 옵션, 컬렉션"
   ]
  },
  {
   "cell_type": "markdown",
   "metadata": {
    "id": "PhVoPU02IqSF"
   },
   "source": [
    "## 데이터프레임 사용"
   ]
  },
  {
   "cell_type": "code",
   "execution_count": 34,
   "metadata": {
    "executionInfo": {
     "elapsed": 14,
     "status": "aborted",
     "timestamp": 1653465284571,
     "user": {
      "displayName": "박준규",
      "userId": "16577167999398926509"
     },
     "user_tz": -540
    },
    "id": "idEED2N1IqSF"
   },
   "outputs": [
    {
     "data": {
      "text/html": [
       "<div>\n",
       "<style scoped>\n",
       "    .dataframe tbody tr th:only-of-type {\n",
       "        vertical-align: middle;\n",
       "    }\n",
       "\n",
       "    .dataframe tbody tr th {\n",
       "        vertical-align: top;\n",
       "    }\n",
       "\n",
       "    .dataframe thead th {\n",
       "        text-align: right;\n",
       "    }\n",
       "</style>\n",
       "<table border=\"1\" class=\"dataframe\">\n",
       "  <thead>\n",
       "    <tr style=\"text-align: right;\">\n",
       "      <th></th>\n",
       "      <th>name</th>\n",
       "      <th>age</th>\n",
       "      <th>country</th>\n",
       "      <th>score</th>\n",
       "      <th>continent</th>\n",
       "    </tr>\n",
       "    <tr>\n",
       "      <th>user_id</th>\n",
       "      <th></th>\n",
       "      <th></th>\n",
       "      <th></th>\n",
       "      <th></th>\n",
       "      <th></th>\n",
       "    </tr>\n",
       "  </thead>\n",
       "  <tbody>\n",
       "    <tr>\n",
       "      <th>1001</th>\n",
       "      <td>Mark</td>\n",
       "      <td>55</td>\n",
       "      <td>Italy</td>\n",
       "      <td>4.5</td>\n",
       "      <td>Europe</td>\n",
       "    </tr>\n",
       "    <tr>\n",
       "      <th>1000</th>\n",
       "      <td>John</td>\n",
       "      <td>33</td>\n",
       "      <td>USA</td>\n",
       "      <td>6.7</td>\n",
       "      <td>America</td>\n",
       "    </tr>\n",
       "  </tbody>\n",
       "</table>\n",
       "</div>"
      ],
      "text/plain": [
       "         name  age country  score continent\n",
       "user_id                                    \n",
       "1001     Mark   55   Italy    4.5    Europe\n",
       "1000     John   33     USA    6.7   America"
      ]
     },
     "execution_count": 34,
     "metadata": {},
     "output_type": "execute_result"
    }
   ],
   "source": [
    "data = [[\"Mark\", 55, \"Italy\", 4.5, \"Europe\"],\n",
    "        [\"John\", 33, \"USA\", 6.7, \"America\"]]\n",
    "df = pd.DataFrame(data=data,\n",
    "                  columns=[\"name\", \"age\", \"country\",\n",
    "                           \"score\", \"continent\"],\n",
    "                  index=[1001, 1000])\n",
    "df.index.name = \"user_id\"\n",
    "df"
   ]
  },
  {
   "cell_type": "code",
   "execution_count": 35,
   "metadata": {
    "executionInfo": {
     "elapsed": 14,
     "status": "aborted",
     "timestamp": 1653465284571,
     "user": {
      "displayName": "박준규",
      "userId": "16577167999398926509"
     },
     "user_tz": -540
    },
    "id": "G6f317ZOIqSF"
   },
   "outputs": [],
   "source": [
    "sheet1[\"A6\"].value = df"
   ]
  },
  {
   "cell_type": "code",
   "execution_count": 36,
   "metadata": {
    "executionInfo": {
     "elapsed": 13,
     "status": "aborted",
     "timestamp": 1653465284571,
     "user": {
      "displayName": "박준규",
      "userId": "16577167999398926509"
     },
     "user_tz": -540
    },
    "id": "tKnQFbR6IqSF"
   },
   "outputs": [],
   "source": [
    "sheet1[\"B10\"].options(header=False, index=False).value = df"
   ]
  },
  {
   "cell_type": "code",
   "execution_count": 37,
   "metadata": {
    "executionInfo": {
     "elapsed": 13,
     "status": "aborted",
     "timestamp": 1653465284571,
     "user": {
      "displayName": "박준규",
      "userId": "16577167999398926509"
     },
     "user_tz": -540
    },
    "id": "E62ExFdoIqSG"
   },
   "outputs": [
    {
     "data": {
      "text/html": [
       "<div>\n",
       "<style scoped>\n",
       "    .dataframe tbody tr th:only-of-type {\n",
       "        vertical-align: middle;\n",
       "    }\n",
       "\n",
       "    .dataframe tbody tr th {\n",
       "        vertical-align: top;\n",
       "    }\n",
       "\n",
       "    .dataframe thead th {\n",
       "        text-align: right;\n",
       "    }\n",
       "</style>\n",
       "<table border=\"1\" class=\"dataframe\">\n",
       "  <thead>\n",
       "    <tr style=\"text-align: right;\">\n",
       "      <th></th>\n",
       "      <th>name</th>\n",
       "      <th>age</th>\n",
       "      <th>country</th>\n",
       "      <th>score</th>\n",
       "      <th>continent</th>\n",
       "    </tr>\n",
       "    <tr>\n",
       "      <th>user_id</th>\n",
       "      <th></th>\n",
       "      <th></th>\n",
       "      <th></th>\n",
       "      <th></th>\n",
       "      <th></th>\n",
       "    </tr>\n",
       "  </thead>\n",
       "  <tbody>\n",
       "    <tr>\n",
       "      <th>1001.0</th>\n",
       "      <td>Mark</td>\n",
       "      <td>55.0</td>\n",
       "      <td>Italy</td>\n",
       "      <td>4.5</td>\n",
       "      <td>Europe</td>\n",
       "    </tr>\n",
       "    <tr>\n",
       "      <th>1000.0</th>\n",
       "      <td>John</td>\n",
       "      <td>33.0</td>\n",
       "      <td>USA</td>\n",
       "      <td>6.7</td>\n",
       "      <td>America</td>\n",
       "    </tr>\n",
       "  </tbody>\n",
       "</table>\n",
       "</div>"
      ],
      "text/plain": [
       "         name   age country  score continent\n",
       "user_id                                     \n",
       "1001.0   Mark  55.0   Italy    4.5    Europe\n",
       "1000.0   John  33.0     USA    6.7   America"
      ]
     },
     "execution_count": 37,
     "metadata": {},
     "output_type": "execute_result"
    }
   ],
   "source": [
    "df2 = sheet1[\"A6\"].expand().options(pd.DataFrame).value\n",
    "df2"
   ]
  },
  {
   "cell_type": "code",
   "execution_count": 38,
   "metadata": {
    "executionInfo": {
     "elapsed": 14,
     "status": "aborted",
     "timestamp": 1653465284572,
     "user": {
      "displayName": "박준규",
      "userId": "16577167999398926509"
     },
     "user_tz": -540
    },
    "id": "GFbJBRgGIqSG"
   },
   "outputs": [
    {
     "data": {
      "text/html": [
       "<div>\n",
       "<style scoped>\n",
       "    .dataframe tbody tr th:only-of-type {\n",
       "        vertical-align: middle;\n",
       "    }\n",
       "\n",
       "    .dataframe tbody tr th {\n",
       "        vertical-align: top;\n",
       "    }\n",
       "\n",
       "    .dataframe thead th {\n",
       "        text-align: right;\n",
       "    }\n",
       "</style>\n",
       "<table border=\"1\" class=\"dataframe\">\n",
       "  <thead>\n",
       "    <tr style=\"text-align: right;\">\n",
       "      <th></th>\n",
       "      <th>name</th>\n",
       "      <th>age</th>\n",
       "      <th>country</th>\n",
       "      <th>score</th>\n",
       "      <th>continent</th>\n",
       "    </tr>\n",
       "    <tr>\n",
       "      <th>user_id</th>\n",
       "      <th></th>\n",
       "      <th></th>\n",
       "      <th></th>\n",
       "      <th></th>\n",
       "      <th></th>\n",
       "    </tr>\n",
       "  </thead>\n",
       "  <tbody>\n",
       "    <tr>\n",
       "      <th>1001</th>\n",
       "      <td>Mark</td>\n",
       "      <td>55.0</td>\n",
       "      <td>Italy</td>\n",
       "      <td>4.5</td>\n",
       "      <td>Europe</td>\n",
       "    </tr>\n",
       "    <tr>\n",
       "      <th>1000</th>\n",
       "      <td>John</td>\n",
       "      <td>33.0</td>\n",
       "      <td>USA</td>\n",
       "      <td>6.7</td>\n",
       "      <td>America</td>\n",
       "    </tr>\n",
       "  </tbody>\n",
       "</table>\n",
       "</div>"
      ],
      "text/plain": [
       "         name   age country  score continent\n",
       "user_id                                     \n",
       "1001     Mark  55.0   Italy    4.5    Europe\n",
       "1000     John  33.0     USA    6.7   America"
      ]
     },
     "execution_count": 38,
     "metadata": {},
     "output_type": "execute_result"
    }
   ],
   "source": [
    "# 정수 인덱스를 사용하고 싶다면 데이터 타입을 바꾸면 됩니다\n",
    "df2.index = df2.index.astype(int)\n",
    "df2"
   ]
  },
  {
   "cell_type": "code",
   "execution_count": 39,
   "metadata": {
    "executionInfo": {
     "elapsed": 14,
     "status": "aborted",
     "timestamp": 1653465284572,
     "user": {
      "displayName": "박준규",
      "userId": "16577167999398926509"
     },
     "user_tz": -540
    },
    "id": "L8P0lh6hIqSG"
   },
   "outputs": [
    {
     "data": {
      "text/html": [
       "<div>\n",
       "<style scoped>\n",
       "    .dataframe tbody tr th:only-of-type {\n",
       "        vertical-align: middle;\n",
       "    }\n",
       "\n",
       "    .dataframe tbody tr th {\n",
       "        vertical-align: top;\n",
       "    }\n",
       "\n",
       "    .dataframe thead th {\n",
       "        text-align: right;\n",
       "    }\n",
       "</style>\n",
       "<table border=\"1\" class=\"dataframe\">\n",
       "  <thead>\n",
       "    <tr style=\"text-align: right;\">\n",
       "      <th></th>\n",
       "      <th>user_id</th>\n",
       "      <th>name</th>\n",
       "      <th>age</th>\n",
       "      <th>country</th>\n",
       "      <th>score</th>\n",
       "      <th>continent</th>\n",
       "    </tr>\n",
       "  </thead>\n",
       "  <tbody>\n",
       "    <tr>\n",
       "      <th>0</th>\n",
       "      <td>1001.0</td>\n",
       "      <td>Mark</td>\n",
       "      <td>55.0</td>\n",
       "      <td>Italy</td>\n",
       "      <td>4.5</td>\n",
       "      <td>Europe</td>\n",
       "    </tr>\n",
       "    <tr>\n",
       "      <th>1</th>\n",
       "      <td>1000.0</td>\n",
       "      <td>John</td>\n",
       "      <td>33.0</td>\n",
       "      <td>USA</td>\n",
       "      <td>6.7</td>\n",
       "      <td>America</td>\n",
       "    </tr>\n",
       "  </tbody>\n",
       "</table>\n",
       "</div>"
      ],
      "text/plain": [
       "   user_id  name   age country  score continent\n",
       "0   1001.0  Mark  55.0   Italy    4.5    Europe\n",
       "1   1000.0  John  33.0     USA    6.7   America"
      ]
     },
     "execution_count": 39,
     "metadata": {},
     "output_type": "execute_result"
    }
   ],
   "source": [
    "# index=False를 사용하면 엑셀에서 가져온 값 전체를\n",
    "# 데이터프레임의 데이터 부분에 입력하고 기본 인덱스를 사용합니다\n",
    "sheet1[\"A6\"].expand().options(pd.DataFrame, index=False).value"
   ]
  },
  {
   "cell_type": "markdown",
   "metadata": {
    "id": "lySzvLKkIqSG"
   },
   "source": [
    "## 변환기, 옵션, 컬렉션"
   ]
  },
  {
   "cell_type": "code",
   "execution_count": 40,
   "metadata": {
    "executionInfo": {
     "elapsed": 14,
     "status": "aborted",
     "timestamp": 1653465284572,
     "user": {
      "displayName": "박준규",
      "userId": "16577167999398926509"
     },
     "user_tz": -540
    },
    "id": "nFUxPsHqIqSG"
   },
   "outputs": [
    {
     "data": {
      "text/plain": [
       "[1.0, 2.0]"
      ]
     },
     "execution_count": 40,
     "metadata": {},
     "output_type": "execute_result"
    }
   ],
   "source": [
    "# 가로 범위 (1차원)\n",
    "sheet1[\"A1:B1\"].value"
   ]
  },
  {
   "cell_type": "code",
   "execution_count": 41,
   "metadata": {
    "executionInfo": {
     "elapsed": 13,
     "status": "aborted",
     "timestamp": 1653465284572,
     "user": {
      "displayName": "박준규",
      "userId": "16577167999398926509"
     },
     "user_tz": -540
    },
    "id": "9QPMBo7EIqSG"
   },
   "outputs": [
    {
     "data": {
      "text/plain": [
       "[1.0, 3.0]"
      ]
     },
     "execution_count": 41,
     "metadata": {},
     "output_type": "execute_result"
    }
   ],
   "source": [
    "# 세로 범위 (1차원)\n",
    "sheet1[\"A1:A2\"].value"
   ]
  },
  {
   "cell_type": "code",
   "execution_count": 42,
   "metadata": {
    "executionInfo": {
     "elapsed": 14,
     "status": "aborted",
     "timestamp": 1653465284573,
     "user": {
      "displayName": "박준규",
      "userId": "16577167999398926509"
     },
     "user_tz": -540
    },
    "id": "ifLSDL9NIqSG"
   },
   "outputs": [
    {
     "data": {
      "text/plain": [
       "[[1.0, 2.0]]"
      ]
     },
     "execution_count": 42,
     "metadata": {},
     "output_type": "execute_result"
    }
   ],
   "source": [
    "# 가로 범위 (2차원)\n",
    "sheet1[\"A1:B1\"].options(ndim=2).value"
   ]
  },
  {
   "cell_type": "code",
   "execution_count": 43,
   "metadata": {
    "executionInfo": {
     "elapsed": 14,
     "status": "aborted",
     "timestamp": 1653465284573,
     "user": {
      "displayName": "박준규",
      "userId": "16577167999398926509"
     },
     "user_tz": -540
    },
    "id": "gbTeHM25IqSG"
   },
   "outputs": [
    {
     "data": {
      "text/plain": [
       "[[1.0], [3.0]]"
      ]
     },
     "execution_count": 43,
     "metadata": {},
     "output_type": "execute_result"
    }
   ],
   "source": [
    "#  세로 범위 (2차원)\n",
    "sheet1[\"A1:A2\"].options(ndim=2).value"
   ]
  },
  {
   "cell_type": "code",
   "execution_count": 44,
   "metadata": {
    "executionInfo": {
     "elapsed": 13,
     "status": "aborted",
     "timestamp": 1653465284573,
     "user": {
      "displayName": "박준규",
      "userId": "16577167999398926509"
     },
     "user_tz": -540
    },
    "id": "35EYPmVJIqSH"
   },
   "outputs": [
    {
     "data": {
      "text/plain": [
       "array([1., 3.])"
      ]
     },
     "execution_count": 44,
     "metadata": {},
     "output_type": "execute_result"
    }
   ],
   "source": [
    "# 넘파이 ㅂ배열 변환기도 똑같이 작동합니다\n",
    "# 세로 범위는 1차원 배열이 됩니다\n",
    "sheet1[\"A1:A2\"].options(np.array).value"
   ]
  },
  {
   "cell_type": "code",
   "execution_count": 45,
   "metadata": {
    "executionInfo": {
     "elapsed": 14,
     "status": "aborted",
     "timestamp": 1653465284574,
     "user": {
      "displayName": "박준규",
      "userId": "16577167999398926509"
     },
     "user_tz": -540
    },
    "id": "Bh6Xlr9fIqSH"
   },
   "outputs": [
    {
     "data": {
      "text/plain": [
       "array([[1.],\n",
       "       [3.]])"
      ]
     },
     "execution_count": 45,
     "metadata": {},
     "output_type": "execute_result"
    }
   ],
   "source": [
    "# P열 방향 보존\n",
    "sheet1[\"A1:A2\"].options(np.array, ndim=2).value"
   ]
  },
  {
   "cell_type": "code",
   "execution_count": 46,
   "metadata": {
    "executionInfo": {
     "elapsed": 2224,
     "status": "aborted",
     "timestamp": 1653465284575,
     "user": {
      "displayName": "박준규",
      "userId": "16577167999398926509"
     },
     "user_tz": -540
    },
    "id": "oTKGIkmnIqSH"
   },
   "outputs": [],
   "source": [
    "#  새로 방향 리스트가 필요하다면\n",
    "#  transpose 옵션이 유용합니다\n",
    "sheet1[\"D1\"].options(transpose=True).value = [100, 200]"
   ]
  },
  {
   "cell_type": "code",
   "execution_count": 47,
   "metadata": {
    "executionInfo": {
     "elapsed": 2221,
     "status": "aborted",
     "timestamp": 1653465284575,
     "user": {
      "displayName": "박준규",
      "userId": "16577167999398926509"
     },
     "user_tz": -540
    },
    "id": "YwGudJEMIqSH"
   },
   "outputs": [],
   "source": [
    "# 예제 데이터를 기롭합니다\n",
    "sheet1[\"A13\"].value = [dt.datetime(2020, 1, 1), None, 1.0]"
   ]
  },
  {
   "cell_type": "code",
   "execution_count": null,
   "metadata": {
    "executionInfo": {
     "elapsed": 2219,
     "status": "aborted",
     "timestamp": 1653465284576,
     "user": {
      "displayName": "박준규",
      "userId": "16577167999398926509"
     },
     "user_tz": -540
    },
    "id": "dUCq6rlwIqSH"
   },
   "outputs": [],
   "source": [
    "# 기본 옵션을 써서 다시 읽습니다\n",
    "sheet1[\"A13:C13\"].value"
   ]
  },
  {
   "cell_type": "code",
   "execution_count": 48,
   "metadata": {
    "executionInfo": {
     "elapsed": 2216,
     "status": "aborted",
     "timestamp": 1653465284576,
     "user": {
      "displayName": "박준규",
      "userId": "16577167999398926509"
     },
     "user_tz": -540
    },
    "id": "s5J0f2-KIqSH"
   },
   "outputs": [
    {
     "data": {
      "text/plain": [
       "[datetime.date(2020, 1, 1), 'NA', 1]"
      ]
     },
     "execution_count": 48,
     "metadata": {},
     "output_type": "execute_result"
    }
   ],
   "source": [
    "# 옵션을 바꿔서 읽습니다\n",
    "sheet1[\"A13:C13\"].options(empty=\"NA\",\n",
    "                          dates=dt.date,\n",
    "                          numbers=int).value"
   ]
  },
  {
   "cell_type": "markdown",
   "metadata": {
    "id": "wIH-G_QRIqSI"
   },
   "source": [
    "## 차트, 그림, 정의된 이름"
   ]
  },
  {
   "cell_type": "code",
   "execution_count": 49,
   "metadata": {
    "executionInfo": {
     "elapsed": 2211,
     "status": "aborted",
     "timestamp": 1653465284576,
     "user": {
      "displayName": "박준규",
      "userId": "16577167999398926509"
     },
     "user_tz": -540
    },
    "id": "6e3LQZUaIqSI"
   },
   "outputs": [],
   "source": [
    "sheet1[\"A15\"].value = [[None, \"North\", \"South\"],\n",
    "                       [\"Last Year\", 2, 5],\n",
    "                       [\"This Year\", 3, 6]]"
   ]
  },
  {
   "cell_type": "code",
   "execution_count": 50,
   "metadata": {
    "executionInfo": {
     "elapsed": 2208,
     "status": "aborted",
     "timestamp": 1653465284576,
     "user": {
      "displayName": "박준규",
      "userId": "16577167999398926509"
     },
     "user_tz": -540
    },
    "id": "Dd_7MhNXIqSI"
   },
   "outputs": [],
   "source": [
    "chart = sheet1.charts.add(top=sheet1[\"A19\"].top,\n",
    "                          left=sheet1[\"A19\"].left)\n",
    "chart.chart_type = \"column_clustered\"\n",
    "chart.set_source_data(sheet1[\"A15\"].expand())"
   ]
  },
  {
   "cell_type": "code",
   "execution_count": 51,
   "metadata": {
    "executionInfo": {
     "elapsed": 2206,
     "status": "aborted",
     "timestamp": 1653465284577,
     "user": {
      "displayName": "박준규",
      "userId": "16577167999398926509"
     },
     "user_tz": -540
    },
    "id": "D3l31dFnIqSJ"
   },
   "outputs": [
    {
     "data": {
      "text/html": [
       "<div>\n",
       "<style scoped>\n",
       "    .dataframe tbody tr th:only-of-type {\n",
       "        vertical-align: middle;\n",
       "    }\n",
       "\n",
       "    .dataframe tbody tr th {\n",
       "        vertical-align: top;\n",
       "    }\n",
       "\n",
       "    .dataframe thead th {\n",
       "        text-align: right;\n",
       "    }\n",
       "</style>\n",
       "<table border=\"1\" class=\"dataframe\">\n",
       "  <thead>\n",
       "    <tr style=\"text-align: right;\">\n",
       "      <th></th>\n",
       "      <th>North</th>\n",
       "      <th>South</th>\n",
       "    </tr>\n",
       "  </thead>\n",
       "  <tbody>\n",
       "    <tr>\n",
       "      <th>Last Year</th>\n",
       "      <td>2.0</td>\n",
       "      <td>5.0</td>\n",
       "    </tr>\n",
       "    <tr>\n",
       "      <th>This Year</th>\n",
       "      <td>3.0</td>\n",
       "      <td>6.0</td>\n",
       "    </tr>\n",
       "  </tbody>\n",
       "</table>\n",
       "</div>"
      ],
      "text/plain": [
       "           North  South\n",
       "Last Year    2.0    5.0\n",
       "This Year    3.0    6.0"
      ]
     },
     "execution_count": 51,
     "metadata": {},
     "output_type": "execute_result"
    }
   ],
   "source": [
    "# 차트 데이터를 데이터 프레임으로 읽습니다\n",
    "df = sheet1[\"A15\"].expand().options(pd.DataFrame).value\n",
    "df"
   ]
  },
  {
   "cell_type": "code",
   "execution_count": 52,
   "metadata": {
    "executionInfo": {
     "elapsed": 2203,
     "status": "aborted",
     "timestamp": 1653465284577,
     "user": {
      "displayName": "박준규",
      "userId": "16577167999398926509"
     },
     "user_tz": -540
    },
    "id": "tUcCVD9FIqSJ"
   },
   "outputs": [],
   "source": [
    "# 노트북의 매직 커맨드를 사용해 맷플롯립을 활성화하고\n",
    "# \"seaborn\" 스타일을 사용합니다\n",
    "%matplotlib inline\n",
    "import matplotlib.pyplot as plt\n",
    "plt.style.use(\"seaborn\")"
   ]
  },
  {
   "cell_type": "code",
   "execution_count": 53,
   "metadata": {
    "executionInfo": {
     "elapsed": 2201,
     "status": "aborted",
     "timestamp": 1653465284578,
     "user": {
      "displayName": "박준규",
      "userId": "16577167999398926509"
     },
     "user_tz": -540
    },
    "id": "Url1DpYFIqSJ"
   },
   "outputs": [
    {
     "data": {
      "image/png": "[encoded data removed]",
      "text/plain": [
       "<Figure size 576x396 with 1 Axes>"
      ]
     },
     "metadata": {},
     "output_type": "display_data"
    }
   ],
   "source": [
    "# 판다스 그래프 메서드가 반환하는 '축' 객체에서\n",
    "# 그림을 가져올 수 있습니다. \"T\"는 데이터프레임을 변환해\n",
    "# 원하는 방향으로 그래프를 그립니다\n",
    "ax = df.T.plot.bar()\n",
    "fig = ax.get_figure()"
   ]
  },
  {
   "cell_type": "code",
   "execution_count": 54,
   "metadata": {
    "executionInfo": {
     "elapsed": 2197,
     "status": "aborted",
     "timestamp": 1653465284578,
     "user": {
      "displayName": "박준규",
      "userId": "16577167999398926509"
     },
     "user_tz": -540
    },
    "id": "q6bDIrQWIqSJ"
   },
   "outputs": [],
   "source": [
    "# 그래프를 엑셀에 보냅니다\n",
    "plot = sheet1.pictures.add(fig, name=\"SalesPlot\",\n",
    "                           top=sheet1[\"H19\"].top,\n",
    "                           left=sheet1[\"H19\"].left)\n",
    "# 그래프를 70%로 축소합니다\n",
    "plot.width, plot.height = plot.width * 0.7, plot.height * 0.7"
   ]
  },
  {
   "cell_type": "code",
   "execution_count": 55,
   "metadata": {
    "executionInfo": {
     "elapsed": 2194,
     "status": "aborted",
     "timestamp": 1653465284578,
     "user": {
      "displayName": "박준규",
      "userId": "16577167999398926509"
     },
     "user_tz": -540
    },
    "id": "_M-y3ndTIqSJ"
   },
   "outputs": [],
   "source": [
    "ax = (df + 1).T.plot.bar()\n",
    "plot = plot.update(ax.get_figure())"
   ]
  },
  {
   "cell_type": "code",
   "execution_count": 56,
   "metadata": {
    "executionInfo": {
     "elapsed": 2192,
     "status": "aborted",
     "timestamp": 1653465284579,
     "user": {
      "displayName": "박준규",
      "userId": "16577167999398926509"
     },
     "user_tz": -540
    },
    "id": "-lGueWERIqSJ"
   },
   "outputs": [],
   "source": [
    "# 기본 스코프는 워크북입니다\n",
    "sheet1[\"A1:B2\"].name = \"matrix1\""
   ]
  },
  {
   "cell_type": "code",
   "execution_count": 57,
   "metadata": {
    "executionInfo": {
     "elapsed": 2189,
     "status": "aborted",
     "timestamp": 1653465284579,
     "user": {
      "displayName": "박준규",
      "userId": "16577167999398926509"
     },
     "user_tz": -540
    },
    "id": "e5h4Lz4VIqSJ"
   },
   "outputs": [],
   "source": [
    "# 시트 스코프를 사용할 때는 시트 이름과 느김표를 앞에 붙입니다\n",
    "sheet1[\"B10:E11\"].name = \"Sheet1!matrix2\""
   ]
  },
  {
   "cell_type": "code",
   "execution_count": 58,
   "metadata": {
    "executionInfo": {
     "elapsed": 2185,
     "status": "aborted",
     "timestamp": 1653465284579,
     "user": {
      "displayName": "박준규",
      "userId": "16577167999398926509"
     },
     "user_tz": -540
    },
    "id": "DYoEjcSQIqSJ"
   },
   "outputs": [
    {
     "data": {
      "text/plain": [
       "<Range [통합 문서2]Sheet1!$A$1:$B$2>"
      ]
     },
     "execution_count": 58,
     "metadata": {},
     "output_type": "execute_result"
    }
   ],
   "source": [
    "# 이제 이름으로 범위에 접근합니다\n",
    "sheet1[\"matrix1\"]"
   ]
  },
  {
   "cell_type": "code",
   "execution_count": 59,
   "metadata": {
    "executionInfo": {
     "elapsed": 2181,
     "status": "aborted",
     "timestamp": 1653465284579,
     "user": {
      "displayName": "박준규",
      "userId": "16577167999398926509"
     },
     "user_tz": -540
    },
    "id": "adBDsYzNIqSK"
   },
   "outputs": [
    {
     "data": {
      "text/plain": [
       "[<Name 'Sheet1!matrix2': =Sheet1!$B$10:$E$11>]"
      ]
     },
     "execution_count": 59,
     "metadata": {},
     "output_type": "execute_result"
    }
   ],
   "source": [
    "# sheet1 객체를 통해 names 컬렉션에 접근하면\n",
    "# 해당 시트의 스코프에 존재하는 이름만 들어 있습니다\n",
    "sheet1.names"
   ]
  },
  {
   "cell_type": "code",
   "execution_count": 60,
   "metadata": {
    "executionInfo": {
     "elapsed": 2179,
     "status": "aborted",
     "timestamp": 1653465284580,
     "user": {
      "displayName": "박준규",
      "userId": "16577167999398926509"
     },
     "user_tz": -540
    },
    "id": "T4LHQl5eIqSK"
   },
   "outputs": [
    {
     "data": {
      "text/plain": [
       "[<Name 'matrix1': =Sheet1!$A$1:$B$2>, <Name 'Sheet1!matrix2': =Sheet1!$B$10:$E$11>]"
      ]
     },
     "execution_count": 60,
     "metadata": {},
     "output_type": "execute_result"
    }
   ],
   "source": [
    "# book 객체를 통해 names 컬렉션에 접근하면\n",
    "# 워크북과 시트 스코프에 정의된 이름이 모무 포함됩니다\n",
    "book.names"
   ]
  },
  {
   "cell_type": "code",
   "execution_count": 61,
   "metadata": {
    "executionInfo": {
     "elapsed": 2176,
     "status": "aborted",
     "timestamp": 1653465284580,
     "user": {
      "displayName": "박준규",
      "userId": "16577167999398926509"
     },
     "user_tz": -540
    },
    "id": "LTsJi00eIqSK"
   },
   "outputs": [
    {
     "data": {
      "text/plain": [
       "<Range [통합 문서2]Sheet1!$A$1:$B$2>"
      ]
     },
     "execution_count": 61,
     "metadata": {},
     "output_type": "execute_result"
    }
   ],
   "source": [
    "# names 컬랙션에는 다영한 메서드와 속성이 있습니다\n",
    "# 예를 들어 가각의 범위 객체를 가져올 수도 있습니다\n",
    "book.names[\"matrix1\"].refers_to_range"
   ]
  },
  {
   "cell_type": "code",
   "execution_count": 62,
   "metadata": {
    "executionInfo": {
     "elapsed": 2173,
     "status": "aborted",
     "timestamp": 1653465284580,
     "user": {
      "displayName": "박준규",
      "userId": "16577167999398926509"
     },
     "user_tz": -540
    },
    "id": "CsyhHSBCIqSK"
   },
   "outputs": [
    {
     "data": {
      "text/plain": [
       "<Name 'EURUSD': =1.1151>"
      ]
     },
     "execution_count": 62,
     "metadata": {},
     "output_type": "execute_result"
    }
   ],
   "source": [
    "# 상수나 수식에 이름을 할당려면\n",
    "# add 메서드를 사용하십시오\n",
    "book.names.add(\"EURUSD\", \"=1.1151\")"
   ]
  },
  {
   "cell_type": "markdown",
   "metadata": {
    "id": "urG-4s1MIqSK"
   },
   "source": [
    "# 엑셀윙스 고급 주제"
   ]
  },
  {
   "cell_type": "markdown",
   "metadata": {
    "id": "jNdFFGViIqSK"
   },
   "source": [
    "## 성능 향상"
   ]
  },
  {
   "cell_type": "code",
   "execution_count": 63,
   "metadata": {
    "executionInfo": {
     "elapsed": 2171,
     "status": "aborted",
     "timestamp": 1653465284581,
     "user": {
      "displayName": "박준규",
      "userId": "16577167999398926509"
     },
     "user_tz": -540
    },
    "id": "Xeewov9uIqSK"
   },
   "outputs": [],
   "source": [
    "# A시트를 추가하고 데스트에 사용할 150개의 값을 기록합니다\n",
    "sheet2 = book.sheets.add()\n",
    "sheet2[\"A1\"].value = np.arange(150).reshape(30, 5)"
   ]
  },
  {
   "cell_type": "code",
   "execution_count": 64,
   "metadata": {
    "executionInfo": {
     "elapsed": 2167,
     "status": "aborted",
     "timestamp": 1653465284581,
     "user": {
      "displayName": "박준규",
      "userId": "16577167999398926509"
     },
     "user_tz": -540
    },
    "id": "pWHBdi06IqSK"
   },
   "outputs": [
    {
     "name": "stdout",
     "output_type": "stream",
     "text": [
      "CPU times: total: 156 ms\n",
      "Wall time: 316 ms\n"
     ]
    }
   ],
   "source": [
    "%%time\n",
    "# 애플리케이션 간 호출이 150번 일어납니다\n",
    "for cell in sheet2[\"A1:E30\"]:\n",
    "    cell.value += 1"
   ]
  },
  {
   "cell_type": "code",
   "execution_count": 65,
   "metadata": {
    "executionInfo": {
     "elapsed": 2164,
     "status": "aborted",
     "timestamp": 1653465284581,
     "user": {
      "displayName": "박준규",
      "userId": "16577167999398926509"
     },
     "user_tz": -540
    },
    "id": "mh89BZ0wIqSK"
   },
   "outputs": [
    {
     "name": "stdout",
     "output_type": "stream",
     "text": [
      "CPU times: total: 31.2 ms\n",
      "Wall time: 35.9 ms\n"
     ]
    }
   ],
   "source": [
    "%%time\n",
    "# 애플리케이션 간 호출이 단 두 번 일어납니다\n",
    "values = sheet2[\"A1:E30\"].options(np.array).value\n",
    "sheet2[\"A1:E30\"].value = values + 1"
   ]
  },
  {
   "cell_type": "code",
   "execution_count": 66,
   "metadata": {
    "executionInfo": {
     "elapsed": 2161,
     "status": "aborted",
     "timestamp": 1653465284581,
     "user": {
      "displayName": "박준규",
      "userId": "16577167999398926509"
     },
     "user_tz": -540
    },
    "id": "fOWy-OEfIqSL"
   },
   "outputs": [],
   "source": [
    "# 값 원형을 쓰면 반드시 대상 범위 전체를 명시해야 하며\n",
    "# sheet[\"A35\"] 같은 편리한 방법은 쓸 수 없습니다\n",
    "sheet1[\"A35:B36\"].options(\"raw\").value = [[1, 2], [3, 4]]"
   ]
  }
 ],
 "metadata": {
  "colab": {
   "name": "Ch9. 엑셀자동화.ipynb",
   "provenance": []
  },
  "kernelspec": {
   "display_name": "Python 3 (ipykernel)",
   "language": "python",
   "name": "python3"
  },
  "language_info": {
   "codemirror_mode": {
    "name": "ipython",
    "version": 3
   },
   "file_extension": ".py",
   "mimetype": "text/x-python",
   "name": "python",
   "nbconvert_exporter": "python",
   "pygments_lexer": "ipython3",
   "version": "3.9.12"
  }
 },
 "nbformat": 4,
 "nbformat_minor": 1
}
