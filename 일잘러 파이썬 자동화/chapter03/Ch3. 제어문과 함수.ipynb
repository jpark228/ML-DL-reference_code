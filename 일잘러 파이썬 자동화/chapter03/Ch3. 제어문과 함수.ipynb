{
 "cells": [
  {
   "cell_type": "markdown",
   "metadata": {},
   "source": [
    "# Chapter 03 제어문과 함수"
   ]
  },
  {
   "cell_type": "markdown",
   "metadata": {},
   "source": [
    "##  3.1 제어문"
   ]
  },
  {
   "cell_type": "markdown",
   "metadata": {},
   "source": [
    "### if 문"
   ]
  },
  {
   "cell_type": "code",
   "execution_count": 2,
   "metadata": {},
   "outputs": [
    {
     "data": {
      "text/plain": [
       "True"
      ]
     },
     "execution_count": 2,
     "metadata": {},
     "output_type": "execute_result"
    }
   ],
   "source": [
    "x = 10\t# 변수 x에 10을 입력\n",
    "y = 5\t# 변수 y에 5를 입력\n",
    "x > y\t# x가 y보다 큰 값인지 비교"
   ]
  },
  {
   "cell_type": "code",
   "execution_count": 3,
   "metadata": {},
   "outputs": [
    {
     "data": {
      "text/plain": [
       "False"
      ]
     },
     "execution_count": 3,
     "metadata": {},
     "output_type": "execute_result"
    }
   ],
   "source": [
    "x == y\t# x와 y가 같은 값인지 비교 "
   ]
  },
  {
   "cell_type": "code",
   "execution_count": 4,
   "metadata": {},
   "outputs": [
    {
     "data": {
      "text/plain": [
       "True"
      ]
     },
     "execution_count": 4,
     "metadata": {},
     "output_type": "execute_result"
    }
   ],
   "source": [
    "x != y\t# x와 y가 다른 값인지 비교 "
   ]
  },
  {
   "cell_type": "code",
   "execution_count": 5,
   "metadata": {},
   "outputs": [
    {
     "data": {
      "text/plain": [
       "True"
      ]
     },
     "execution_count": 5,
     "metadata": {},
     "output_type": "execute_result"
    }
   ],
   "source": [
    "x = True\t# 변수 x에 True 입력\n",
    "y = False\t# 변수 y에 False 입력\n",
    "x or y\t\t# x와 y값 중 하나라도 참이면 True를 출력"
   ]
  },
  {
   "cell_type": "code",
   "execution_count": 6,
   "metadata": {},
   "outputs": [
    {
     "data": {
      "text/plain": [
       "False"
      ]
     },
     "execution_count": 6,
     "metadata": {},
     "output_type": "execute_result"
    }
   ],
   "source": [
    "x and y\t\t# x와 y값 모두가 참이 아니면 False를 출력"
   ]
  },
  {
   "cell_type": "code",
   "execution_count": 7,
   "metadata": {},
   "outputs": [
    {
     "data": {
      "text/plain": [
       "True"
      ]
     },
     "execution_count": 7,
     "metadata": {},
     "output_type": "execute_result"
    }
   ],
   "source": [
    "10 in [10, 20, 30]\t\t# 리스트 [10, 20, 30]에 10이 있으면 참 "
   ]
  },
  {
   "cell_type": "code",
   "execution_count": 8,
   "metadata": {},
   "outputs": [
    {
     "data": {
      "text/plain": [
       "False"
      ]
     },
     "execution_count": 8,
     "metadata": {},
     "output_type": "execute_result"
    }
   ],
   "source": [
    "\"x\" not in (\"x\", \"y\", \"z\")\t\t# 튜플 (\"x\", \"y\", \"z\")에 \"x\"가 없으면 참 "
   ]
  },
  {
   "cell_type": "code",
   "execution_count": 9,
   "metadata": {},
   "outputs": [
    {
     "name": "stdout",
     "output_type": "stream",
     "text": [
      "홀수\n"
     ]
    }
   ],
   "source": [
    "x = 3\t\t\t\t# 변수 x에 3을 대입\n",
    "if x % 2 == 0:\t\t# x를 2로 나눈 나머지 값과 0을 비교\n",
    "    print(\"짝수\")\t\t# 조건문이 참일 때 실행\n",
    "else:\n",
    "    print(\"홀수\")\t\t# 조건문이 거짓일 때 실행 "
   ]
  },
  {
   "cell_type": "code",
   "execution_count": 10,
   "metadata": {},
   "outputs": [
    {
     "name": "stdout",
     "output_type": "stream",
     "text": [
      "강감찬님은 합격입니다.\n"
     ]
    }
   ],
   "source": [
    "pass_list = [\"이순신\", \"을지문덕\", \"연개소문\", \"강감찬\"]  #리스트로 저장\n",
    "name = \"강감찬\"\n",
    "if name in pass_list :\n",
    "    print (name + \"님은 합격입니다.\")\n",
    "else :\n",
    "    print (name + \"님은 불합격입니다.\")"
   ]
  },
  {
   "cell_type": "code",
   "execution_count": 11,
   "metadata": {},
   "outputs": [
    {
     "name": "stdout",
     "output_type": "stream",
     "text": [
      "보통\n"
     ]
    }
   ],
   "source": [
    "x = 55\n",
    "if x >= 70:\t\t\t# x가 70보다 작으므로 조건문의 값은 거짓\n",
    "    print (\"양호\")\n",
    "elif x >= 40:\t\t# x가 40보다 크므로 조건문의 값은 참\n",
    "    print (\"보통\")\n",
    "else :\n",
    "    print (\"불량\")"
   ]
  },
  {
   "cell_type": "code",
   "execution_count": 12,
   "metadata": {},
   "outputs": [],
   "source": [
    "if x >= 80:\n",
    "    msg = \"합격\"\n",
    "else:\n",
    "    msg = \"불합격\""
   ]
  },
  {
   "cell_type": "code",
   "execution_count": 13,
   "metadata": {},
   "outputs": [],
   "source": [
    "msg = \"합격\" if x >= 80 else \"불합격\""
   ]
  },
  {
   "cell_type": "markdown",
   "metadata": {},
   "source": [
    "### while 문"
   ]
  },
  {
   "cell_type": "code",
   "execution_count": 14,
   "metadata": {},
   "outputs": [
    {
     "name": "stdout",
     "output_type": "stream",
     "text": [
      "1 + 2 + ... + 99 + 100 = 5050\n"
     ]
    }
   ],
   "source": [
    "i = 1\n",
    "sum = 0\n",
    "while i < 101:      \t# i가 101보다 작을 동안 계속해서 반복\n",
    "    sum = sum + i\n",
    "    i = i + 1\n",
    "print(\"1 + 2 + ... + 99 + 100 =\", sum)"
   ]
  },
  {
   "cell_type": "code",
   "execution_count": 15,
   "metadata": {},
   "outputs": [
    {
     "name": "stdout",
     "output_type": "stream",
     "text": [
      "남은 계란은 1개입니다.\n",
      "남은 계란은 0개입니다.\n",
      "계란이 없습니다.\n"
     ]
    }
   ],
   "source": [
    "egg = 2\n",
    "while True:\t\t\t\t\t\t# 무한 반복\n",
    "    egg = egg -1\n",
    "    print(\"남은 계란은 %d개입니다.\" % egg)\n",
    "    if egg == 0:\t\t\t\t# egg가 0일 때 print() 실행\n",
    "        print(\"계란이 없습니다.\")\n",
    "        break"
   ]
  },
  {
   "cell_type": "code",
   "execution_count": 16,
   "metadata": {},
   "outputs": [
    {
     "name": "stdout",
     "output_type": "stream",
     "text": [
      "1\n",
      "3\n",
      "5\n",
      "7\n",
      "9\n"
     ]
    }
   ],
   "source": [
    "i = 0\n",
    "while i < 10:\n",
    "    i = i + 1\n",
    "    if i % 2 == 0: continue\t\t# i가 짝수일 경우 while 문의 처음 코드로 돌아감\n",
    "    print(i)"
   ]
  },
  {
   "cell_type": "markdown",
   "metadata": {},
   "source": [
    "### for 문"
   ]
  },
  {
   "cell_type": "code",
   "execution_count": 17,
   "metadata": {},
   "outputs": [
    {
     "name": "stdout",
     "output_type": "stream",
     "text": [
      "네이버\n",
      "구글\n",
      "다음\n"
     ]
    }
   ],
   "source": [
    "web_list = [\"네이버\", \"구글\", \"다음\"] \n",
    "for a in web_list: \t\t# 변수 a에 \"네이버\", \"구글\", \"다음\"이 차례로 대입됨\n",
    "    print(a)"
   ]
  },
  {
   "cell_type": "code",
   "execution_count": 18,
   "metadata": {},
   "outputs": [
    {
     "name": "stdout",
     "output_type": "stream",
     "text": [
      "18\n",
      "20\n",
      "24\n"
     ]
    }
   ],
   "source": [
    "a = [(3, 6), (4, 5), (3, 8)]\n",
    "for (x, y) in a:\t\t# 변수(x, y)에 (3, 6), (4, 5), (3, 8)이 차례로 대입됨  \n",
    "    print(x * y)\t\t# x와 y를 곱하고 출력"
   ]
  },
  {
   "cell_type": "code",
   "execution_count": 19,
   "metadata": {},
   "outputs": [
    {
     "name": "stdout",
     "output_type": "stream",
     "text": [
      "[1, 2, 3, 4, 5, 6, 7, 8, 9] [1, 3, 5, 7, 9] [10, 9, 8, 7, 6, 5, 4, 3, 2]\n"
     ]
    }
   ],
   "source": [
    "a = list(range(1, 10))\t\t# 1부터 9까지 숫자 리스트 생성\n",
    "b = list(range(1, 10, 2))\t# 1~9에서 2씩 증가하는 숫자 리스트 생성\n",
    "c = list(range(10, 1, -1))\t# 10~2에서 -1씩 감소하는 숫자 리스트 생성\n",
    "print(a, b, c)"
   ]
  },
  {
   "cell_type": "code",
   "execution_count": 20,
   "metadata": {},
   "outputs": [
    {
     "name": "stdout",
     "output_type": "stream",
     "text": [
      "2500\n"
     ]
    }
   ],
   "source": [
    "sum = 0\n",
    "for a in range(1, 100, 2):\t\t# 1~99에서 2씩 증가, 홀수 리스트를 생성\n",
    "    sum = a + sum\t\t\t\t# 변수 sum에 홀수를 차례로 더함\n",
    "print(sum) "
   ]
  },
  {
   "cell_type": "code",
   "execution_count": 21,
   "metadata": {},
   "outputs": [
    {
     "name": "stdout",
     "output_type": "stream",
     "text": [
      "2 X 2 = 4 \t2 X 3 = 6 \t2 X 4 = 8 \t2 X 5 = 10 \t2 X 6 = 12 \t \n",
      "3 X 2 = 6 \t3 X 3 = 9 \t3 X 4 = 12 \t3 X 5 = 15 \t3 X 6 = 18 \t \n",
      "4 X 2 = 8 \t4 X 3 = 12 \t4 X 4 = 16 \t4 X 5 = 20 \t4 X 6 = 24 \t \n",
      "5 X 2 = 10 \t5 X 3 = 15 \t5 X 4 = 20 \t5 X 5 = 25 \t5 X 6 = 30 \t \n",
      "6 X 2 = 12 \t6 X 3 = 18 \t6 X 4 = 24 \t6 X 5 = 30 \t6 X 6 = 36 \t \n",
      "7 X 2 = 14 \t7 X 3 = 21 \t7 X 4 = 28 \t7 X 5 = 35 \t7 X 6 = 42 \t \n"
     ]
    }
   ],
   "source": [
    "for x in range(2, 8):  \t\t\t\t# x에 2부터 7까지 대입\n",
    "    for y in range(2,7):\t\t\t# y에 2부터 6까지 대입\n",
    "        print(\"%d X %d = %d\"%(x, y, x * y), \"\\t\", end=\"\")\t# x, y, x * y 출력, tab으로 간격 조정\n",
    "    print(\" \")\t\t\t\t\t\t# 줄 바꾸기"
   ]
  },
  {
   "cell_type": "code",
   "execution_count": 22,
   "metadata": {},
   "outputs": [
    {
     "name": "stdout",
     "output_type": "stream",
     "text": [
      "1번 학생 축하합니다.\n",
      "2번 학생 축하합니다.\n",
      "4번 학생 축하합니다.\n"
     ]
    }
   ],
   "source": [
    "scores = [(1, 83),(2, 66),(3, 55),(4, 70), (5, 50)]\n",
    "for num, score in scores:  \t\t\t# num과 score에 튜플 데이터를 대입\n",
    "    if score < 60:\t\t\t\t\t# score가 60보다 작을 경우 continue 실행\n",
    "        continue \n",
    "    print(\"%d번 학생 축하합니다.\" %num)\t# score가 60보다 크거나 같을 경우 print() 실행"
   ]
  },
  {
   "cell_type": "markdown",
   "metadata": {},
   "source": [
    "## 3.2 함수와 클래스"
   ]
  },
  {
   "cell_type": "markdown",
   "metadata": {},
   "source": [
    "### 함수 만들기"
   ]
  },
  {
   "cell_type": "code",
   "execution_count": 23,
   "metadata": {},
   "outputs": [
    {
     "name": "stdout",
     "output_type": "stream",
     "text": [
      "30\n"
     ]
    }
   ],
   "source": [
    "def sum(a, b):\t\t\t# sum() 함수 정의, 매개변수 a, b\n",
    "    result = a+b\n",
    "    return result\t\t# result를 결과값으로 전달\n",
    "\n",
    "print(sum(10,20))\t\t# sum() 함수 호출, 10과 20은 매개변수로 전달되는 인수"
   ]
  },
  {
   "cell_type": "code",
   "execution_count": 24,
   "metadata": {},
   "outputs": [
    {
     "name": "stdout",
     "output_type": "stream",
     "text": [
      "200\n"
     ]
    }
   ],
   "source": [
    "def mul(x, y):\t\t\t# mul() 함수 정의, 매개변수 x, y\n",
    "    res = x * y\n",
    "    return res\t\t\t# res를 결과값으로 전달\n",
    "\n",
    "print(mul(100, 2))\t\t# mul() 함수 호출, 100과 2는 매개변수로 전달되는 인수"
   ]
  },
  {
   "cell_type": "code",
   "execution_count": 25,
   "metadata": {},
   "outputs": [
    {
     "name": "stdout",
     "output_type": "stream",
     "text": [
      "안녕하세요! 반갑습니다.\n"
     ]
    }
   ],
   "source": [
    "def good( ):\t\t# good() 함수 정의, 매개변수 없음\n",
    "    return \"안녕하세요! 반갑습니다.\"\n",
    "    \n",
    "print(good( ))\t\t# good() 함수 호출"
   ]
  },
  {
   "cell_type": "code",
   "execution_count": 26,
   "metadata": {},
   "outputs": [
    {
     "name": "stdout",
     "output_type": "stream",
     "text": [
      "불합격입니다.ㅠㅠ\n"
     ]
    }
   ],
   "source": [
    "def test(a):\t\t# test() 함수 정의\n",
    "    if a >= 60:\t\t# a가 60 이상이면  \"합격을 축하드립니다.\" 출력\n",
    "        print(\"합격을 축하드립니다.\")\n",
    "    else:\t\t\t# a가 60 미만이면 \"불합격입니다.ㅠㅠ\" 출력\n",
    "        print(\"불합격입니다.ㅠㅠ\")\n",
    "test(55)"
   ]
  },
  {
   "cell_type": "code",
   "execution_count": 27,
   "metadata": {},
   "outputs": [
    {
     "name": "stdout",
     "output_type": "stream",
     "text": [
      "안녕하세요! 반갑습니다.\n"
     ]
    }
   ],
   "source": [
    "def sayhello( ):\t\t# sayhello() 함수 정의\n",
    "   print(\"안녕하세요! 반갑습니다.\")  \n",
    "\n",
    "sayhello()\t\t\t\t# 함수 호출"
   ]
  },
  {
   "cell_type": "code",
   "execution_count": 28,
   "metadata": {},
   "outputs": [
    {
     "name": "stdout",
     "output_type": "stream",
     "text": [
      "1\n"
     ]
    }
   ],
   "source": [
    "a = 1\n",
    "def test(a):\t\t# test() 함수 정의\n",
    "    a = a + 1\n",
    "    return a\n",
    "test(a)\t\t\t\t# test() 함수 호출\n",
    "print(a)"
   ]
  },
  {
   "cell_type": "markdown",
   "metadata": {},
   "source": [
    "### 입력과 출력 함수"
   ]
  },
  {
   "cell_type": "code",
   "execution_count": 29,
   "metadata": {},
   "outputs": [
    {
     "name": "stdout",
     "output_type": "stream",
     "text": [
      "Hello Python\n"
     ]
    }
   ],
   "source": [
    "test = input()"
   ]
  },
  {
   "cell_type": "code",
   "execution_count": 30,
   "metadata": {},
   "outputs": [
    {
     "name": "stdout",
     "output_type": "stream",
     "text": [
      "Hello Python\n"
     ]
    }
   ],
   "source": [
    "print(test)"
   ]
  },
  {
   "cell_type": "code",
   "execution_count": 31,
   "metadata": {},
   "outputs": [
    {
     "data": {
      "text/plain": [
       "str"
      ]
     },
     "execution_count": 31,
     "metadata": {},
     "output_type": "execute_result"
    }
   ],
   "source": [
    "type(test)"
   ]
  },
  {
   "cell_type": "code",
   "execution_count": 32,
   "metadata": {},
   "outputs": [
    {
     "name": "stdout",
     "output_type": "stream",
     "text": [
      "저장하고 싶은 값을 입력하세요:7\n"
     ]
    },
    {
     "data": {
      "text/plain": [
       "'7'"
      ]
     },
     "execution_count": 32,
     "metadata": {},
     "output_type": "execute_result"
    }
   ],
   "source": [
    "input(\"저장하고 싶은 값을 입력하세요:\")"
   ]
  },
  {
   "cell_type": "code",
   "execution_count": 33,
   "metadata": {},
   "outputs": [
    {
     "name": "stdout",
     "output_type": "stream",
     "text": [
      "Ieat5eggs.\n"
     ]
    }
   ],
   "source": [
    "print(\"I\" \"eat\" \"5\" \"eggs.\")\t# 공백 사용했지만 출력값 사이에 공백 없이 출력됨"
   ]
  },
  {
   "cell_type": "code",
   "execution_count": 34,
   "metadata": {},
   "outputs": [
    {
     "name": "stdout",
     "output_type": "stream",
     "text": [
      "I eat 5 eggs.\n"
     ]
    }
   ],
   "source": [
    "print(\"I\", \"eat\", \"5\", \"eggs.\")\t# 콤마(,) 사용 시 출력값에 공백 추가됨, 숫자 입력 가능"
   ]
  },
  {
   "cell_type": "code",
   "execution_count": 35,
   "metadata": {},
   "outputs": [
    {
     "name": "stdout",
     "output_type": "stream",
     "text": [
      "Ieat5eggs.\n"
     ]
    }
   ],
   "source": [
    "print(\"I\"+\"eat\"+\"5\"+\"eggs.\")    # 더하기 기호(+)는 같은 자료형끼리만 사용 가능"
   ]
  },
  {
   "cell_type": "code",
   "execution_count": 36,
   "metadata": {},
   "outputs": [
    {
     "name": "stdout",
     "output_type": "stream",
     "text": [
      "I eat 5 eggs. "
     ]
    }
   ],
   "source": [
    "print(\"I\", end =\" \")\t\t\t# \"\" 사이에 공백 입력\n",
    "print(\"eat\", end =\" \")\n",
    "print(5, end =\" \")\n",
    "print(\"eggs.\", end =\" \")"
   ]
  },
  {
   "cell_type": "code",
   "execution_count": 37,
   "metadata": {
    "scrolled": true
   },
   "outputs": [
    {
     "name": "stdout",
     "output_type": "stream",
     "text": [
      "39\n"
     ]
    }
   ],
   "source": [
    "num = input()"
   ]
  },
  {
   "cell_type": "code",
   "execution_count": 38,
   "metadata": {},
   "outputs": [
    {
     "name": "stdout",
     "output_type": "stream",
     "text": [
      "39\n"
     ]
    }
   ],
   "source": [
    "print(num)"
   ]
  },
  {
   "cell_type": "code",
   "execution_count": 39,
   "metadata": {},
   "outputs": [
    {
     "data": {
      "text/plain": [
       "str"
      ]
     },
     "execution_count": 39,
     "metadata": {},
     "output_type": "execute_result"
    }
   ],
   "source": [
    "type(num)"
   ]
  },
  {
   "cell_type": "code",
   "execution_count": 40,
   "metadata": {},
   "outputs": [
    {
     "data": {
      "text/plain": [
       "int"
      ]
     },
     "execution_count": 40,
     "metadata": {},
     "output_type": "execute_result"
    }
   ],
   "source": [
    "num2 = int(num)\n",
    "type(num2)"
   ]
  },
  {
   "cell_type": "markdown",
   "metadata": {},
   "source": [
    "### 외부 파일 읽고 쓰기"
   ]
  },
  {
   "cell_type": "code",
   "execution_count": 41,
   "metadata": {},
   "outputs": [],
   "source": [
    "f = open(\"A lucky day.txt\", \"r\")\t\t# 현재 경로에서 “A lucky day.txt”를 읽기 모드로 열기\n",
    "f.close()\t\t\t\t\t# 파일 닫기"
   ]
  },
  {
   "cell_type": "code",
   "execution_count": 42,
   "metadata": {},
   "outputs": [],
   "source": [
    "f = open(\"A lucky day.txt\", \"w\")\t\t# 현재 경로에서 “A lucky day.txt”를 쓰기 모드로 열기\n",
    "f.close()\t\t\t\t\t# 파일 닫기"
   ]
  },
  {
   "cell_type": "code",
   "execution_count": 43,
   "metadata": {},
   "outputs": [],
   "source": [
    "f = open(\"A lucky day.txt\", \"w\")\t\t# 파일 열기\n",
    "f.write(\"\"\"새침하게 흐린 품이 눈이 올 듯하더니 눈은 아니 오고 얼다가 만 비가 추적추적 내리었다.\n",
    "이날이야말로 동소문 안에서 인력거꾼 노릇을 하는 김 첨지에게는\n",
    "오래간만에도 닥친 운수 좋은 날이었다.\"\"\")\n",
    "f.close()\t\t\t\t\t# 파일 닫기"
   ]
  },
  {
   "cell_type": "code",
   "execution_count": 44,
   "metadata": {},
   "outputs": [
    {
     "name": "stdout",
     "output_type": "stream",
     "text": [
      "새침하게 흐린 품이 눈이 올 듯하더니 눈은 아니 오고 얼다가 만 비가 추적추적 내리었다.\n",
      "\n"
     ]
    }
   ],
   "source": [
    "fr = open(\"A lucky day.txt\", \"r\")\t\t# 파일 읽기 모드로 열기\n",
    "line = fr.readline()\t\t\t\t\t# 파일 내용 한 줄 출력\n",
    "print(line)\t\t\t\t\t\t\t\t# 한 줄 출력\n",
    "fr.close()"
   ]
  },
  {
   "cell_type": "code",
   "execution_count": 45,
   "metadata": {},
   "outputs": [
    {
     "name": "stdout",
     "output_type": "stream",
     "text": [
      "새침하게 흐린 품이 눈이 올 듯하더니 눈은 아니 오고 얼다가 만 비가 추적추적 내리었다.\n",
      "이날이야말로 동소문 안에서 인력거꾼 노릇을 하는 김 첨지에게는\n",
      "오래간만에도 닥친 운수 좋은 날이었다.\n"
     ]
    }
   ],
   "source": [
    "fr1 = open(\"A lucky day.txt\", \"r\")\t\t# 파일 읽기 모드로 열기\n",
    "print(fr1.read())\t\t\t\t\t\t# 파일 내용 전체 출력\n",
    "fr1.close()"
   ]
  },
  {
   "cell_type": "code",
   "execution_count": 46,
   "metadata": {},
   "outputs": [],
   "source": [
    "fr4 = open(\"A lucky day.txt\", \"a\")\t\t# 파일 추가 모드로 열기\n",
    "fr4.write(\"\"\"\n",
    "문안에(거기도 문밖은 아니지만) 들어간답시는 앞집 마나님을\n",
    "전찻길까지 모셔다 드린 것을 비롯으로\n",
    "행여나 손님이 있을까 하고 정류장에서 어정어정하며 내리는 사람 하나하나에게\n",
    "거의 비는 듯한 눈결을 보내고 있다가\n",
    "마침내 교원인 듯한 양복장이를 동광학교(東光學校)까지 태워다 주기로 되었다.\"\"\")\n",
    "fr4.close()"
   ]
  },
  {
   "cell_type": "code",
   "execution_count": 47,
   "metadata": {},
   "outputs": [
    {
     "name": "stdout",
     "output_type": "stream",
     "text": [
      "새침하게 흐린 품이 눈이 올 듯하더니 눈은 아니 오고 얼다가 만 비가 추적추적 내리었다.\n",
      "이날이야말로 동소문 안에서 인력거꾼 노릇을 하는 김 첨지에게는\n",
      "오래간만에도 닥친 운수 좋은 날이었다.\n",
      "문안에(거기도 문밖은 아니지만) 들어간답시는 앞집 마나님을\n",
      "전찻길까지 모셔다 드린 것을 비롯으로\n",
      "행여나 손님이 있을까 하고 정류장에서 어정어정하며 내리는 사람 하나하나에게\n",
      "거의 비는 듯한 눈결을 보내고 있다가\n",
      "마침내 교원인 듯한 양복장이를 동광학교(東光學校)까지 태워다 주기로 되었다.\n"
     ]
    }
   ],
   "source": [
    "fr4 = open(\"A lucky day.txt\", \"r\")\t\t# 파일 읽기 모드로 열기\n",
    "print(fr4.read())\t\t\t\t\t\t# 파일 내용 전체 출력\n",
    "fr4.close()"
   ]
  },
  {
   "cell_type": "markdown",
   "metadata": {},
   "source": [
    "### 내장 함수"
   ]
  },
  {
   "cell_type": "code",
   "execution_count": 48,
   "metadata": {},
   "outputs": [
    {
     "data": {
      "text/plain": [
       "5"
      ]
     },
     "execution_count": 48,
     "metadata": {},
     "output_type": "execute_result"
    }
   ],
   "source": [
    "abs(-5)"
   ]
  },
  {
   "cell_type": "code",
   "execution_count": 49,
   "metadata": {},
   "outputs": [
    {
     "data": {
      "text/plain": [
       "True"
      ]
     },
     "execution_count": 49,
     "metadata": {},
     "output_type": "execute_result"
    }
   ],
   "source": [
    "abs(2) == abs(-2)\t# abs(2)와 abs(-2)는 같은 절대값을 가짐"
   ]
  },
  {
   "cell_type": "code",
   "execution_count": 50,
   "metadata": {},
   "outputs": [
    {
     "name": "stdout",
     "output_type": "stream",
     "text": [
      "a b c d e f g h i j k l m n o p q r s t u v w x y z "
     ]
    }
   ],
   "source": [
    "for i in range(97, 123): print(chr(i), end=\" \")  # for 문을 활용해 유니코드 97~122 문자 출력"
   ]
  },
  {
   "cell_type": "code",
   "execution_count": 51,
   "metadata": {},
   "outputs": [
    {
     "name": "stdout",
     "output_type": "stream",
     "text": [
      "97 98 99 100 "
     ]
    }
   ],
   "source": [
    "for i in [\"a\", \"b\", \"c\", \"d\"]: print(ord(i), end=\" \")  # \"a\", \"b\", \"c\", \"d\"의 유니코드 출력"
   ]
  },
  {
   "cell_type": "code",
   "execution_count": 52,
   "metadata": {},
   "outputs": [
    {
     "name": "stdout",
     "output_type": "stream",
     "text": [
      "0 사과\n",
      "1 참외\n",
      "2 수박\n"
     ]
    }
   ],
   "source": [
    "for i, item in enumerate([\"사과\", \"참외\", \"수박\"]):  print(i, item)\n",
    "# 리스트 문자열을 입력받아 인덱스는 변수 i에, 문자열은 변수 item에 대입"
   ]
  },
  {
   "cell_type": "code",
   "execution_count": 53,
   "metadata": {},
   "outputs": [
    {
     "data": {
      "text/plain": [
       "8"
      ]
     },
     "execution_count": 53,
     "metadata": {},
     "output_type": "execute_result"
    }
   ],
   "source": [
    "int(\"8\")\t# 문자열 8을 숫자 8로 반환"
   ]
  },
  {
   "cell_type": "code",
   "execution_count": 54,
   "metadata": {},
   "outputs": [
    {
     "data": {
      "text/plain": [
       "2"
      ]
     },
     "execution_count": 54,
     "metadata": {},
     "output_type": "execute_result"
    }
   ],
   "source": [
    "int(2.3)\t# 숫자 2.3을 2로 반환"
   ]
  },
  {
   "cell_type": "code",
   "execution_count": 55,
   "metadata": {},
   "outputs": [
    {
     "data": {
      "text/plain": [
       "4"
      ]
     },
     "execution_count": 55,
     "metadata": {},
     "output_type": "execute_result"
    }
   ],
   "source": [
    "len(\"대한민국\")\t# 문자열의 길이를 반환"
   ]
  },
  {
   "cell_type": "code",
   "execution_count": 56,
   "metadata": {},
   "outputs": [
    {
     "data": {
      "text/plain": [
       "7"
      ]
     },
     "execution_count": 56,
     "metadata": {},
     "output_type": "execute_result"
    }
   ],
   "source": [
    "len([1,2,3,4,5,6,7])\t# 리스트의 요소 수를 반환"
   ]
  },
  {
   "cell_type": "code",
   "execution_count": 57,
   "metadata": {},
   "outputs": [
    {
     "data": {
      "text/plain": [
       "(10, 1)"
      ]
     },
     "execution_count": 57,
     "metadata": {},
     "output_type": "execute_result"
    }
   ],
   "source": [
    "test = [1, 2, 3, 4, 5, 6, 7, 8, 9, 10]\n",
    "max(test), min(test)\t# 변수 test의 최대값과 최소값을 반환"
   ]
  },
  {
   "cell_type": "code",
   "execution_count": 58,
   "metadata": {},
   "outputs": [
    {
     "data": {
      "text/plain": [
       "9"
      ]
     },
     "execution_count": 58,
     "metadata": {},
     "output_type": "execute_result"
    }
   ],
   "source": [
    "pow(3, 2) \t\t# 3의 2제곱"
   ]
  },
  {
   "cell_type": "code",
   "execution_count": 59,
   "metadata": {},
   "outputs": [
    {
     "data": {
      "text/plain": [
       "1024"
      ]
     },
     "execution_count": 59,
     "metadata": {},
     "output_type": "execute_result"
    }
   ],
   "source": [
    "pow(2, 10) \t\t# 2의 10제곱"
   ]
  },
  {
   "cell_type": "code",
   "execution_count": 60,
   "metadata": {},
   "outputs": [
    {
     "data": {
      "text/plain": [
       "32.31"
      ]
     },
     "execution_count": 60,
     "metadata": {},
     "output_type": "execute_result"
    }
   ],
   "source": [
    "round(32.3132, 2)\t# 소수점 둘째 자리까지 반올림하여 반환"
   ]
  },
  {
   "cell_type": "code",
   "execution_count": 61,
   "metadata": {},
   "outputs": [
    {
     "data": {
      "text/plain": [
       "24.379"
      ]
     },
     "execution_count": 61,
     "metadata": {},
     "output_type": "execute_result"
    }
   ],
   "source": [
    "round(24.3788, 3)\t# 소수점 셋째 자리까지 반올림하여 반환"
   ]
  },
  {
   "cell_type": "code",
   "execution_count": 63,
   "metadata": {},
   "outputs": [
    {
     "data": {
      "text/plain": [
       "([1, 2, 3, 4, 5], [5, 4, 3, 2, 1])"
      ]
     },
     "execution_count": 63,
     "metadata": {},
     "output_type": "execute_result"
    }
   ],
   "source": [
    "sorted((3, 1, 4, 5, 2)), sorted((3, 1, 4, 5, 2), reverse = True)\t# 튜플을 오름차순과 내림차순으로 정렬"
   ]
  },
  {
   "cell_type": "code",
   "execution_count": 64,
   "metadata": {},
   "outputs": [
    {
     "data": {
      "text/plain": [
       "[1, 2, 3, 4, 5]"
      ]
     },
     "execution_count": 64,
     "metadata": {},
     "output_type": "execute_result"
    }
   ],
   "source": [
    "sorted([3, 1, 4, 5, 2])\t\t# 리스트를 오름차순으로 정렬"
   ]
  },
  {
   "cell_type": "code",
   "execution_count": 65,
   "metadata": {},
   "outputs": [
    {
     "data": {
      "text/plain": [
       "(['국', '대', '민', '한'], ['a', 'b', 'c'])"
      ]
     },
     "execution_count": 65,
     "metadata": {},
     "output_type": "execute_result"
    }
   ],
   "source": [
    "sorted(\"대한민국\"), sorted([\"b\", \"c\", \"a\"])\t\t#문자열은 글자를 분리하여 정렬, 리스트 문자열은 요소로 정렬"
   ]
  },
  {
   "cell_type": "markdown",
   "metadata": {},
   "source": [
    "### 클래스와 객체"
   ]
  },
  {
   "cell_type": "code",
   "execution_count": 66,
   "metadata": {},
   "outputs": [],
   "source": [
    "class message :\t\t\t\t\t\t\t# 클래스 선언\n",
    "    sayhello = \"안녕하세요. 반갑습니다.\"\t\t# 클래스 멤버변수\n",
    "    goodbye = \"감사합니다. 안녕히 가십시오.\"\t\t# 클래스 멤버변수\n",
    "    def __init__(self, name):\t\t\t# 객체가 생성될 때 자동으로 호출, 초기화\n",
    "        self.name = name \n",
    "    def hello(self):\t\t\t\t# hello() 메소드 선언\n",
    "        print(self.name, \"님,\", self.sayhello)\t\t# 전달받은 변수와 intro 메시지 출력\n",
    "    def bye(self) :\t\t\t\t\t# bye() 메소드 선언\n",
    "        print(self.name, \"님,\", self.goodbye)\t# 전달받은 변수와 bye 메시지 출력"
   ]
  },
  {
   "cell_type": "code",
   "execution_count": 67,
   "metadata": {},
   "outputs": [
    {
     "name": "stdout",
     "output_type": "stream",
     "text": [
      "김온달 님, 안녕하세요. 반갑습니다.\n",
      "김온달 님, 감사합니다. 안녕히 가십시오.\n"
     ]
    }
   ],
   "source": [
    "kim = message(\"김온달\")\t\t# kim 객체 생성, name변수에 \"김온달\" 저장\n",
    "lee = message(\"이평강\")\t\t# lee 객체 생성, name 변수에 \"이평강\" 저장\n",
    "\n",
    "kim.hello()\t\t\t\t\t# kim 객체에서 message 클래스의 hello(), bye() 메소드 호출\n",
    "kim.bye()"
   ]
  },
  {
   "cell_type": "code",
   "execution_count": 68,
   "metadata": {},
   "outputs": [
    {
     "name": "stdout",
     "output_type": "stream",
     "text": [
      "이평강 님, 안녕하세요. 반갑습니다.\n",
      "이평강 님, 감사합니다. 안녕히 가십시오.\n"
     ]
    }
   ],
   "source": [
    "lee.hello()\t\t\t# lee 객체에서 message 클래스의 hello(), bye() 메소드 호출\n",
    "lee.bye()"
   ]
  }
 ],
 "metadata": {
  "interpreter": {
   "hash": "ac59ebe37160ed0dfa835113d9b8498d9f09ceb179beaac4002f036b9467c963"
  },
  "kernelspec": {
   "display_name": "Python 3 (ipykernel)",
   "language": "python",
   "name": "python3"
  },
  "language_info": {
   "codemirror_mode": {
    "name": "ipython",
    "version": 3
   },
   "file_extension": ".py",
   "mimetype": "text/x-python",
   "name": "python",
   "nbconvert_exporter": "python",
   "pygments_lexer": "ipython3",
   "version": "3.9.12"
  }
 },
 "nbformat": 4,
 "nbformat_minor": 4
}
