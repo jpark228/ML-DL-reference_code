{
 "cells": [
  {
   "cell_type": "markdown",
   "id": "2f369a2d",
   "metadata": {},
   "source": [
    "# Chapter 07 문서 업무 자동화"
   ]
  },
  {
   "cell_type": "markdown",
   "id": "4bc322b9",
   "metadata": {},
   "source": [
    "## 7.1 엑셀 업무 자동화"
   ]
  },
  {
   "cell_type": "markdown",
   "id": "45c11ab0",
   "metadata": {},
   "source": [
    "### openpyxl 개요"
   ]
  },
  {
   "cell_type": "code",
   "execution_count": 1,
   "id": "857e9cf6",
   "metadata": {},
   "outputs": [
    {
     "name": "stdout",
     "output_type": "stream",
     "text": [
      "Defaulting to user installation because normal site-packages is not writeable\n",
      "Requirement already satisfied: openpyxl in c:\\programdata\\anaconda3\\lib\\site-packages (3.0.9)\n",
      "Requirement already satisfied: et-xmlfile in c:\\programdata\\anaconda3\\lib\\site-packages (from openpyxl) (1.1.0)\n"
     ]
    }
   ],
   "source": [
    "!pip install openpyxl"
   ]
  },
  {
   "cell_type": "markdown",
   "id": "71106ed5",
   "metadata": {},
   "source": [
    "### 엑셀 파일과 시트 다루기"
   ]
  },
  {
   "cell_type": "code",
   "execution_count": 2,
   "id": "51d5883b",
   "metadata": {},
   "outputs": [],
   "source": [
    "# 엑셀 파일 생성 및 저장하기\n",
    "from openpyxl import Workbook\t\t# Workbook 모듈(클래스) 불러오기\n",
    "wb = Workbook()\t\t\t\t\t\t# wb 객체 생성\n",
    "ws = wb.active\t\t\t\t\t\t# ws 객체 생성\n",
    "ws.title = \"시트1\"\t\t\t\t\t# ws 시트의 시트명 변경\n",
    "ws.append([\"이름\", \"나이\", \"성별\"])\t\t# ws 시트의 첫 번째 행부터 차례로 내용 추가\n",
    "ws.append([\"이순신\", \"55\", \"남자\"])\t\t# 두 번째 행에 추가\n",
    "wb.save(filename = \"테스트.xlsx\")\t\t# workbook 저장"
   ]
  },
  {
   "cell_type": "code",
   "execution_count": 3,
   "id": "268bc6fd",
   "metadata": {},
   "outputs": [],
   "source": [
    "# 엑셀 파일을 불러와 내용 수정 후 저장하기\n",
    "from openpyxl import load_workbook\t\t\t# Workbook 모듈과 load_workbook 불러오기\n",
    "wb = load_workbook(filename = \"테스트.xlsx\")  \t# \"테스트.xlsx\" 파일을 불러오기\n",
    "ws = wb.active\t\t\t\t\t\t\t\t# ws 활성화\n",
    "ws.append([\"홍길동\", \"40\", \"남자\"])\t\t\t# 행 추가\n",
    "wb.save(filename = \"테스트.xlsx\")\t\t\t# wb를 \"테스트.xlsx\" 파일로 저장"
   ]
  },
  {
   "cell_type": "code",
   "execution_count": 4,
   "id": "2a271629",
   "metadata": {},
   "outputs": [
    {
     "data": {
      "text/plain": [
       "<Worksheet \"시트3\">"
      ]
     },
     "execution_count": 4,
     "metadata": {},
     "output_type": "execute_result"
    }
   ],
   "source": [
    "from openpyxl import Workbook\t\t\t# Workbook 모듈(클래스) 불러오기\n",
    "wb = Workbook()\t\t\t\t\t\t\t# wb 객체 생성, wb에 시트 하나가 기본 추가됨\n",
    "wb.create_sheet(\"시트2\")\t\t\t\t\t# wb에 \"시트2\" 시트 추가\n",
    "wb.create_sheet(\"시트3\")\t\t\t\t\t# wb에 \"시트3\" 시트 추가"
   ]
  },
  {
   "cell_type": "code",
   "execution_count": 5,
   "id": "72fea4c9",
   "metadata": {},
   "outputs": [
    {
     "name": "stdout",
     "output_type": "stream",
     "text": [
      "['Sheet', '시트2', '시트3']\n"
     ]
    }
   ],
   "source": [
    "print(wb.sheetnames) # wb 객체에 있는 시트 정보 출력"
   ]
  },
  {
   "cell_type": "code",
   "execution_count": 6,
   "id": "35e36afe",
   "metadata": {},
   "outputs": [],
   "source": [
    "ws = wb[\"시트2\"]\t\t\t\t# wb 객체에 있는 “시트2”를 선택"
   ]
  },
  {
   "cell_type": "code",
   "execution_count": 7,
   "id": "b765288c",
   "metadata": {},
   "outputs": [],
   "source": [
    "ws.append([\"첫 번째로 추가된 시트입니다.\"])\t\t\t\t# 선택된 시트에 내용 추가\n",
    "wb[\"시트3\"].append([\"세 번째 시트에 내용을 추가합니다.\"])\t# 시트를 직접 지정해서 내용 추가"
   ]
  },
  {
   "cell_type": "code",
   "execution_count": 8,
   "id": "d8cff363",
   "metadata": {},
   "outputs": [],
   "source": [
    "wb.save(filename = \"샘플_시트 추가.xlsx\")"
   ]
  },
  {
   "cell_type": "code",
   "execution_count": 9,
   "id": "6e9700cd",
   "metadata": {},
   "outputs": [],
   "source": [
    "# 시트 복사하기\n",
    "from openpyxl import load_workbook\t\t# Workbook 모듈과 load_workbook 불러오기\n",
    "wb = load_workbook(\"테스트.xlsx\")\t\t\t# \"테스트.xlsx\" 파일을 불러와 wb 객체에 저장\n",
    "wb.copy_worksheet(wb[\"시트1\"])\t\t\t# \"시트1\"을 복사하여 wb 객체에 저장\n",
    "wb.active = wb[\"시트1 Copy\"]\t\t\t\t# 파일을 열 때 “시트1 Copy”를 활성화 \n",
    "wb.save(filename = \"샘플_시트 복사.xlsx\")\t\t# 파일 저장"
   ]
  },
  {
   "cell_type": "code",
   "execution_count": 10,
   "id": "06bcb888",
   "metadata": {},
   "outputs": [
    {
     "name": "stdout",
     "output_type": "stream",
     "text": [
      "['시트1', '시트1 Copy']\n",
      "['시트1', '시트1 복사']\n"
     ]
    }
   ],
   "source": [
    "# 시트 이름 바꾸기\n",
    "from openpyxl import load_workbook\t\t# Workbook 모듈과 load_workbook 불러오기\n",
    "wb = load_workbook(\"샘플_시트 복사.xlsx\")\t# \"샘플_시트 복사.xlsx\" 파일 불러오기\n",
    "print(wb.sheetnames)\t\t\t\t\t# 시트명 출력\n",
    "\n",
    "wb[\"시트1 Copy\"].title = \"시트1 복사\"\t\t# \"시트1 Copy\" 시트명을 \"시트1 복사\"로 변경\n",
    "wb.save(filename = \"샘플_시트 복사.xlsx\")\t\t# 파일 저장\n",
    "print(wb.sheetnames)\t\t\t\t\t# 시트명 출력"
   ]
  },
  {
   "cell_type": "code",
   "execution_count": 11,
   "id": "a8e19510",
   "metadata": {},
   "outputs": [
    {
     "name": "stdout",
     "output_type": "stream",
     "text": [
      "['시트1', '시트1 복사']\n",
      "['시트1 복사', '시트1']\n"
     ]
    }
   ],
   "source": [
    "# 시트 순서 변경하기\n",
    "from openpyxl import load_workbook\t\t# Workbook 모듈과 load_workbook 불러오기\n",
    "wb = load_workbook(\"샘플_시트 복사.xlsx\")\t# \"샘플_시트 복사.xlsx\" 파일 불러오기\n",
    "print(wb.sheetnames)\t\t\t\t\t# 시트명 출력\n",
    "\n",
    "wb.move_sheet(wb[\"시트1 복사\"], -1)\t\t# “시트1 복사” 시트를 왼쪽으로 이동 \n",
    "wb.save(filename = \"샘플_시트 순서 변경.xlsx\")\t# 파일 저장\n",
    "print(wb.sheetnames)\t\t\t\t\t# 시트명 출력"
   ]
  },
  {
   "cell_type": "code",
   "execution_count": 12,
   "id": "8276e750",
   "metadata": {},
   "outputs": [
    {
     "name": "stdout",
     "output_type": "stream",
     "text": [
      "['시트1 복사', '시트1']\n",
      "['시트1']\n"
     ]
    }
   ],
   "source": [
    "# 시트 삭제하기\n",
    "from openpyxl import load_workbook\t\t\t# Workbook 모듈과 load_workbook 불러오기\n",
    "wb = load_workbook(\"샘플_시트 순서 변경.xlsx\") \t# \"샘플_시트 순서 변경.xlsx\" 파일 불러오기\n",
    "print(wb.sheetnames)\t\t\t\t\t\t# 시트명 출력\n",
    "\n",
    "wb.remove(wb[\"시트1 복사\"])\t\t\t\t\t# \"시트1 복사\" 시트 삭제하기\n",
    "wb.save(filename = \"샘플_시트 삭제.xlsx\")\t\t# 파일 저장\n",
    "print(wb.sheetnames)"
   ]
  },
  {
   "cell_type": "markdown",
   "id": "509c9f15",
   "metadata": {},
   "source": [
    "### 셀 내용 다루기"
   ]
  },
  {
   "cell_type": "code",
   "execution_count": 1,
   "id": "33a43a3d",
   "metadata": {},
   "outputs": [
    {
     "name": "stdout",
     "output_type": "stream",
     "text": [
      "이름\n",
      "이름\n"
     ]
    }
   ],
   "source": [
    "# 셀의 내용 확인하기\n",
    "from openpyxl import load_workbook\t\t# Workbook 모듈과 load_workbook 불러오기\n",
    "wb = load_workbook(\"테스트.xlsx\")\t\t# \"테스트.xlsx\" 파일을 불러와 wb 객체에 저장\n",
    "ws = wb[\"시트1\"]\t\t\t\t\t\t# 시트 선택\n",
    "print(ws[\"A1\"].value)\t\t\t\t# [A1] 셀의 값을 출력\n",
    "print(ws[1][0].value) \t\t\t\t# 1행 0열의 값 출력"
   ]
  },
  {
   "cell_type": "code",
   "execution_count": 2,
   "id": "bb7c9db7",
   "metadata": {},
   "outputs": [
    {
     "name": "stdout",
     "output_type": "stream",
     "text": [
      "(<Cell '시트1'.A1>, <Cell '시트1'.B1>, <Cell '시트1'.C1>)\n",
      "(<Cell '시트1'.A2>, <Cell '시트1'.B2>, <Cell '시트1'.C2>)\n",
      "(<Cell '시트1'.A3>, <Cell '시트1'.B3>, <Cell '시트1'.C3>)\n"
     ]
    }
   ],
   "source": [
    "# 반복문을 통해 셀 정보에 접근하기\n",
    "from openpyxl import load_workbook\t\t# Workbook 모듈과 load_workbook 불러오기\n",
    "wb = load_workbook(\"테스트.xlsx\")\t\t\t# \"테스트.xlsx\" 파일을 불러와 wb 객체에 저장\n",
    "ws = wb[\"시트1\"]\t\t\t\t\t\t\t# 시트 선택\n",
    "\n",
    "for row in ws: \t\t # 반복문을 활용하여 ws 객체에 데이터가 있는 행을 차례로 불러옴 \n",
    "    print(row)\t\t # 행의 속성을 출력"
   ]
  },
  {
   "cell_type": "code",
   "execution_count": 3,
   "id": "d7968ea0",
   "metadata": {},
   "outputs": [
    {
     "name": "stdout",
     "output_type": "stream",
     "text": [
      "셀 객체명 : <Cell '시트1'.A1>, 셀 값 : 이름\n",
      "셀 객체명 : <Cell '시트1'.B1>, 셀 값 : 나이\n",
      "셀 객체명 : <Cell '시트1'.C1>, 셀 값 : 성별\n",
      "셀 객체명 : <Cell '시트1'.A2>, 셀 값 : 이순신\n",
      "셀 객체명 : <Cell '시트1'.B2>, 셀 값 : 55\n",
      "셀 객체명 : <Cell '시트1'.C2>, 셀 값 : 남자\n",
      "셀 객체명 : <Cell '시트1'.A3>, 셀 값 : 홍길동\n",
      "셀 객체명 : <Cell '시트1'.B3>, 셀 값 : 40\n",
      "셀 객체명 : <Cell '시트1'.C3>, 셀 값 : 남자\n"
     ]
    }
   ],
   "source": [
    "for row in ws: \t\t\t# 반복문을 활용하여 ws 객체에 데이터가 있는 행을 차례로 읽어 옴 \n",
    "    for cell in row:\t # 반복문을 활용하여 변수 row에 있는 속성과 값을 읽어 cell에 저장\n",
    "        print(\"셀 객체명 : {}, 셀 값 : {}\".format(cell, cell.value))  # cell의 속성과 값을 출력"
   ]
  },
  {
   "cell_type": "code",
   "execution_count": 4,
   "id": "c81a1382",
   "metadata": {},
   "outputs": [],
   "source": [
    "# 셀 내용 수정하기\n",
    "from openpyxl import load_workbook\t\t# Workbook모듈과 load_workbook 불러오기\n",
    "wb = load_workbook(\"테스트.xlsx\")\t\t\t# \"테스트.xlsx\" 파일을 불러와 wb 객체에 저장\n",
    "ws = wb[\"시트1\"]\t\t\t\t\t\t\t# 시트 선택\n",
    "\n",
    "ws[\"A1\"] = \"성명\"\t\t\t\t\t\t\t# A1 셀의 내용을 \"이름\"에서 \"성명\"으로 변경 \n",
    "wb.save(filename = \"테스트_셀 내용 변경.xlsx\") \t# 파일 저장"
   ]
  },
  {
   "cell_type": "code",
   "execution_count": 5,
   "id": "2d0c5a0b",
   "metadata": {},
   "outputs": [],
   "source": [
    "# 반복문을 통해 셀 정보에 순차적으로 접근, 값 변경하기\n",
    "from openpyxl import load_workbook\t\t\t# Workbook 모듈과 load_workbook 불러오기\n",
    "wb = load_workbook(\"테스트.xlsx\")\t\t\t# \"테스트.xlsx\" 파일을 불러와 wb 객체에 저장\n",
    "ws = wb[\"시트1\"]\t\t\t\t\t\t\t# 시트 선택\n",
    "new_data = [\"신사임당\", \"45\", \"여자\"] \t\t# 변경할 데이터를 리스트로 생성\n",
    "\n",
    "row_no = 1\t\t\t\t\t\t# 행 번호를 저장할 변수 설정\n",
    "for row in ws:\t\t\t\t\t# ws의 행을 하나씩 읽어 옴\n",
    "    if row_no == 2: \t\t\t\t# row_no가 2일 때(2행) 아래 코드 실행\n",
    "        for cell in row:\t\t\t# 행의 각 셀에 접근\n",
    "            cell.value = new_data[cell.col_idx-1]\t# 셀 값 변경\n",
    "    row_no += 1\t\t\t\t\t\t# row_no 증가\n",
    "wb.save(filename = \"테스트_셀 내용 변경(반복문).xlsx\")\t\t# 파일 저장 "
   ]
  },
  {
   "cell_type": "code",
   "execution_count": 6,
   "id": "11fbf921",
   "metadata": {},
   "outputs": [],
   "source": [
    "# 셀에 내용 입력하기\n",
    "from openpyxl import load_workbook\t\t# Workbook 모듈과 load_workbook 불러오기\n",
    "wb = load_workbook(\"테스트.xlsx\")\t\t# \"테스트.xlsx\" 파일을 불러와 wb 객체에 저장\n",
    "ws = wb[\"시트1\"]\t\t\t\t\t\t# 시트 선택\n",
    "\n",
    "ws[\"A4\"] = \"신사임당\" \t\t\t\t\t# 셀에 직접 데이터 입력\n",
    "ws[\"B4\"] = \"45\"\t\n",
    "ws[\"C4\"] = \"여자\"\n",
    "\n",
    "ws.append([\"을지문덕\", \"60\", \"남자\"])\t\t# 다음 행에 데이터 입력\n",
    "\n",
    "new_data_list = [[\"유관순\", \"16\", \"여자\"], [\"세종대왕\", \"60\", \"남자\"]]\t\t# 리스트 생성\n",
    "\n",
    "for new_data in new_data_list:\t\t\t# 반복문을 활용해 데이터 입력\n",
    "    ws.append(new_data)\n",
    "\n",
    "wb.save(filename = \"테스트_셀 내용 입력.xlsx\")\t# 파일 저장"
   ]
  },
  {
   "cell_type": "code",
   "execution_count": 7,
   "id": "84f6966c",
   "metadata": {},
   "outputs": [],
   "source": [
    "# 행/열 삭제하기\n",
    "from openpyxl import load_workbook\t\t# Workbook 모듈과 load_workbook 불러오기\n",
    "wb = load_workbook(\"테스트.xlsx\")\t\t# \"테스트.xlsx\" 파일을 불러와 wb 객체에 저장\n",
    "ws = wb[\"시트1\"]\t\t\t\t\t\t# 시트 선택\n",
    "\n",
    "ws.delete_rows(idx = 2, amount = 1)\t\t# 3행부터 1행만 삭제 \n",
    "ws.delete_cols(idx = 2, amount = 2)\t\t# 두 번째 열(B열)부터 2열 삭제 \n",
    "\n",
    "wb.save(filename = \"테스트_행과 열 삭제.xlsx\")\t\t# 파일 저장"
   ]
  },
  {
   "cell_type": "code",
   "execution_count": 8,
   "id": "8c815d41",
   "metadata": {},
   "outputs": [],
   "source": [
    "# 셀 복사하기\n",
    "from openpyxl import load_workbook\t\t# Workbook 모듈과 load_workbook 불러오기\n",
    "wb = load_workbook(\"테스트.xlsx\")\t\t\t# \"테스트.xlsx\" 파일을 불러와 wb 객체에 저장\n",
    "ws = wb[\"시트1\"]\t\t\t\t\t\t\t# 시트 선택\n",
    "\n",
    "src = ws[\"A2\"].value\t\t\t\t# A2 셀 값을 변수 src에 저장\n",
    "ws[\"A5\"] = src\t\t\t\t\t\t# A5 셀에 A2 셀 값을 복사\n",
    "\n",
    "for row in ws[\"A6:C6\"]:\t\t\t\t# [A6:C6] 범위를 선택해 반복문 실행\n",
    "    for cell in row:\t\t\t\t# 행의 각 셀에 접근\n",
    "        cell.value = src\t\t\t# 행의 각 셀을 src 변수 값으로 변경\n",
    "\n",
    "wb.save(filename = \"테스트_셀 복사1.xlsx\")\t# 파일 저장"
   ]
  },
  {
   "cell_type": "code",
   "execution_count": 9,
   "id": "62d2a419",
   "metadata": {},
   "outputs": [],
   "source": [
    "from openpyxl import load_workbook\t\t# Workbook 모듈과 load_workbook 불러오기\n",
    "wb = load_workbook(\"테스트.xlsx\")\t\t# \"테스트.xlsx\" 파일을 불러와 wb 객체에 저장\n",
    "ws = wb[\"시트1\"]\t\t\t\t\t\t# 시트 선택\n",
    "\n",
    "src_data = []\t\t\t\t\t\t# 복사할 값을 저장할 변수 선언\n",
    "for cell in ws[2]:\t\t\t\t\t# 원본이 될 2행에 접근\n",
    "    src_data.append(cell.value)\t\t# 2행의 셀 값들을 src_data 변수에 저장\n",
    "\n",
    "for row in ws[\"A5:C5\"]:\t\t\t\t# [A2:C3] 범위를 선택해 반복문 실행\n",
    "    for cell in row:\t\t\t\t# 행의 각 셀에 접근\n",
    "        cell.value = src_data[cell.col_idx-1]\t# 셀의 값을 src 변수 값으로 변경    \n",
    "    \n",
    "wb.save(filename = \"테스트_셀 복사2.xlsx\")\t\t# 파일 저장"
   ]
  },
  {
   "cell_type": "code",
   "execution_count": 10,
   "id": "2f831889",
   "metadata": {},
   "outputs": [],
   "source": [
    "# 셀 내용 이동하기\n",
    "from openpyxl import load_workbook\t\t# Workbook 모듈과 load_workbook 불러오기\n",
    "wb = load_workbook(\"테스트.xlsx\")\t\t# \"테스트.xlsx\" 파일을 불러와 wb 객체에 저장\n",
    "ws = wb[\"시트1\"]\t\t\t\t\t\t# 시트 선택\n",
    "\n",
    "# [B1:C3] 영역에 있는 데이터를 아래로 한 칸, 오른쪽으로 2칸 이동\n",
    "ws.move_range(\"B1:C3\", rows = 1, cols = 2) \t\t# 음수값을 사용해 위나 왼쪽으로도 이동 가능\n",
    "wb.save(filename = \"테스트_셀 이동.xlsx\")\t\t\t# 파일 저장"
   ]
  },
  {
   "cell_type": "code",
   "execution_count": 11,
   "id": "dd5df096",
   "metadata": {},
   "outputs": [],
   "source": [
    "# 셀 병합 및 해제하기\n",
    "from openpyxl import load_workbook\t\t# Workbook 모듈과 load_workbook 불러오기\n",
    "wb = load_workbook(\"테스트.xlsx\")\t\t# \"테스트.xlsx\" 파일을 불러와 wb 객체에 저장\n",
    "ws = wb[\"시트1\"]\t\t\t\t\t\t# 시트 선택\n",
    "\n",
    "ws.merge_cells(\"A1:B1\")\t\t\t\t# A1, B1 셀 병합\n",
    "ws.merge_cells(\"A2:B2\")\t\t\t\t# A2, B2 셀 병합\n",
    "\n",
    "ws.unmerge_cells(\"A2:B2\")\t\t\t# A2, B2 셀 병합 해제\n",
    "wb.save(filename = \"테스트_셀 병합.xlsx\")\t\t# 파일 저장\n",
    "# [A1:B1] 셀은 병합되어 A1 셀 값만 보이게 되고, [A2:B2] 셀은 병합 후 다시 병합 해제하여 A2 셀 값만 보이게 됩니다. "
   ]
  },
  {
   "cell_type": "code",
   "execution_count": 12,
   "id": "8ddd1374",
   "metadata": {},
   "outputs": [],
   "source": [
    "# 텍스트 형식을 숫자 형식으로 바꾸고 엑셀 함수로 연산하기\n",
    "from openpyxl import load_workbook\t\t# Workbook 모듈과 load_workbook 불러오기\n",
    "wb = load_workbook(\"테스트.xlsx\")\t\t# \"테스트.xlsx\" 파일을 불러와 wb 객체에 저장\n",
    "ws = wb[\"시트1\"]\t\t\t\t\t\t# 시트 선택\n",
    "\n",
    "ws[\"B2\"].data_type = \"i\" \t\t\t# B2 셀을 정수형으로 변환\n",
    "ws[\"B3\"].data_type = \"i\" \t\t\t# B3 셀을 정수형으로 변환 \n",
    "ws[\"A4\"] = \"나이 합계\"\t\t\t\t\t# A4 셀에 데이터 입력\n",
    "ws[\"B4\"] = \"=sum(B2:B3)\"\t\t\t# B4 셀에 sum 함수 입력\n",
    "wb.save(filename = \"테스트_셀 연산.xlsx\")"
   ]
  },
  {
   "cell_type": "markdown",
   "id": "f3c77f9c",
   "metadata": {},
   "source": [
    "### 셀 서식 다루기"
   ]
  },
  {
   "cell_type": "code",
   "execution_count": 13,
   "id": "aade3dff",
   "metadata": {},
   "outputs": [],
   "source": [
    "# 셀 배경과 폰트 서식 변경하기\n",
    "from openpyxl import load_workbook\t\t# Workbook 모듈과 load_workbook 불러오기\n",
    "from openpyxl.styles import Font, PatternFill\t# 폰트와 배경 설정 클래스 불러오기\n",
    "\n",
    "wb = load_workbook(\"테스트.xlsx\")\t\t# \"테스트.xlsx\" 파일을 불러와 wb 객체에 저장\n",
    "ws = wb[\"시트1\"]\t\t\t\t\t\t# 시트 선택\n",
    "\n",
    "# 항목 부분 [A1:C1]의 배경을 검정색, 폰트 크기 12, 볼드체, 글자색 흰색으로 변경\n",
    "# 색 정보는 aRGB HEX 코드로 지정하면 됨\n",
    "fill_style = PatternFill(fill_type = \"solid\", start_color = \"000000\") \t# 셀 배경 설정\n",
    "font_style = Font(color = \"FFFFFF\", sz = 12, bold = True) \t\t\t\t#폰트 설정\n",
    "\n",
    "for row in ws:\t\t\t\t\t\t# ws의 행을 하나씩 읽어 옴\n",
    "    for cell in row:\t\t\t\t# 행의 각 셀에 접근\n",
    "        if cell.row == 1:\t\t\t# 셀 행이 1일 때 True가 되어 속성 변경 가능\n",
    "            cell.fill = fill_style\t\t# 셀의 배경 속성을 fill_style로 설정  \n",
    "            cell.font = font_style\t\t# 셀의 폰트 속성을 font_style로 설정\n",
    "wb.save(filename = \"테스트_배경 서식 변경.xlsx\")"
   ]
  },
  {
   "cell_type": "code",
   "execution_count": 14,
   "id": "bf2d7f81",
   "metadata": {},
   "outputs": [],
   "source": [
    "# 셀 높이와 너비 조정하기\n",
    "from openpyxl import load_workbook\t\t\t# 모듈 불러오기\n",
    "wb = load_workbook(\"테스트_배경 서식 변경.xlsx\")\t# 파일 불러와 wb 객체에 저장\n",
    "ws = wb[\"시트1\"]\t\t\t\t\t\t\t\t# 시트 선택\n",
    "\n",
    "# 1~5행의 높이를 24, A열의 너비를 14로 변경\n",
    "for i in range(1, 6):\n",
    "    ws.row_dimensions[i].height = 24 \t# row_dimensions[숫자] → i행 전체를 선택\n",
    "ws.column_dimensions[\"A\"].width = 14 \t# column_dimensions[\"A\"] → A열 전체를 선택\n",
    "wb.save(filename = \"테스트_너비와 높이 조정.xlsx\")"
   ]
  },
  {
   "cell_type": "code",
   "execution_count": 15,
   "id": "4d4e4295",
   "metadata": {},
   "outputs": [],
   "source": [
    "# 텍스트 정렬하기\n",
    "from openpyxl import load_workbook\t\t\t# 모듈 불러오기\n",
    "from openpyxl.styles import Alignment\t\t# 텍스트 정렬 모듈 불러오기\n",
    "\n",
    "wb = load_workbook(\"테스트_너비와 높이 조정.xlsx\")\t# 파일 불러와서 wb 객체에 저장\n",
    "ws = wb[\"시트1\"]\t\t\t\t\t\t\t\t\t# 시트 선택\n",
    "\n",
    "# 가로와 세로 정렬값을 중앙으로 변경하는 객체 생성\n",
    "alignment_style = Alignment(horizontal = \"center\", vertical = \"center\")\n",
    "\n",
    "for row in ws:\t\t\t\t\t\t\t\t\t# ws의 행을 하나씩 읽어 옴\n",
    "    for cell in row:\t\t\t\t\t\t\t# 행의 각 셀에 접근\n",
    "        cell.alignment = alignment_style\t\t# 셀의 정렬 속성을 설정\n",
    "\n",
    "wb.save(filename = \"테스트_텍스트 정렬.xlsx\")\t\t# 파일 저장"
   ]
  },
  {
   "cell_type": "code",
   "execution_count": 16,
   "id": "43e74f84",
   "metadata": {},
   "outputs": [],
   "source": [
    "# 셀 테두리 서식 변경하기\n",
    "from openpyxl import load_workbook\t\t\t\t# 모듈 불러오기\n",
    "from openpyxl.styles import Side, Border\t\t# 테두리 설정 모듈 불러오기\n",
    "wb = load_workbook(\"테스트_텍스트 정렬.xlsx\")\t\t# 파일 불러와서 wb 객체에 저장\n",
    "ws = wb[\"시트1\"]\t\t\t\t\t\t\t\t\t# 시트 선택\n",
    "side_style = Side(style = \"medium\", color = \"000000\")\t# 테두리를 중간 굵기, 검정색으로 설정\n",
    "\n",
    "# 위 서식(side_style)을 적용할 테두리 영역을 설정 후 border_styles 객체로 저장\n",
    "border_styles = Border(\n",
    "    left = side_style,\n",
    "    right = side_style,\n",
    "    top = side_style,\n",
    "    bottom = side_style\n",
    ")\n",
    "\n",
    "for row in ws:\t\t\t\t\t\t\t\t# ws의 행을 하나씩 읽어 옴\n",
    "    for cell in row:\t\t\t\t\t\t# 행의 각 셀에 접근\n",
    "        cell.border = border_styles\t\t\t# 셀의 테두리 속성을 설정\n",
    "wb.save(filename = \"테스트_셀 테두리 변경.xlsx\")\t# 파일 저장"
   ]
  },
  {
   "cell_type": "markdown",
   "id": "b21f1e80",
   "metadata": {},
   "source": [
    "### [실습] 유통매장의 고객만족도 분석하기"
   ]
  },
  {
   "cell_type": "code",
   "execution_count": 17,
   "id": "cc607466",
   "metadata": {},
   "outputs": [],
   "source": [
    "# 01. 엑셀 파일 불러오기\n",
    "from openpyxl import load_workbook\t\t\t#  Workbook 모듈과 load_workbook 불러오기\n",
    "wb = load_workbook(\"고객 만족 데이터.xlsx\") \t# 파일을 불러와 wb 객체로 저장\n",
    "ws = wb[\"Sheet1\"] \t\t\t\t\t\t\t# 시트 선택"
   ]
  },
  {
   "cell_type": "code",
   "execution_count": 18,
   "id": "288316e3",
   "metadata": {},
   "outputs": [],
   "source": [
    "# 02. 데이터 변환하기  - 반복문을 활용해 [A2:F14] 범위의 설문 응답 데이터만 숫자 형식으로 변경\n",
    "for row in ws:\t\t\t\t\t\t\t# ws의 행을 하나씩 읽어 옴\n",
    "    for cell in row:\t\t\t\t\t# 행의 각 셀에 접근\n",
    "        if cell.col_idx > 0 and cell.col_idx < 7 and cell.row > 1:\t\t# [A2:F13] 선택\n",
    "            cell.data_type = \"i\"\t\t# 셀 유형을 정수형으로 변환"
   ]
  },
  {
   "cell_type": "code",
   "execution_count": 19,
   "id": "3ef6841b",
   "metadata": {},
   "outputs": [],
   "source": [
    "# 03. 데이터 요약하기\n",
    "this_max_row = ws.max_row\t\t\t\t\t\t# 마지막 행 번호 구하기\n",
    "ws[\"A{}\".format(this_max_row+1)] = \"평균/합계\"\t\t# 마지막 다음 행에 값 입력\n",
    "\n",
    "for col_let in [\"B\", \"C\", \"D\"]:\t\t\t\t\t# B, C, D열 반복\n",
    "    average_formula = \"=AVERAGE({}2:{}{})\".format(col_let, col_let, this_max_row)\n",
    "    ws[\"{}{}\".format(col_let, this_max_row+1)] = average_formula\n",
    "    ws[\"{}{}\".format(col_let, this_max_row+1)].number_format = \"#.##\"\n",
    "\n",
    "for col_let in [\"E\", \"F\"]:\t\t\t\t\t\t# E, F열의 합계 구하기\n",
    "    sum_formula = \"=SUM({}2:{}{})\".format(col_let, col_let, this_max_row)\n",
    "    ws[\"{}{}\".format(col_let, this_max_row+1)] = sum_formula"
   ]
  },
  {
   "cell_type": "code",
   "execution_count": 20,
   "id": "6d3a7bf3",
   "metadata": {},
   "outputs": [],
   "source": [
    "# 04.요약표 작성하기\n",
    "wb.create_sheet(\"보고서 삽입용 요약표\") \t\t# 요약표가 들어갈 시트 생성\n",
    "ws = wb[\"보고서 삽입용 요약표\"] \t\t\t\t# 시트 선택\n",
    "\n",
    "# 요약표에 들어갈 내용을 리스트로 미리 지정 \n",
    "summary_table_form = [\n",
    "    [\"성별 분포\", \"남성\", \"여성\"],\n",
    "    [\"인원\", \"\", \"\"],\n",
    "    [\"비율\", \"\", \"\"],\n",
    "    [\"\", \"\", \"\"],\n",
    "    [\"연령 분포\", \"20대\", \"30대\", \"40대\", \"50대 이상\"],\n",
    "    [\"인원\", \"\", \"\"],\n",
    "    [\"비율\", \"\", \"\"],\n",
    "    [\"\", \"\", \"\"],\n",
    "    [\"조사 결과\"],\n",
    "    [\"제품 만족도\"],\n",
    "    [\"재구매 의사\"],\n",
    "    [\"추천 의향\"],\n",
    "    [\"방문 횟수\"],\n",
    "    [\"클레임 횟수\"]\n",
    "]\n",
    "\n",
    "# 리스트 데이터를를 하나씩 읽어와 append() 함수를 통해 내용 입력\n",
    "for form_row in summary_table_form:\n",
    "    ws.append(form_row)\n",
    "# 중간 결과를 저장해보면 아래와 같이 보고서 삽입용 요약표 시트가 생성된 것을 볼 수 있습니다."
   ]
  },
  {
   "cell_type": "code",
   "execution_count": 21,
   "id": "63b8f5ca",
   "metadata": {},
   "outputs": [],
   "source": [
    "# 남/녀 인원수와 비율\n",
    "for gender in [[\"B\", \"남\"], [\"C\", \"여\"]]:\n",
    "    ws[gender[0]+\"2\"] = \"=COUNTIF(Sheet1!H2:H{}, \\\"{}\\\")\".format(ws.max_row, gender[1])\n",
    "    ws[gender[0]+\"3\"] = \"={}2/SUM(B2:C2)\".format(gender[0])\n",
    "    ws[gender[0]+\"3\"].number_format = \"0.00%\"\n",
    "\n",
    "# 연령대별 인원수와 비율 \n",
    "for age in [[\"B\", \"20대\"], [\"C\", \"30대\"], [\"D\", \"40대\"], [\"E\", \"50대 이상\"]]:\n",
    "    ws[age[0]+\"6\"] = \"=COUNTIF(Sheet1!G2:G{}, \\\"{}\\\")\".format(ws.max_row, age[1])\n",
    "    ws[age[0]+\"7\"] = \"={}6/SUM(B6:E6)\".format(age[0])\n",
    "    ws[age[0]+\"7\"].number_format = \"0.00%\"\n",
    "\n",
    "# 항목별 평균, 합계 요약\n",
    "row_no = 10\n",
    "for alphabet in [\"B\", \"C\", \"D\", \"E\", \"F\"]:\n",
    "    ws[\"B\"+str(row_no)] = \"=Sheet1!{}{}\".format(alphabet, ws.max_row+1)\n",
    "    if row_no < 13:\n",
    "        ws[\"B\"+str(row_no)].number_format = \"#.##\"\n",
    "    row_no += 1\n",
    "# 위 코드를 실행하면 보고서 삽입용 요약표 양식에 요약된 값들이 아래 그림처럼 삽입됩니다."
   ]
  },
  {
   "cell_type": "code",
   "execution_count": 22,
   "id": "3c63d5dd",
   "metadata": {},
   "outputs": [],
   "source": [
    "# 05. 서식 설정하기\n",
    "ws.column_dimensions[\"A\"].width = 15\t\t\t# A열의 너비는 15로 설정\n",
    "for alphabet in [\"B\", \"C\", \"D\", \"E\"]:\n",
    "    ws.column_dimensions[alphabet].width = 10 \t# 나머지 열의 너비는 10으로 설정\n",
    "\n",
    "for i in range(len(summary_table_form)+1):\t\t# 모든 행의 높이를 25로 설정\n",
    "    ws.row_dimensions[i].height = 25"
   ]
  },
  {
   "cell_type": "code",
   "execution_count": 23,
   "id": "888b7096",
   "metadata": {},
   "outputs": [],
   "source": [
    "from openpyxl.styles import Alignment, Side, Border, Font, PatternFill, Color\n",
    "\n",
    "alignment_style = Alignment(horizontal= \"center\", vertical = \"center\") # 텍스트 정렬 서식 지정\n",
    "side = Side(color=\"CCCCCC\", border_style=\"medium\")\t# 테두리 서식 지정\n",
    "border_style = Border(\t\t\t\t\t\t\t\t# border_style 객체 생성\n",
    "    left = side,\n",
    "    right = side,\n",
    "    top = side,\n",
    "    bottom = side,\n",
    ")\n",
    "\n",
    "# 표가 있는 부분에만 폰트와 테두리 서식 적용\n",
    "style_apply_cells = [\"A1:C3\", \"A5:E7\", \"A9:B14\"] \n",
    "for cell_area in style_apply_cells:\t\t\t\t\t# 셀 영역을 차례로 읽어 옴\n",
    "    for row in ws[cell_area]:\t\t\t\t\t\t# 셀 영역의 각 행을 차례로 읽어 옴\n",
    "        for cell in row:\t\t\t\t\t\t\t# 행의 각 셀에 접근\n",
    "            cell.alignment = alignment_style\t\t# 텍스트 서식 설정\n",
    "            cell.border = border_style\t\t\t\t# 테두리 서식 설정"
   ]
  },
  {
   "cell_type": "code",
   "execution_count": 24,
   "id": "a68111e0",
   "metadata": {},
   "outputs": [],
   "source": [
    "header_font_style = Font(sz = 12, bold = True) \t# 표의 헤더 부분은 볼드로 처리\n",
    "header_background_style = PatternFill(fill_type = \"solid\", start_color = \"ffd663\") # 음영 처리\n",
    "style_apply_cells_for_header = [\"A1:C1\", \"A5:E5\", \"A9:B9\"] # 서식이 적용될 헤더 부분의 영역 설정\n",
    "\n",
    "for cell_area in style_apply_cells_for_header:\t\t# 셀 영역을 차례로 읽어 옴\n",
    "    for row in ws[cell_area]:\t\t\t\t\t\t# 셀 영역의 각 행을 차례로 읽어 옴\n",
    "        for cell in row:\t\t\t\t\t\t\t# 행의 각 셀에 접근\n",
    "            cell.font = header_font_style\t\t\t# 셀 폰트 서식 설정\n",
    "            cell.fill = header_background_style\t\t# 셀 배경 서식 설정\n",
    "\n",
    "ws.merge_cells(\"A9:B9\")\t\t\t\t\t\t\t\t# ’조사 결과’ 셀 병합"
   ]
  },
  {
   "cell_type": "code",
   "execution_count": 25,
   "id": "d9d6fbe7",
   "metadata": {},
   "outputs": [],
   "source": [
    "wb.active = ws\n",
    "wb.save(\"고객 만족 데이터_보고.xlsx\")"
   ]
  },
  {
   "cell_type": "markdown",
   "id": "b0f1e459",
   "metadata": {},
   "source": [
    "### [실습] 여러 개의 엑셀 파일을 하나로 합치기"
   ]
  },
  {
   "cell_type": "code",
   "execution_count": 26,
   "id": "78463c01",
   "metadata": {},
   "outputs": [],
   "source": [
    "# 01. 모듈 불러오기\n",
    "from copy import copy\t\t # 셀의 값과 서식을 복사하기 위해 copy 모듈 불러오기\n",
    "from openpyxl import Workbook\n",
    "from openpyxl import load_workbook"
   ]
  },
  {
   "cell_type": "code",
   "execution_count": 27,
   "id": "57792ee7",
   "metadata": {},
   "outputs": [],
   "source": [
    "# 02. 사용자 함수 정의하기\n",
    "def copy_ws(ws_src, wb_dst, new_sheet_name):  \n",
    "    wb_dst.create_sheet(new_sheet_name) \t# 통합 엑셀 파일에 워크시트 하나를 추가\n",
    "    new_sheet = wb_dst[new_sheet_name] \t\t# 통합 엑셀 파일에 추가한 워크시트를 선택\n",
    "    for row in ws_src: \t\t\t\t\t\t# ws의 행을 하나씩 읽어 옴\n",
    "        for cell in row: \t\t\t\t\t# 행의 각 셀에 접근\n",
    "            new_cell = new_sheet[cell.coordinate] # 접근한 셀의 좌표를 new_cell 변수에 저장\n",
    "            \n",
    "            # 현재 접근한 셀의 내용과 서식을 복사하여 통합 파일의 new_sheet 셀에 붙여넣기\n",
    "            new_cell.value = cell.value\t\t\t\t\t\t\t# 셀 값\n",
    "            new_cell.font = copy(cell.font)\t\t\t\t\t\t# 폰트\n",
    "            new_cell.border = copy(cell.border)\t\t\t\t\t# 테두리\n",
    "            new_cell.fill = copy(cell.fill)\t\t\t\t\t\t# 배경\n",
    "            new_cell.number_format = copy(cell.number_format)\t# 셀 값 포멧\n",
    "            new_cell.protection = copy(cell.protection)\t\t\t# 보호셀 \n",
    "            new_cell.alignment = copy(cell.alignment)\t\t\t# 정렬\n",
    "    \n",
    "    if ws_src.merged_cells: #원본 워크시트에 병합된 셀이 있다면 대상 워크시트에도 반영\n",
    "        new_sheet.merge_cells(str(ws_src.merged_cells))"
   ]
  },
  {
   "cell_type": "code",
   "execution_count": 28,
   "id": "422eb25d",
   "metadata": {},
   "outputs": [],
   "source": [
    "# 03. 통합 실행하기\n",
    "wb_dst = Workbook() # 엑셀 파일을 통합할 워크북(통합 파일) 생성\n",
    "src_file_list = [\"시트복사_원본1.xlsx\", \"시트복사_원본2.xlsx\"]   #원본 파일들을 리스트로 생성\n",
    "\n",
    "for src_file in src_file_list: \t\t\t\t# 반복문을 통해 원본 파일들에 접근\n",
    "    wb_src = load_workbook(src_file) \t\t# 원본 파일의 워크북을 객체로 로드\n",
    "    for ws_src in wb_src.worksheets: \t\t# 반복문을 통해 원본 파일의 워크시트에 접근\n",
    "        new_sheet_name = src_file.split(\".xlsx\")[0] + \"_\" + ws_src.title  # 통합 파일 시트명 생성\n",
    "        copy_ws(ws_src, wb_dst, new_sheet_name)\t\t# 통합 파일에 원본시트 복사\n",
    "\n",
    "wb_dst.remove(wb_dst[\"Sheet\"])\t\t# 통합 워크북 객체 생성 시 자동 생성되는 워크시트는 삭제\n",
    "wb_dst.save(\"통합.xlsx\")\t\t\t\t# 병합이 끝난 대상 워크북 객체를 엑셀 파일로 저장\n",
    "# \"통합.xlsx\" 파일을 열어보면 다음과 같이 두 개의 시트 결과를 확인할 수 있습니다. "
   ]
  },
  {
   "cell_type": "markdown",
   "id": "23d2efe8",
   "metadata": {},
   "source": [
    "## 7.2  파워포인트 업무 자동화"
   ]
  },
  {
   "cell_type": "markdown",
   "id": "c65313f5",
   "metadata": {},
   "source": [
    "### python-pptx 개요"
   ]
  },
  {
   "cell_type": "code",
   "execution_count": 29,
   "id": "8168c15a",
   "metadata": {},
   "outputs": [
    {
     "name": "stdout",
     "output_type": "stream",
     "text": [
      "Defaulting to user installation because normal site-packages is not writeable\n",
      "Collecting python-pptx\n",
      "  Downloading python-pptx-0.6.21.tar.gz (10.1 MB)\n",
      "Requirement already satisfied: lxml>=3.1.0 in c:\\programdata\\anaconda3\\lib\\site-packages (from python-pptx) (4.8.0)\n",
      "Requirement already satisfied: Pillow>=3.3.2 in c:\\programdata\\anaconda3\\lib\\site-packages (from python-pptx) (9.0.1)\n",
      "Requirement already satisfied: XlsxWriter>=0.5.7 in c:\\programdata\\anaconda3\\lib\\site-packages (from python-pptx) (3.0.3)\n",
      "Building wheels for collected packages: python-pptx\n",
      "  Building wheel for python-pptx (setup.py): started\n",
      "  Building wheel for python-pptx (setup.py): finished with status 'done'\n",
      "  Created wheel for python-pptx: filename=python_pptx-0.6.21-py3-none-any.whl size=470951 sha256=5811dba7e8b201d0771935c2299f54c7a37b0727fd58797a46d791ffcdaeca11\n",
      "  Stored in directory: c:\\users\\redbutterfly\\appdata\\local\\pip\\cache\\wheels\\0e\\4a\\ed\\9653bc799915f52dce3f04d14946fbd85cce9c3cdedc9cfa71\n",
      "Successfully built python-pptx\n",
      "Installing collected packages: python-pptx\n",
      "Successfully installed python-pptx-0.6.21\n"
     ]
    }
   ],
   "source": [
    "!pip install python-pptx"
   ]
  },
  {
   "cell_type": "markdown",
   "id": "620c6f65",
   "metadata": {},
   "source": [
    "### 파워포인트 파일 다루기"
   ]
  },
  {
   "cell_type": "code",
   "execution_count": 30,
   "id": "8e3e22ff",
   "metadata": {},
   "outputs": [],
   "source": [
    "# 파워포인트 파일 생성하고 저장하기\n",
    "from pptx import Presentation\t\t# Presentation 클래스 불러오기"
   ]
  },
  {
   "cell_type": "code",
   "execution_count": 31,
   "id": "0cea9517",
   "metadata": {},
   "outputs": [],
   "source": [
    "prs = Presentation() \t\t\t# 파워포인트 객체 생성\n",
    "prs.save (\"샘플.pptx\") \t\t\t# 파워포인트 파일로 저장\n",
    "# \"샘플.pptx\"를 열어보면 아래 화면처럼 빈 슬라이드가 생성된 것을 확인할 수 있습니다."
   ]
  },
  {
   "cell_type": "code",
   "execution_count": 32,
   "id": "94119037",
   "metadata": {},
   "outputs": [
    {
     "name": "stdout",
     "output_type": "stream",
     "text": [
      "AUTO_SHAPE (1)\n",
      "PICTURE (13)\n",
      "TEXT_BOX (17)\n",
      "AUTO_SHAPE (1)\n",
      "TABLE (19)\n",
      "AUTO_SHAPE (1)\n",
      "AUTO_SHAPE (1)\n",
      "AUTO_SHAPE (1)\n",
      "AUTO_SHAPE (1)\n",
      "AUTO_SHAPE (1)\n",
      "GROUP (6)\n",
      "GROUP (6)\n",
      "AUTO_SHAPE (1)\n",
      "AUTO_SHAPE (1)\n",
      "AUTO_SHAPE (1)\n",
      "AUTO_SHAPE (1)\n",
      "AUTO_SHAPE (1)\n"
     ]
    }
   ],
   "source": [
    "# 파워포인트 파일 구조 파악하기\n",
    "from pptx import Presentation\t\t\t\t# Presentation 클래스 불러오기\n",
    "prs = Presentation(\"사내 어린이집 원아모집.pptx\")\t# 파일을 불러와 파워포인트 객체 생성\n",
    "\n",
    "slide1 = prs.slides[0]\t\t\t\t\t\t# prs 객체의 0번 슬라이드를 slide1에 저장\n",
    "for shape in slide1.shapes:\t\t\t\t\t# slide1.shapes를 하나씩 불러오기\n",
    "    print(shape.shape_type)\n",
    "# 오른쪽 이미지는 “사내 어린이집 원아모집.pptx” 파일의 첫 번째 슬라이드입니다."
   ]
  },
  {
   "cell_type": "code",
   "execution_count": 33,
   "id": "f0c12323",
   "metadata": {},
   "outputs": [
    {
     "name": "stdout",
     "output_type": "stream",
     "text": [
      "사내 어린이집 원아모집 (안내)\n",
      "직장 어린이집 원아모집 관련 내용을 안내드리오니\n",
      "자녀분의 입소를 희망하시는 직원분께서는 신청해주시기 바랍니다.\n",
      "1. 모집 대상 : 만 1세 ~ 만 5세의 영유아가 있는 직원\n",
      "- 연령별 원아모집 결과에 따라 반별 인원은 조정 가능, 결원 시 수시모집\n",
      " \n",
      "2. 모집 인원 (변동 가능)\n",
      "3. 신청방법 \n",
      "\n",
      "바른\n",
      "어린이집\n",
      "신청 : 어린이집 홈페이지 신청\n",
      "서류 제출 : 직접 우편접수 (첨부1 서류목록 및 제출처 주소지 참조)\n",
      "접수 일정 : ~11.6(금) 18시까지 온라인 접수  *20.11.13(금) 오후 2시 발표 예정\n",
      "신청 : 어린이집 홈페이지 신청\n",
      "서류 제출 : 이메일 제출\u000b",
      "* 메일 제목 : 신청자 이름/아동 이름(생년월일)/서류제출명\n",
      "접수 일정 : ~11.6(금) 18시까지 온라인 접수  *20.11.13(금) 오후 2시 발표 예정\n",
      "신청 : 담당자 이메일 신청\u000b",
      "* 자녀 성명/생년/모집구분 기재 必 (가족관계증명서 必)\n",
      "접수 일정 : ~11.6(금) 18시까지 메일 접수 *20.11.13(금) 오후 2시 발표 예정\n",
      "※ 첨부 : 어린이집 제출서류 상세 (안내)\n",
      "【마침】\n"
     ]
    }
   ],
   "source": [
    "# 도형과 글상자에 있는 텍스트 출력하기\n",
    "from pptx import Presentation\t\t\t\t# Presentation 클래스 불러오기\n",
    "prs = Presentation(\"사내 어린이집 원아모집.pptx\") # 파일을 불러와 파워포인트 객체 생성\n",
    "\n",
    "slide1 = prs.slides[0]\t\t\t\t\t\t# prs 객체의 0번 슬라이드를 slide1에 저장\n",
    "for shape in slide1.shapes:\t\t\t\t\t# slide1.shapes를 하나씩 불러오기\n",
    "    if shape.shape_type == 1 or shape.shape_type == 17:  # shape_type이 1 또는 17일 경우\n",
    "        print(shape.text)\t\t\t\t\t# 텍스트 출력"
   ]
  },
  {
   "cell_type": "code",
   "execution_count": 34,
   "id": "76149eee",
   "metadata": {},
   "outputs": [],
   "source": [
    "# 텍스트 수정하기\n",
    "from pptx import Presentation\t\t\t\t# Presentation 클래스 불러오기\n",
    "prs = Presentation(\"사내 어린이집 원아모집.pptx\") # 파일을 불러와 파워포인트 객체 생성\n",
    "\n",
    "slide1 = prs.slides[0]\t\t\t\t\t\t# prs 객체의 0번 슬라이드를 slide1에 저장\n",
    "for shape in slide1.shapes:\t\t\t\t\t# slide1.shapes를 하나씩 불러오기\n",
    "\n",
    "    # 제목 도형인지 체크하기 위한 필터링\n",
    "    if shape.shape_type == 1 and \"원아모집 (안내)\" in shape.text: \n",
    "        shape.text = \"어린이집 모집안내\"\t\t# 해당 도형의 텍스트 값 변경\n",
    "prs.save(\"사내 어린이집 원아모집_수정.pptx\")\t\t# 다른 파워포인트 파일로 저장"
   ]
  },
  {
   "cell_type": "code",
   "execution_count": 35,
   "id": "ad9e345e",
   "metadata": {},
   "outputs": [],
   "source": [
    "# 텍스트 서식 변경하기\n",
    "from pptx import Presentation\n",
    "from pptx.util import Pt\t\t\t\t# 폰트 크기 설정을 위해 로드(Pt : point를 의미)\n",
    "from pptx.dml.color import RGBColor\t\t# 색 설정을 위해 로드 \n",
    "from pptx.enum.text import PP_ALIGN\t\t# 텍스트 정렬을 위해 로드 \n",
    "\n",
    "prs = Presentation(\"사내 어린이집 원아모집.pptx\")\t# 파일을 불러와 파워포인트 객체 생성\n",
    "slide1 = prs.slides[0]\t\t\t\t\t\t# prs 객체의 0번 슬라이드를 slide1에 저장\n",
    "for shape in slide1.shapes:\t\t\t\t\t# slide1.shapes를 하나씩 불러오기\n",
    "\n",
    "    # 제목 도형인지 체크한 후 텍스트 내용과 서식 수정\n",
    "    if shape.shape_type == 1 and \"원아모집 (안내)\" in shape.text: \n",
    "        shape.text = \"어린이집 모집안내\"\t\t# 해당 도형의 텍스트 값 변경\n",
    "        shape.text_frame.paragraphs[0].alignment = PP_ALIGN.CENTER # 중앙 정렬\n",
    "        shape.text_frame.paragraphs[0].font.bold = True # 볼드체로 설정\n",
    "        shape.text_frame.paragraphs[0].font.name = \"맑은 고딕\" # 맑은 고딕 서체로 설정\n",
    "        shape.text_frame.paragraphs[0].font.size = Pt(20) # 폰트 크기 20으로 설정\n",
    "        shape.text_frame.paragraphs[0].font.color.rgb = RGBColor(0xFF, 0xFF, 0xFF) # 흰색으로 설정\n",
    "prs.save(\"사내 어린이집 원아모집_서식수정.pptx\") # 파일 저장"
   ]
  },
  {
   "cell_type": "code",
   "execution_count": 36,
   "id": "9897311a",
   "metadata": {},
   "outputs": [
    {
     "name": "stdout",
     "output_type": "stream",
     "text": [
      "모집구분\n",
      "생년월일\n",
      "모집구분\n",
      "생년월일\n",
      "바른어린이집\n",
      "곧은어린이집\n",
      "희망어린이집\n",
      "만 1세반\n",
      "‘19.1.1 ~ ‘19.12.31\n",
      "16\n",
      "18\n",
      "20\n",
      "만 2세반\n",
      "‘18.1.1 ~ ‘18.12.31\n",
      "18\n",
      "18\n",
      "15\n",
      "만 3세반\n",
      "‘17.1.1 ~ ‘17.12.31\n",
      "15\n",
      "22\n",
      "19\n",
      "만 4세반\n",
      "‘16.1.1 ~ ‘16.12.31\n",
      "15\n",
      "12\n",
      "14\n",
      "만 5세반\n",
      "’15.1.1 ~ ’15.12.31\n",
      "15\n",
      "12\n",
      "13\n",
      "計\n",
      "\n",
      "79\n",
      "82\n",
      "81\n"
     ]
    }
   ],
   "source": [
    "# 표 내용 불러오고 수정하기\n",
    "from pptx import Presentation\n",
    "prs = Presentation(\"사내 어린이집 원아모집.pptx\")\t# 파일을 불러와 파워포인트 객체 생성\n",
    "slide1 = prs.slides[0]\t\t\t\t\t\t# prs 객체의 0번 슬라이드를 slide1에 저장\n",
    "\n",
    "for shape in slide1.shapes:\t\t\t\t\t# slide1.shapes를 하나씩 불러오기\n",
    "    if shape.has_table:\t\t\t\t\t# 표만 따로 필터링하기. has_table 멤버변수로 표인지 체크 가능\n",
    "        print(shape.table.cell(row_idx = 0, col_idx = 0).text) # 출력값: 모집구분. 0번 행, 0번 열\n",
    "        print(shape.table.cell(0, 1).text)  # 출력값: 생년월일, 0번 행, 1번 열\n",
    "        for cell in shape.table.iter_cells(): # 반복문을 통해 순차적으로 접근(행 → 열 순)\n",
    "            print(cell.text)"
   ]
  },
  {
   "cell_type": "code",
   "execution_count": 37,
   "id": "5965d45d",
   "metadata": {},
   "outputs": [],
   "source": [
    "# 표 내용 불러오고 수정하기\n",
    "from pptx import Presentation\n",
    "from pptx.util import Pt\t\t\t\t# 폰트 크기 설정을 위해 로드(Pt : point를 의미)\n",
    "from pptx.enum.text import PP_ALIGN\t\t# 텍스트 정렬을 위해 로드 \n",
    "prs = Presentation(\"사내 어린이집 원아모집.pptx\") #파일을 불러와 파워포인트 객체 생성\n",
    "\n",
    "# 바꿀 내용을 리스트로 먼저 저장. 왼쪽은 원본, 오른쪽은 바뀔 내용\n",
    "replace_text = [\n",
    "    [\"바른어린이집\", \"좋은어린이집\"],\n",
    "    [\"곧은어린이집\", \"멋진어린이집\"],\n",
    "    [\"희망어린이집\", \"밝은어린이집\"]]\n",
    "\n",
    "slide1 = prs.slides[0]\t\t\t\t\t# prs 객체의 0번 슬라이드를 slide1에 저장\n",
    "for shape in slide1.shapes:\t\t\t\t# slide1.shapes를 하나씩 불러오기\n",
    "    if shape.has_table:\t\t\t\t\t# 표만 따로 필터링하기. has_table 멤버변수로 표인지 체크 \n",
    "        for cell in shape.table.iter_cells(): # 반복문을 통해 순차적으로 접근(행 → 열 순)\n",
    "            for re_text in replace_text:\n",
    "                if cell.text == re_text[0]:  # 바뀔 내용과 동일한 텍스트일 경우\n",
    "                    cell.text = re_text[1]   # 내용 변경\n",
    "                    # 셀 내용을 수정하면 서식이 변경되므로 재조정\n",
    "                    cell.text_frame.paragraphs[0].alignment = PP_ALIGN.CENTER \n",
    "                    cell.text_frame.paragraphs[0].font.name = \"맑은 고딕\"\n",
    "                    cell.text_frame.paragraphs[0].font.bold = True\n",
    "                    cell.text_frame.paragraphs[0].font.size = Pt(11)\n",
    "                    break\n",
    "prs.save(\"사내 어린이집 원아모집_표 내용 수정.pptx\") # 다른 파워포인트 파일로 저장"
   ]
  },
  {
   "cell_type": "markdown",
   "id": "86898ce5",
   "metadata": {},
   "source": [
    "### [실습] 행사 참가자 명찰 제작하기"
   ]
  },
  {
   "cell_type": "code",
   "execution_count": 38,
   "id": "931701f0",
   "metadata": {},
   "outputs": [],
   "source": [
    "# 01. 작업 파일 불러오기\n",
    "import pandas as pd\t\t\t\t\t\t# pandas 모듈 불러오기\n",
    "from pptx import Presentation\t\t\t# Presentation 모듈 불러오기\n",
    "\n",
    "df = pd.read_excel(\"행사 참석자 명단.xlsx\")\t\t# 참석자 명단 불러와 df에 저장\n",
    "prs = Presentation(\"명찰 양식.pptx\")\t\t\t# 명찰 양식 불러와 prs 객체 생성"
   ]
  },
  {
   "cell_type": "code",
   "execution_count": 39,
   "id": "f830ae16",
   "metadata": {},
   "outputs": [],
   "source": [
    "# 02. 사용자 함수 정의\n",
    "import copy\n",
    "\n",
    "def duplicate_slide(prs, org_slide):\n",
    "    # add_slide() 메소드를 이용해 새로운 슬라이드 생성한 후 개체를 복사해 옴\n",
    "    copied_slide = prs.slides.add_slide(org_slide.slide_layout)\n",
    "    for shape in org_slide.shapes:\n",
    "        org_elment = shape.element\n",
    "        new_element = copy.deepcopy(org_elment)\n",
    "        copied_slide.shapes._spTree.insert_element_before(new_element, \"p:extLst\")\n",
    "    \n",
    "    for value in org_slide.part.rels:\n",
    "        if \"notesSlide\" not in value.reltype:\n",
    "            copied_slide.part.rels.get_or_add(\n",
    "                value.reltype,\n",
    "                value._target\n",
    "            )\n",
    "    return copied_slide"
   ]
  },
  {
   "cell_type": "code",
   "execution_count": 40,
   "id": "447e574c",
   "metadata": {},
   "outputs": [],
   "source": [
    "# 03. 명찰 제작하기\n",
    "from pptx.util import Pt\t\t\t# 폰트 크기 조정을 위해 로드\n",
    "nametag_count = 0\n",
    "for person_count in range(len(df)): # 참석자 수(32명)만큼 반복문 실행\n",
    "    # 슬라이드 1장 당 4개의 명찰이 있으므로\n",
    "    # 현재 반복문이 실행되고 있는 person_count를 4로 나누고\n",
    "    # 남은 값이 0일 때(=4의 배수일 때) 슬라이드를 복사하고 데이터를 입력함\n",
    "    if person_count % 4 == 0:\n",
    "        new_slide = duplicate_slide(prs, prs.slides[0]) # 첫 번째 슬라이드를 복사하여 추가\n",
    "        for shape in new_slide.shapes: \t\t\t\t\t# 슬라이드에 있는 개체를 체크하여 데이터 입력\n",
    "            # 명찰 입력이 완료된 개수(nametag_count)가\n",
    "            # 명단 데이터 개수(len(df))보다 적을 때만 실행\n",
    "            if nametag_count < len(df):\n",
    "                if shape.shape_type == 17 and shape.text == \"소속\":\n",
    "                    shape.text_frame.paragraphs[0].text = df.iloc[nametag_count, 1]\n",
    "                    shape.text_frame.paragraphs[0].font.size = Pt(24)\n",
    "                    shape.text_frame.paragraphs[0].font.bold = True\n",
    "                    shape.text_frame.paragraphs[0].font.name = \"맑은 고딕\"\n",
    "                elif shape.shape_type == 17 and shape.text == \"이름\":\n",
    "                    shape.text_frame.paragraphs[0].text = df.iloc[nametag_count, 0]\n",
    "                    shape.text_frame.paragraphs[0].font.size = Pt(60)\n",
    "                    shape.text_frame.paragraphs[0].font.bold = True\n",
    "                    shape.text_frame.paragraphs[0].font.name = \"맑은 고딕\"\n",
    "                    # 이름 입력까지 완료되면 입력 완료된 개수(nametag_count) 업데이트\n",
    "                    nametag_count += 1\n",
    "prs.save(\"명찰 자동제작 결과.pptx\") #새로운 파일로 저장"
   ]
  },
  {
   "cell_type": "markdown",
   "id": "5a6a9d82",
   "metadata": {},
   "source": [
    "## 7.3 시스템 제어하기"
   ]
  },
  {
   "cell_type": "markdown",
   "id": "3bc861b6",
   "metadata": {},
   "source": [
    "### pyautogui 개요"
   ]
  },
  {
   "cell_type": "code",
   "execution_count": 41,
   "id": "234b76fa",
   "metadata": {
    "scrolled": true
   },
   "outputs": [
    {
     "name": "stdout",
     "output_type": "stream",
     "text": [
      "Defaulting to user installation because normal site-packages is not writeable\n",
      "Collecting pyautogui\n",
      "  Downloading PyAutoGUI-0.9.53.tar.gz (59 kB)\n",
      "Collecting pymsgbox\n",
      "  Downloading PyMsgBox-1.0.9.tar.gz (18 kB)\n",
      "  Installing build dependencies: started\n",
      "  Installing build dependencies: finished with status 'done'\n",
      "  Getting requirements to build wheel: started\n",
      "  Getting requirements to build wheel: finished with status 'done'\n",
      "    Preparing wheel metadata: started\n",
      "    Preparing wheel metadata: finished with status 'done'\n",
      "Collecting PyTweening>=1.0.1\n",
      "  Downloading pytweening-1.0.4.tar.gz (14 kB)\n",
      "Collecting pyscreeze>=0.1.21\n",
      "  Downloading PyScreeze-0.1.28.tar.gz (25 kB)\n",
      "  Installing build dependencies: started\n",
      "  Installing build dependencies: finished with status 'done'\n",
      "  Getting requirements to build wheel: started\n",
      "  Getting requirements to build wheel: finished with status 'done'\n",
      "    Preparing wheel metadata: started\n",
      "    Preparing wheel metadata: finished with status 'done'\n",
      "Collecting pygetwindow>=0.0.5\n",
      "  Downloading PyGetWindow-0.0.9.tar.gz (9.7 kB)\n",
      "Collecting mouseinfo\n",
      "  Downloading MouseInfo-0.1.3.tar.gz (10 kB)\n",
      "Collecting pyrect\n",
      "  Downloading PyRect-0.2.0.tar.gz (17 kB)\n",
      "Collecting pyperclip\n",
      "  Downloading pyperclip-1.8.2.tar.gz (20 kB)\n",
      "Building wheels for collected packages: pyautogui, pygetwindow, pyscreeze, PyTweening, mouseinfo, pymsgbox, pyperclip, pyrect\n",
      "  Building wheel for pyautogui (setup.py): started\n",
      "  Building wheel for pyautogui (setup.py): finished with status 'done'\n",
      "  Created wheel for pyautogui: filename=PyAutoGUI-0.9.53-py3-none-any.whl size=36614 sha256=973b384766363037123e57613895a255efe2f708f09ee66c6576ebbbd9192987\n",
      "  Stored in directory: c:\\users\\redbutterfly\\appdata\\local\\pip\\cache\\wheels\\d8\\97\\e4\\d2edca92a87d3b5fbfb527264750a17b4ba297b9a7cab6e67f\n",
      "  Building wheel for pygetwindow (setup.py): started\n",
      "  Building wheel for pygetwindow (setup.py): finished with status 'done'\n",
      "  Created wheel for pygetwindow: filename=PyGetWindow-0.0.9-py3-none-any.whl size=11081 sha256=2d881d340ca765caede8eb5e31d148fa775469f083ca142cd2b688b4d2a90119\n",
      "  Stored in directory: c:\\users\\redbutterfly\\appdata\\local\\pip\\cache\\wheels\\44\\ab\\20\\423c3a444793767e4e41f8377bc902f77bee212e68dcce85a5\n",
      "  Building wheel for pyscreeze (PEP 517): started\n",
      "  Building wheel for pyscreeze (PEP 517): finished with status 'done'\n",
      "  Created wheel for pyscreeze: filename=PyScreeze-0.1.28-py3-none-any.whl size=13009 sha256=a56fd44ecb169581b030f10e960912b0cbcc983fe715ebf251ec068f5a1e6793\n",
      "  Stored in directory: c:\\users\\redbutterfly\\appdata\\local\\pip\\cache\\wheels\\a2\\5b\\86\\99f1d8fac5d92de0ccb3f0d4ad15e3f4278baf75a9b0f20b93\n",
      "  Building wheel for PyTweening (setup.py): started\n",
      "  Building wheel for PyTweening (setup.py): finished with status 'done'\n",
      "  Created wheel for PyTweening: filename=pytweening-1.0.4-py3-none-any.whl size=5854 sha256=160bbb000e2cb8c849c8eb51eb499558f230ff9b870e6607ae68e0214a5834ea\n",
      "  Stored in directory: c:\\users\\redbutterfly\\appdata\\local\\pip\\cache\\wheels\\a4\\5d\\d2\\ba4c8f82163233ffaadcf383c1e34d7d92635d357d13e7b78d\n",
      "  Building wheel for mouseinfo (setup.py): started\n",
      "  Building wheel for mouseinfo (setup.py): finished with status 'done'\n",
      "  Created wheel for mouseinfo: filename=MouseInfo-0.1.3-py3-none-any.whl size=10906 sha256=7ea435eef154aec0a335b3d22eae60d887dabbfcbe35e7a9cd3f2335a427c384\n",
      "  Stored in directory: c:\\users\\redbutterfly\\appdata\\local\\pip\\cache\\wheels\\61\\73\\b9\\6fb1131ab36e650206e3aa0ad7a68907b41b32ac2d4f75f543\n",
      "  Building wheel for pymsgbox (PEP 517): started\n",
      "  Building wheel for pymsgbox (PEP 517): finished with status 'done'\n",
      "  Created wheel for pymsgbox: filename=PyMsgBox-1.0.9-py3-none-any.whl size=7406 sha256=891530a8fafdb163a2da1841212919e1813d056b89c7a879e0e80b950da65dd8\n",
      "  Stored in directory: c:\\users\\redbutterfly\\appdata\\local\\pip\\cache\\wheels\\7f\\13\\8c\\584c519464297d9637f9cd29fd1dcdf55e2a2cab225c76a2db\n",
      "  Building wheel for pyperclip (setup.py): started\n",
      "  Building wheel for pyperclip (setup.py): finished with status 'done'\n",
      "  Created wheel for pyperclip: filename=pyperclip-1.8.2-py3-none-any.whl size=11137 sha256=67e658fb52e4b20597cc9cd9ec6d0f94a8d32771344638f37d35ab962e93ece0\n",
      "  Stored in directory: c:\\users\\redbutterfly\\appdata\\local\\pip\\cache\\wheels\\0c\\09\\9e\\49e21a6840ef7955b06d47394afef0058f0378c0914e48b8b8\n",
      "  Building wheel for pyrect (setup.py): started\n",
      "  Building wheel for pyrect (setup.py): finished with status 'done'\n",
      "  Created wheel for pyrect: filename=PyRect-0.2.0-py2.py3-none-any.whl size=11196 sha256=01412c2ae9458f43b3124ff3f23192238cb5f0da6f5646947ed58dd3954f72e2\n",
      "  Stored in directory: c:\\users\\redbutterfly\\appdata\\local\\pip\\cache\\wheels\\25\\80\\fa\\27bb4a1c2e21f64ec71390489d52e57b7cc8afbe79bd595c5e\n",
      "Successfully built pyautogui pygetwindow pyscreeze PyTweening mouseinfo pymsgbox pyperclip pyrect\n",
      "Installing collected packages: pyrect, pyperclip, PyTweening, pyscreeze, pymsgbox, pygetwindow, mouseinfo, pyautogui\n",
      "Successfully installed PyTweening-1.0.4 mouseinfo-0.1.3 pyautogui-0.9.53 pygetwindow-0.0.9 pymsgbox-1.0.9 pyperclip-1.8.2 pyrect-0.2.0 pyscreeze-0.1.28\n"
     ]
    }
   ],
   "source": [
    "!pip install pyautogui"
   ]
  },
  {
   "cell_type": "code",
   "execution_count": 42,
   "id": "c8409924",
   "metadata": {},
   "outputs": [],
   "source": [
    "import pyautogui"
   ]
  },
  {
   "cell_type": "markdown",
   "id": "cdb2fd18",
   "metadata": {},
   "source": [
    "### 마우스 제어하기"
   ]
  },
  {
   "cell_type": "code",
   "execution_count": 43,
   "id": "3251cd06",
   "metadata": {},
   "outputs": [
    {
     "data": {
      "text/plain": [
       "Size(width=1920, height=1080)"
      ]
     },
     "execution_count": 43,
     "metadata": {},
     "output_type": "execute_result"
    }
   ],
   "source": [
    "pyautogui.size()"
   ]
  },
  {
   "cell_type": "code",
   "execution_count": 44,
   "id": "ed187324",
   "metadata": {},
   "outputs": [
    {
     "data": {
      "text/plain": [
       "Point(x=1157, y=770)"
      ]
     },
     "execution_count": 44,
     "metadata": {},
     "output_type": "execute_result"
    }
   ],
   "source": [
    "pyautogui.position()"
   ]
  },
  {
   "cell_type": "code",
   "execution_count": 45,
   "id": "ce8fcbaf",
   "metadata": {},
   "outputs": [
    {
     "data": {
      "text/plain": [
       "Point(x=1015, y=637)"
      ]
     },
     "execution_count": 45,
     "metadata": {},
     "output_type": "execute_result"
    }
   ],
   "source": [
    "import pyautogui\t\t\t# pyautogui 패키지 로드\n",
    "import time\t\t\t\t\t# time 패키지 로드\n",
    "time.sleep(3)  \t\t\t\t# 3초 동안 대기(원하는 위치로 마우스를 이동)\n",
    "pyautogui.position()\t\t# 마우스 포지션 반환"
   ]
  },
  {
   "cell_type": "code",
   "execution_count": 46,
   "id": "939403b0",
   "metadata": {},
   "outputs": [],
   "source": [
    "pyautogui.moveTo(100, 200)  # 마우스 커서가 X, Y 좌표(100, 200)로 이동"
   ]
  },
  {
   "cell_type": "code",
   "execution_count": 47,
   "id": "432efb79",
   "metadata": {},
   "outputs": [],
   "source": [
    "pyautogui.moveTo(100, 400, 3)  # 마우스 커서가 X, Y 좌표(100, 400)로 3초 동안 이동"
   ]
  },
  {
   "cell_type": "code",
   "execution_count": 48,
   "id": "44979a4d",
   "metadata": {},
   "outputs": [],
   "source": [
    "pyautogui.move(0, 200) \t\t\t# 현재 위치에서 아래로(Y 좌표만) 200 이동\n",
    "pyautogui.move(100, 200)  \t\t# 현재 위치에서 우측으로(X 좌표) 100, 아래로(Y 좌표) 200 이동\n",
    "pyautogui.move(100, 200, 3) \t# 현재 위치에서 우측으로 100, 아래로 200, 3초 동안 이동"
   ]
  },
  {
   "cell_type": "code",
   "execution_count": 49,
   "id": "a3896c00",
   "metadata": {},
   "outputs": [],
   "source": [
    "pyautogui.dragTo(500, 500, button = \"left\")\t\t# 현재 위치에서 X, Y(500, 500) 좌표로 드래그\n",
    "pyautogui.dragTo(300, 300, 2, button = \"left\")\t# 현재 위치에서 X, Y(300, 300) 좌표로 2초 동안 드래그\n",
    "pyautogui.drag(100, 0, 2, button = \"left\")\t\t# 현재 위치에서 우측으로 100, 2초 동안 드래그"
   ]
  },
  {
   "cell_type": "code",
   "execution_count": 50,
   "id": "2631826b",
   "metadata": {},
   "outputs": [],
   "source": [
    "pyautogui.click()"
   ]
  },
  {
   "cell_type": "code",
   "execution_count": 51,
   "id": "0170f776",
   "metadata": {},
   "outputs": [],
   "source": [
    "pyautogui.click(x = 100, y = 200) \t\t # X, Y(100, 200) 좌표를 클릭"
   ]
  },
  {
   "cell_type": "code",
   "execution_count": 52,
   "id": "9c9fcd8b",
   "metadata": {},
   "outputs": [],
   "source": [
    "pyautogui.click(button = \"right\") \t\t # 마우스 오른쪽 버튼 클릭"
   ]
  },
  {
   "cell_type": "code",
   "execution_count": 53,
   "id": "0e730e52",
   "metadata": {},
   "outputs": [],
   "source": [
    "pyautogui.click(clicks = 2) \t\t\t\t\t# 2번 클릭하는 것으로 더블클릭과 동일\n",
    "pyautogui.click(clicks = 2, interval = 0.25) \t# 더블 클릭을 하되 클릭 사이에 0.25초 간격 지정\n",
    "pyautogui.click(button = \"right\", clicks = 3, interval = 0.25)  # 마우스 오른쪽 버튼을 0.25초 간격으로 3번 클릭"
   ]
  },
  {
   "cell_type": "code",
   "execution_count": 54,
   "id": "601f7be9",
   "metadata": {},
   "outputs": [],
   "source": [
    "pyautogui.doubleClick() \t\t\t# 더블 클릭 전용 함수\n",
    "pyautogui.tripleClick() \t\t\t# 트리플 클릭 전용 함수"
   ]
  },
  {
   "cell_type": "code",
   "execution_count": 55,
   "id": "cc6cfba3",
   "metadata": {},
   "outputs": [],
   "source": [
    "pyautogui.mouseDown() \t\t\t# 현재 위치에서 마우스 왼쪽 버튼 누르기\n",
    "pyautogui.mouseUp() \t\t\t# 현재 위치에서 눌러진 마우스 왼쪽 버튼 놓기\n",
    "pyautogui.mouseDown(button = \"right\")\t# 현재 위치에서 마우스 오른쪽 버튼 누르기\n",
    "pyautogui.mouseUp(button = \"right\", x = 200, y = 300)  # 지정 좌표에서 마우스 오른쪽 버튼 누르기"
   ]
  },
  {
   "cell_type": "code",
   "execution_count": 56,
   "id": "f5dcdcad",
   "metadata": {},
   "outputs": [],
   "source": [
    "pyautogui.scroll(10)\t\t\t\t\t# 10만큼 위로 스크롤\n",
    "pyautogui.scroll(-15) \t\t\t\t\t# 15만큼 아래로 스크롤\n",
    "pyautogui.scroll(10, x = 200, y = 200) \t# X, Y(200, 200) 좌표에서 10만큼 위로 스크롤"
   ]
  },
  {
   "cell_type": "markdown",
   "id": "9d9f32f9",
   "metadata": {},
   "source": [
    "### 키보드 제어하기"
   ]
  },
  {
   "cell_type": "code",
   "execution_count": 57,
   "id": "ebeb27c7",
   "metadata": {},
   "outputs": [],
   "source": [
    "pyautogui.write(\"Hello\")\n",
    "pyautogui.write(\"Good morning\", interval = 0.25)  # 0.25초의 간격을 두고 각 단어를 입력 "
   ]
  },
  {
   "cell_type": "code",
   "execution_count": 58,
   "id": "2652ddc1",
   "metadata": {},
   "outputs": [],
   "source": [
    "pyautogui.keyDown(\"shift\")\t# shift 키를 누름\n",
    "pyautogui.keyUp(\"shift\")\t# 누른 shift 키를 뗌"
   ]
  },
  {
   "cell_type": "code",
   "execution_count": 59,
   "id": "7141b1ab",
   "metadata": {},
   "outputs": [],
   "source": [
    "pyautogui.press(\"shift\")\t# shift 키를 누름(눌렀다가 뗌)"
   ]
  },
  {
   "cell_type": "code",
   "execution_count": 60,
   "id": "1dd1e0a7",
   "metadata": {},
   "outputs": [],
   "source": [
    "pyautogui.keyDown(\"shift\")\t# shift 키를 누르고 있음\n",
    "pyautogui.press(\"left\")\t\t# 왼쪽 화살표 키를 한 번 눌렀다가 뗌\n",
    "pyautogui.press(\"left\")\t\t# 왼쪽 화살표 키를 한 번 눌렀다가 뗌\n",
    "pyautogui.press(\"left\")\t\t# 왼쪽 화살표 키를 한 번 눌렀다가 뗌\n",
    "pyautogui.keyUp(\"shift\")\t# 누르고 있던 shift 키를 뗌"
   ]
  },
  {
   "cell_type": "code",
   "execution_count": 61,
   "id": "7aa0682e",
   "metadata": {},
   "outputs": [],
   "source": [
    "pyautogui.press([\"left\", \"left\", \"left\"])  \t# 왼쪽 화살표 키를 세 번 눌렀다가 뗌"
   ]
  },
  {
   "cell_type": "code",
   "execution_count": 62,
   "id": "3dd60bcb",
   "metadata": {},
   "outputs": [],
   "source": [
    "pyautogui.hotkey(\"ctrl\", \"c\")\t\t# Ctrl + C 키를 입력"
   ]
  },
  {
   "cell_type": "code",
   "execution_count": 63,
   "id": "9d876a96",
   "metadata": {},
   "outputs": [],
   "source": [
    "pyautogui.keyDown(\"ctrl\")\t\t# Ctrl 키를 누르고 있음\n",
    "pyautogui.press(\"c\")\t\t\t# C 키를 한 번 눌렀다가 뗌\n",
    "pyautogui.keyUp(\"ctrl\")\t\t\t# 누르고 있던 Ctrl 키를 뗌"
   ]
  },
  {
   "cell_type": "markdown",
   "id": "8745a547",
   "metadata": {},
   "source": [
    "### 메시지 박스"
   ]
  },
  {
   "cell_type": "code",
   "execution_count": 64,
   "id": "7a739178",
   "metadata": {},
   "outputs": [
    {
     "data": {
      "text/plain": [
       "'OK'"
      ]
     },
     "execution_count": 64,
     "metadata": {},
     "output_type": "execute_result"
    }
   ],
   "source": [
    "pyautogui.alert(text = \"alert 함수입니다.\", title = \"alert 함수\", button = \"OK\")\n",
    "# [확인]을 클릭하면 \"OK\"가 출력됨"
   ]
  },
  {
   "cell_type": "code",
   "execution_count": 65,
   "id": "27414524",
   "metadata": {},
   "outputs": [
    {
     "data": {
      "text/plain": [
       "'Cancel'"
      ]
     },
     "execution_count": 65,
     "metadata": {},
     "output_type": "execute_result"
    }
   ],
   "source": [
    "pyautogui.confirm(text = \"confirm 함수입니다.\", title = \"confirm 함수\", buttons = [\"OK\", \"Cancel\"])\n",
    "# [확인]을 클릭하면 \"OK\"가, [취소]를 클릭하면 \"Cancel\"이 출력됨"
   ]
  },
  {
   "cell_type": "code",
   "execution_count": 66,
   "id": "52e66221",
   "metadata": {},
   "outputs": [
    {
     "data": {
      "text/plain": [
       "'ID'"
      ]
     },
     "execution_count": 66,
     "metadata": {},
     "output_type": "execute_result"
    }
   ],
   "source": [
    "pyautogui.prompt(text = \"prompt 함수입니다.\", title = \"prompt 함수\", default = \"ID\")\n",
    "# 텍스트를 입력하면 입력한 텍스트를 반환함"
   ]
  },
  {
   "cell_type": "code",
   "execution_count": 67,
   "id": "bc57f3d0",
   "metadata": {},
   "outputs": [
    {
     "data": {
      "text/plain": [
       "'no'"
      ]
     },
     "execution_count": 67,
     "metadata": {},
     "output_type": "execute_result"
    }
   ],
   "source": [
    "pyautogui.password(text = \"패스워드를 입력하세요.\", title = \"로그인\", mask = \"*\")\n",
    "# 패스워드 입력 후 [OK]를 클릭하면 입력한 텍스트를 반환함"
   ]
  },
  {
   "cell_type": "markdown",
   "id": "0e569a98",
   "metadata": {},
   "source": [
    "### 스크린 샷 "
   ]
  },
  {
   "cell_type": "code",
   "execution_count": 68,
   "id": "92ff04f9",
   "metadata": {},
   "outputs": [
    {
     "name": "stdout",
     "output_type": "stream",
     "text": [
      "Defaulting to user installation because normal site-packages is not writeable\n",
      "Requirement already satisfied: pillow in c:\\programdata\\anaconda3\\lib\\site-packages (9.0.1)\n"
     ]
    }
   ],
   "source": [
    "!pip install pillow"
   ]
  },
  {
   "cell_type": "code",
   "execution_count": 69,
   "id": "77bc4610",
   "metadata": {},
   "outputs": [],
   "source": [
    "from PIL import Image"
   ]
  },
  {
   "cell_type": "code",
   "execution_count": 70,
   "id": "b1ec3182",
   "metadata": {},
   "outputs": [
    {
     "name": "stdout",
     "output_type": "stream",
     "text": [
      "<PIL.Image.Image image mode=RGB size=1920x1080 at 0x176EEEC28B0>\n"
     ]
    }
   ],
   "source": [
    "image1 = pyautogui.screenshot()\t\t# 전체 화면을 캡처하여 image1에 저장\n",
    "print(image1)\t\t\t\t\t\t# 이미지 정보 출력"
   ]
  },
  {
   "cell_type": "code",
   "execution_count": 71,
   "id": "fcf64780",
   "metadata": {},
   "outputs": [],
   "source": [
    "image2 = pyautogui.screenshot(\"screenshot.png\")\n",
    "# 전체 화면을 캡처하여 현재 폴더에 \"screenshot.png\" 파일로 저장"
   ]
  },
  {
   "cell_type": "code",
   "execution_count": 72,
   "id": "b0cd86c9",
   "metadata": {},
   "outputs": [
    {
     "name": "stdout",
     "output_type": "stream",
     "text": [
      "<PIL.Image.Image image mode=RGB size=300x400 at 0x176EF2336D0>\n"
     ]
    }
   ],
   "source": [
    "image3 = pyautogui.screenshot(region=(0, 0, 300, 400)) \t# region= (x, y, width, height)\n",
    "print(image3)   # 이미지 정보 출력"
   ]
  },
  {
   "cell_type": "code",
   "execution_count": 73,
   "id": "9a5c87e4",
   "metadata": {},
   "outputs": [
    {
     "data": {
      "text/plain": [
       "<matplotlib.image.AxesImage at 0x176f1c542b0>"
      ]
     },
     "execution_count": 73,
     "metadata": {},
     "output_type": "execute_result"
    },
    {
     "data": {
      "image/png": "[encoded data removed]",
      "text/plain": [
       "<Figure size 432x288 with 1 Axes>"
      ]
     },
     "metadata": {
      "needs_background": "light"
     },
     "output_type": "display_data"
    }
   ],
   "source": [
    "import matplotlib.pyplot as plt\t\t\t# matplotlib 패키지 불러오기\n",
    "plt.imshow(image3)\t\t\t\t\t\t# plt.imshow() 함수로 이미지 출력하기"
   ]
  },
  {
   "cell_type": "markdown",
   "id": "150d02a0",
   "metadata": {},
   "source": [
    "### [실습] 네이버 날씨 연속으로 자동 캡처 하기"
   ]
  },
  {
   "cell_type": "code",
   "execution_count": 77,
   "id": "ace2985b",
   "metadata": {},
   "outputs": [],
   "source": [
    "# 패키지 불러오기\n",
    "import pyautogui\t\t# pyautogui 패키지 불러오기\n",
    "import time\t\t\t\t# time 패키지 불러오기\n",
    "import datetime\t\t\t# datetime 패키지 불러오기\n",
    "\n",
    "# 캡처 횟수 입력 받기\n",
    "str_cap_num = pyautogui.prompt(text = \"몇 번 캡처할지 입력해 주세요\", title = \"캡처 횟수\", default = \"\")\n",
    "int_cap_num = int(str_cap_num)\t\t# 변수 int_cap_num에 캡처 횟수 저장\n",
    "\n",
    "# 캡처 횟수 반복문 설정하기\n",
    "i = 0\t\t\t\t\t\t\t# 반복문 카운터로 사용할 변수 초기화\n",
    "while i < int_cap_num:\t\t\t# 사용자로부터 입력받은 캡처 횟수만큼 반복\n",
    "    i = i + 1\t\t\t\t\t# 카운터 1씩 증가\n",
    "\n",
    "# 캡처 도구 실행하기\n",
    "    pyautogui.hotkey(\"win\", \"s\")\t# 핫키 Win + S 실행\n",
    "    time.sleep(0.5)\t\t\t\t\t# 0.5초 지연\n",
    "    pyautogui.write(\"snippingtool\")\t# 이미지 캡처 도구를 실행하기 위해 입력\n",
    "    pyautogui.press(\"enter\")\t\t# Enter 키 입력\n",
    "    time.sleep(1)\t\t\t\t\t# 1초 지연\n",
    "\n",
    "# 캡처 버튼 실행하기\n",
    "    pyautogui.hotkey(\"alt\", \"n\")\n",
    "    time.sleep(1)\n",
    "\n",
    "# 날씨 영역 캡처하기\n",
    "    pyautogui.moveTo(1251, 315)\t\t# 마우스 커서를 좌표(1251, 351)로 이동\n",
    "    pyautogui.dragTo(1546, 356, duration = 2, button = \"left\")\t# 현재 위치에서 좌표(1546, 356)까지 마우스로 드래그\n",
    "    time.sleep(1)\t\t\t\t\t# 1초 지연\n",
    "\n",
    "# 현재 일시를 활용한 파일 이름 지정하기    \n",
    "    now_date = datetime.datetime.now().strftime(\"%y%m%d_%H%M%S\")\n",
    "    file_name = \"weather_\" + now_date + \".png\"\t\t# 파일 이름 설정\n",
    "\n",
    "# 캡처 이미지 저장하기    \n",
    "    pyautogui.hotkey(\"ctrl\", \"s\")\t# 저장하기(Ctrl + S) 실행\n",
    "    time.sleep(0.5)\t\t\t\t\t# 0.5초 지연\n",
    "    pyautogui.write(file_name)\t\t# file_name의 값을 화면에 입력\n",
    "    pyautogui.hotkey(\"alt\", \"s\")\t# 저장하기(Alt + S) 실행\n",
    "    time.sleep(0.5)\t\t\t\t\t# 0.5초 지연\n",
    "\n",
    "# 캡처 도구 닫기\n",
    "    pyautogui.hotkey(\"alt\", \"F\")\t# 파일 열기(Alt + F) 실행\n",
    "    time.sleep(0.5)\t\t\t\t\t# 0.5초 지연\n",
    "    pyautogui.press(\"x\")\t\t\t# 끝내기(x) 실행\n",
    "    time.sleep(5)\t\t\t\t\t# 5초 지연"
   ]
  }
 ],
 "metadata": {
  "kernelspec": {
   "display_name": "Python 3 (ipykernel)",
   "language": "python",
   "name": "python3"
  },
  "language_info": {
   "codemirror_mode": {
    "name": "ipython",
    "version": 3
   },
   "file_extension": ".py",
   "mimetype": "text/x-python",
   "name": "python",
   "nbconvert_exporter": "python",
   "pygments_lexer": "ipython3",
   "version": "3.9.12"
  }
 },
 "nbformat": 4,
 "nbformat_minor": 5
}
