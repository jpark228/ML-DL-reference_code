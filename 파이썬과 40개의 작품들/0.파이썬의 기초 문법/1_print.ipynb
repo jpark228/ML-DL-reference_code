{
 "cells": [
  {
   "cell_type": "code",
   "execution_count": 17,
   "metadata": {},
   "outputs": [
    {
     "name": "stdout",
     "output_type": "stream",
     "text": [
      "hello\n"
     ]
    }
   ],
   "source": [
    "print(\"hello\")"
   ]
  },
  {
   "cell_type": "code",
   "execution_count": null,
   "metadata": {},
   "outputs": [],
   "source": [
    "print('hello')"
   ]
  },
  {
   "cell_type": "code",
   "execution_count": null,
   "metadata": {},
   "outputs": [],
   "source": [
    "print('hello \"안녕하세요\"')"
   ]
  },
  {
   "cell_type": "code",
   "execution_count": 18,
   "metadata": {},
   "outputs": [
    {
     "name": "stdout",
     "output_type": "stream",
     "text": [
      "hello '안녕하세요'\n"
     ]
    }
   ],
   "source": [
    "print(\"hello '안녕하세요'\")"
   ]
  },
  {
   "cell_type": "code",
   "execution_count": 19,
   "metadata": {},
   "outputs": [
    {
     "name": "stdout",
     "output_type": "stream",
     "text": [
      "안녕 하세요 반갑습니다\n"
     ]
    }
   ],
   "source": [
    "print('안녕','하세요','반갑습니다')"
   ]
  },
  {
   "cell_type": "code",
   "execution_count": null,
   "metadata": {},
   "outputs": [],
   "source": [
    "print('안녕'+'하세요'+'반갑습니다')"
   ]
  },
  {
   "cell_type": "code",
   "execution_count": 20,
   "metadata": {},
   "outputs": [
    {
     "name": "stdout",
     "output_type": "stream",
     "text": [
      "안녕하세요 \n",
      "오늘은 날씨가 좋네요\n"
     ]
    }
   ],
   "source": [
    "print(\"\"\"안녕하세요 \n",
    "오늘은 날씨가 좋네요\"\"\")"
   ]
  },
  {
   "cell_type": "code",
   "execution_count": 21,
   "metadata": {},
   "outputs": [
    {
     "name": "stdout",
     "output_type": "stream",
     "text": [
      "안녕하세요 \n",
      "오늘은 날씨가 좋네요\n"
     ]
    }
   ],
   "source": [
    "print('''안녕하세요 \n",
    "오늘은 날씨가 좋네요''')"
   ]
  },
  {
   "cell_type": "code",
   "execution_count": 22,
   "metadata": {},
   "outputs": [
    {
     "name": "stdout",
     "output_type": "stream",
     "text": [
      "안녕하세요오늘은 날씨가 좋네요\n"
     ]
    }
   ],
   "source": [
    "print(\"안녕하세요\" \\\n",
    "\"오늘은 날씨가 좋네요\")"
   ]
  },
  {
   "cell_type": "code",
   "execution_count": 23,
   "metadata": {},
   "outputs": [
    {
     "name": "stdout",
     "output_type": "stream",
     "text": [
      "a값:123  b값:안녕하세요.\n"
     ]
    }
   ],
   "source": [
    "a = 123\n",
    "b = \"안녕하세요.\"\n",
    "\n",
    "print(\"a값:{}  b값:{}\".format(a,b))"
   ]
  },
  {
   "cell_type": "code",
   "execution_count": 24,
   "metadata": {},
   "outputs": [
    {
     "name": "stdout",
     "output_type": "stream",
     "text": [
      "a값:123  b값:안녕하세요.\n"
     ]
    }
   ],
   "source": [
    "a = 123\n",
    "b = \"안녕하세요.\"\n",
    "\n",
    "print(f\"a값:{a}  b값:{b}\")"
   ]
  }
 ],
 "metadata": {
  "interpreter": {
   "hash": "ad2bdc8ecc057115af97d19610ffacc2b4e99fae6737bb82f5d7fb13d2f2c186"
  },
  "kernelspec": {
   "display_name": "Python 3.9.12 ('base')",
   "language": "python",
   "name": "python3"
  },
  "language_info": {
   "codemirror_mode": {
    "name": "ipython",
    "version": 3
   },
   "file_extension": ".py",
   "mimetype": "text/x-python",
   "name": "python",
   "nbconvert_exporter": "python",
   "pygments_lexer": "ipython3",
   "version": "3.9.12"
  },
  "orig_nbformat": 4
 },
 "nbformat": 4,
 "nbformat_minor": 2
}
