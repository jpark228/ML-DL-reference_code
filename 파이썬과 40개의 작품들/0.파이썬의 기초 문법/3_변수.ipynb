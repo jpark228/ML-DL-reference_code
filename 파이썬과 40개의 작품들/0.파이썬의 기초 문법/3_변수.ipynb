{
 "cells": [
  {
   "cell_type": "code",
   "execution_count": 1,
   "metadata": {},
   "outputs": [
    {
     "name": "stdout",
     "output_type": "stream",
     "text": [
      "20\n"
     ]
    }
   ],
   "source": [
    "a = 10\n",
    "b = 10\n",
    "c = a + b\n",
    "\n",
    "print( c )"
   ]
  },
  {
   "cell_type": "code",
   "execution_count": 2,
   "metadata": {},
   "outputs": [
    {
     "ename": "TypeError",
     "evalue": "unsupported operand type(s) for +: 'int' and 'str'",
     "output_type": "error",
     "traceback": [
      "\u001b[1;31m---------------------------------------------------------------------------\u001b[0m",
      "\u001b[1;31mTypeError\u001b[0m                                 Traceback (most recent call last)",
      "\u001b[1;32mc:\\Users\\Redbutterfly\\Desktop\\파이썬과 40개의 작품들\\0.파이썬의 기초 문법\\3_변수.ipynb Cell 2'\u001b[0m in \u001b[0;36m<cell line: 3>\u001b[1;34m()\u001b[0m\n\u001b[0;32m      <a href='vscode-notebook-cell:/c%3A/Users/Redbutterfly/Desktop/%ED%8C%8C%EC%9D%B4%EC%8D%AC%EA%B3%BC%2040%EA%B0%9C%EC%9D%98%20%EC%9E%91%ED%92%88%EB%93%A4/0.%ED%8C%8C%EC%9D%B4%EC%8D%AC%EC%9D%98%20%EA%B8%B0%EC%B4%88%20%EB%AC%B8%EB%B2%95/3_%EB%B3%80%EC%88%98.ipynb#ch0000001?line=0'>1</a>\u001b[0m d \u001b[39m=\u001b[39m \u001b[39m'\u001b[39m\u001b[39m10\u001b[39m\u001b[39m'\u001b[39m\n\u001b[1;32m----> <a href='vscode-notebook-cell:/c%3A/Users/Redbutterfly/Desktop/%ED%8C%8C%EC%9D%B4%EC%8D%AC%EA%B3%BC%2040%EA%B0%9C%EC%9D%98%20%EC%9E%91%ED%92%88%EB%93%A4/0.%ED%8C%8C%EC%9D%B4%EC%8D%AC%EC%9D%98%20%EA%B8%B0%EC%B4%88%20%EB%AC%B8%EB%B2%95/3_%EB%B3%80%EC%88%98.ipynb#ch0000001?line=2'>3</a>\u001b[0m \u001b[39mprint\u001b[39m( c \u001b[39m+\u001b[39;49m d )\n",
      "\u001b[1;31mTypeError\u001b[0m: unsupported operand type(s) for +: 'int' and 'str'"
     ]
    }
   ],
   "source": [
    "d = '10'\n",
    "\n",
    "print( c + d )"
   ]
  },
  {
   "cell_type": "code",
   "execution_count": 2,
   "metadata": {},
   "outputs": [
    {
     "name": "stdout",
     "output_type": "stream",
     "text": [
      "30\n"
     ]
    }
   ],
   "source": [
    "d = '10'\n",
    "\n",
    "print( c + int(d) )"
   ]
  },
  {
   "cell_type": "code",
   "execution_count": 3,
   "metadata": {},
   "outputs": [
    {
     "name": "stdout",
     "output_type": "stream",
     "text": [
      "2010\n"
     ]
    }
   ],
   "source": [
    "d = '10'\n",
    "\n",
    "print( str(c) + d )"
   ]
  },
  {
   "cell_type": "code",
   "execution_count": 4,
   "metadata": {},
   "outputs": [
    {
     "name": "stdout",
     "output_type": "stream",
     "text": [
      "13.14\n"
     ]
    }
   ],
   "source": [
    "e = 3.14\n",
    "f = 10\n",
    "\n",
    "print( e + f )"
   ]
  },
  {
   "cell_type": "code",
   "execution_count": 5,
   "metadata": {},
   "outputs": [
    {
     "name": "stdout",
     "output_type": "stream",
     "text": [
      "20\n"
     ]
    }
   ],
   "source": [
    "a = 10\n",
    "b = 10\n",
    "c = a + b\n",
    "print( c )"
   ]
  },
  {
   "cell_type": "code",
   "execution_count": 6,
   "metadata": {},
   "outputs": [
    {
     "name": "stdout",
     "output_type": "stream",
     "text": [
      "20.0\n"
     ]
    }
   ],
   "source": [
    "a = 10\n",
    "b = 10\n",
    "c = float(a) + float(b)\n",
    "print( c )"
   ]
  },
  {
   "cell_type": "code",
   "execution_count": 7,
   "metadata": {},
   "outputs": [
    {
     "name": "stdout",
     "output_type": "stream",
     "text": [
      "True\n",
      "False\n",
      "<class 'bool'>\n",
      "<class 'bool'>\n",
      "1\n",
      "0\n",
      "<class 'int'>\n",
      "<class 'int'>\n"
     ]
    }
   ],
   "source": [
    "a_bool = True\n",
    "b_bool = False\n",
    "a_int = 1\n",
    "b_int = 0\n",
    "\n",
    "print(a_bool)\n",
    "print(b_bool)\n",
    "print(type(a_bool))\n",
    "print(type(b_bool))\n",
    "print(a_int)\n",
    "print(b_int)\n",
    "print(type(a_int))\n",
    "print(type(b_int))"
   ]
  }
 ],
 "metadata": {
  "interpreter": {
   "hash": "ad2bdc8ecc057115af97d19610ffacc2b4e99fae6737bb82f5d7fb13d2f2c186"
  },
  "kernelspec": {
   "display_name": "Python 3.9.12 ('base')",
   "language": "python",
   "name": "python3"
  },
  "language_info": {
   "codemirror_mode": {
    "name": "ipython",
    "version": 3
   },
   "file_extension": ".py",
   "mimetype": "text/x-python",
   "name": "python",
   "nbconvert_exporter": "python",
   "pygments_lexer": "ipython3",
   "version": "3.9.12"
  },
  "orig_nbformat": 4
 },
 "nbformat": 4,
 "nbformat_minor": 2
}
