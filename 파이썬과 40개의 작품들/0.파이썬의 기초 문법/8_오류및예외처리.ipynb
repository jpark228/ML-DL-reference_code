{
 "cells": [
  {
   "cell_type": "code",
   "execution_count": 1,
   "metadata": {},
   "outputs": [
    {
     "ename": "NameError",
     "evalue": "name 'dsjafkldsajl' is not defined",
     "output_type": "error",
     "traceback": [
      "\u001b[1;31m---------------------------------------------------------------------------\u001b[0m",
      "\u001b[1;31mNameError\u001b[0m                                 Traceback (most recent call last)",
      "\u001b[1;32mc:\\Users\\Redbutterfly\\Desktop\\파이썬과 40개의 작품들\\0.파이썬의 기초 문법\\8_오류및예외처리.ipynb Cell 1'\u001b[0m in \u001b[0;36m<cell line: 1>\u001b[1;34m()\u001b[0m\n\u001b[1;32m----> <a href='vscode-notebook-cell:/c%3A/Users/Redbutterfly/Desktop/%ED%8C%8C%EC%9D%B4%EC%8D%AC%EA%B3%BC%2040%EA%B0%9C%EC%9D%98%20%EC%9E%91%ED%92%88%EB%93%A4/0.%ED%8C%8C%EC%9D%B4%EC%8D%AC%EC%9D%98%20%EA%B8%B0%EC%B4%88%20%EB%AC%B8%EB%B2%95/8_%EC%98%A4%EB%A5%98%EB%B0%8F%EC%98%88%EC%99%B8%EC%B2%98%EB%A6%AC.ipynb#ch0000000?line=0'>1</a>\u001b[0m dsjafkldsajl\n",
      "\u001b[1;31mNameError\u001b[0m: name 'dsjafkldsajl' is not defined"
     ]
    }
   ],
   "source": [
    "dsjafkldsajl"
   ]
  },
  {
   "cell_type": "code",
   "execution_count": 2,
   "metadata": {},
   "outputs": [
    {
     "name": "stdout",
     "output_type": "stream",
     "text": [
      "에러발생\n"
     ]
    }
   ],
   "source": [
    "try:\n",
    "    dsjafkldsajl\n",
    "except:\n",
    "    print(\"에러발생\")"
   ]
  },
  {
   "cell_type": "code",
   "execution_count": 3,
   "metadata": {},
   "outputs": [
    {
     "name": "stdout",
     "output_type": "stream",
     "text": [
      "에러를 무시\n"
     ]
    }
   ],
   "source": [
    "try:\n",
    "    dsjafkldsajl\n",
    "except:\n",
    "    pass\n",
    "\n",
    "print(\"에러를 무시\")"
   ]
  },
  {
   "cell_type": "code",
   "execution_count": 4,
   "metadata": {},
   "outputs": [
    {
     "name": "stdout",
     "output_type": "stream",
     "text": [
      "에러발생 원인 name 'dsjafkldsajl' is not defined\n"
     ]
    }
   ],
   "source": [
    "try:\n",
    "    dsjafkldsajl\n",
    "except Exception as e:\n",
    "    print(\"에러발생 원인\",e)"
   ]
  }
 ],
 "metadata": {
  "interpreter": {
   "hash": "ad2bdc8ecc057115af97d19610ffacc2b4e99fae6737bb82f5d7fb13d2f2c186"
  },
  "kernelspec": {
   "display_name": "Python 3.9.12 ('base')",
   "language": "python",
   "name": "python3"
  },
  "language_info": {
   "codemirror_mode": {
    "name": "ipython",
    "version": 3
   },
   "file_extension": ".py",
   "mimetype": "text/x-python",
   "name": "python",
   "nbconvert_exporter": "python",
   "pygments_lexer": "ipython3",
   "version": "3.9.12"
  },
  "orig_nbformat": 4
 },
 "nbformat": 4,
 "nbformat_minor": 2
}
